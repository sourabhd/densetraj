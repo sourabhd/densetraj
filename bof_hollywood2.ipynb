{
 "metadata": {
  "name": "",
  "signature": "sha256:045c4ca2929e385a7d287b1b0094f6c0529f212f943b8e2c5ec813e9ceec6815"
 },
 "nbformat": 3,
 "nbformat_minor": 0,
 "worksheets": [
  {
   "cells": [
    {
     "cell_type": "code",
     "collapsed": false,
     "input": [
      "from __future__ import print_function\n",
      "import os\n",
      "from glob import glob\n",
      "import time\n",
      "import os\n",
      "import socket\n",
      "from IPython import parallel\n",
      "from IPython.parallel.util import interactive"
     ],
     "language": "python",
     "metadata": {},
     "outputs": [],
     "prompt_number": 1
    },
    {
     "cell_type": "heading",
     "level": 2,
     "metadata": {},
     "source": [
      "Compute Dense Trajectories"
     ]
    },
    {
     "cell_type": "heading",
     "level": 3,
     "metadata": {},
     "source": [
      "Set up cluster"
     ]
    },
    {
     "cell_type": "code",
     "collapsed": false,
     "input": [
      "c = parallel.Client(profile='sge', sshserver='sdaptardar@130.245.4.230')\n",
      "view = c[:]\n",
      "view.block = False\n",
      "c.ids"
     ],
     "language": "python",
     "metadata": {},
     "outputs": [
      {
       "metadata": {},
       "output_type": "pyout",
       "prompt_number": 2,
       "text": [
        "[0, 1, 2, 3, 4, 5]"
       ]
      }
     ],
     "prompt_number": 2
    },
    {
     "cell_type": "code",
     "collapsed": false,
     "input": [],
     "language": "python",
     "metadata": {},
     "outputs": [],
     "prompt_number": 2
    },
    {
     "cell_type": "heading",
     "level": 3,
     "metadata": {},
     "source": [
      "Setup the dataset locations"
     ]
    },
    {
     "cell_type": "code",
     "collapsed": false,
     "input": [
      "src_densetraj = '/home/sdaptardar/actreg/dense_trajectory_release_v1.2'\n",
      "bin_densetraj = src_densetraj + os.sep + 'release' + os.sep + 'DenseTrack'\n",
      "\n",
      "dset_dir = '/nfs/bigeye/sdaptardar/Datasets/Hollywood2'\n",
      "dset_inp_dir =  dset_dir + os.sep + 'Hollywood2/'\n",
      "dset_inp_prefix = 'AVIClips' + os.sep + 'actionclip'"
     ],
     "language": "python",
     "metadata": {},
     "outputs": [],
     "prompt_number": 3
    },
    {
     "cell_type": "code",
     "collapsed": false,
     "input": [
      "train_files = [vfile for vfile in glob(dset_inp_dir + dset_inp_prefix + 'train' + '*')]\n",
      "test_files = [vfile for vfile in glob(dset_inp_dir + dset_inp_prefix + 'test' + '*')]\n",
      "\n",
      "print('#Train: ', len(train_files))\n",
      "print('#Test: ', len(test_files))"
     ],
     "language": "python",
     "metadata": {},
     "outputs": [
      {
       "output_type": "stream",
       "stream": "stdout",
       "text": [
        "#Train:  823\n",
        "#Test:  884\n"
       ]
      }
     ],
     "prompt_number": 4
    },
    {
     "cell_type": "code",
     "collapsed": false,
     "input": [
      "dset_out_dir = dset_dir + os.sep + 'HollyWood2_BOF_Results'\n",
      "dset_out_feat_train_dir = dset_out_dir + os.sep + 'train'\n",
      "dset_out_feat_test_dir = dset_out_dir + os.sep + 'test'\n",
      "view.push(dict(doftr_dir = dset_out_feat_train_dir, \n",
      "               dofte_dir = dset_out_feat_test_dir, \n",
      "               bin_densetraj = bin_densetraj)) "
     ],
     "language": "python",
     "metadata": {},
     "outputs": [
      {
       "metadata": {},
       "output_type": "pyout",
       "prompt_number": 5,
       "text": [
        "<AsyncResult: finished>"
       ]
      }
     ],
     "prompt_number": 5
    },
    {
     "cell_type": "code",
     "collapsed": false,
     "input": [
      "if not os.path.exists(dset_out_dir):\n",
      "    os.mkdir(dset_out_dir)\n",
      "if not os.path.exists(dset_out_feat_train_dir):\n",
      "    os.mkdir(dset_out_feat_train_dir)\n",
      "if not os.path.exists(dset_out_feat_test_dir):\n",
      "    os.mkdir(dset_out_feat_test_dir)\n",
      "    "
     ],
     "language": "python",
     "metadata": {},
     "outputs": [],
     "prompt_number": 6
    },
    {
     "cell_type": "heading",
     "level": 3,
     "metadata": {},
     "source": [
      "For running Dense Trajectory executable "
     ]
    },
    {
     "cell_type": "code",
     "collapsed": false,
     "input": [
      "\n",
      "\n",
      "def run_dt(video, ffile):\n",
      "    fout = open(ffile, 'w')\n",
      "    proc = Popen([bin_densetraj, video],  bufsize=1, stdout=fout, stderr=STDOUT, close_fds=True)\n",
      "    #for line in iter(proc.stdout.readline, b''):\n",
      "    #    print(line)\n",
      "    fout.close()\n",
      "    #proc.stdout.close()\n",
      "    proc.wait()\n",
      "\n",
      "def run_tr_dense_traj(tr_chunk):\n",
      "    import time\n",
      "    from subprocess import Popen, STDOUT, PIPE\n",
      "    import os\n",
      "    import socket\n",
      "    \n",
      "    def run_dt(video, ffile):\n",
      "        fout = open(ffile, 'w')\n",
      "        proc = Popen([bin_densetraj, video],  bufsize=1, stdout=fout, stderr=STDOUT, close_fds=True)\n",
      "        fout.close()\n",
      "        proc.wait()\n",
      "    \n",
      "    M = []\n",
      "    for tr in tr_chunk:\n",
      "        #print(tr)\n",
      "        t1 = time.time()\n",
      "        feat_file = doftr_dir + os.sep + \\\n",
      "                   os.path.splitext(os.path.basename(tr))[0]+ \".txt\"\n",
      "        run_dt(tr, feat_file)\n",
      "        t2 = time.time()\n",
      "        time_taken = t2 - t1\n",
      "        msg = '%s,%d,%s,%f\\n' % (tr, os.getpid(), socket.gethostname(), time_taken)\n",
      "        print(msg)\n",
      "        M.append(msg)\n",
      "    return M\n",
      " \n",
      "\n",
      "def run_te_dense_traj(te_chunk):\n",
      "    import time\n",
      "    from subprocess import Popen, STDOUT, PIPE\n",
      "    import os\n",
      "    import socket\n",
      "    \n",
      "    M = []\n",
      "    \n",
      "    def run_dt(video, ffile):\n",
      "        fout = open(ffile, 'w')\n",
      "        proc = Popen([bin_densetraj, video],  bufsize=1, stdout=fout, stderr=STDOUT, close_fds=True)\n",
      "        fout.close()\n",
      "        proc.wait()\n",
      "\n",
      "###\n",
      "#    for te in te_chunk:\n",
      "#        #print(te)\n",
      "#        t1 = time.time()\n",
      "#        feat_file = dofte_dir + os.sep + \\\n",
      "#                    os.path.splitext(os.path.basename(te))[0]+ \".txt\"\n",
      "#        run_dt(te, feat_file)\n",
      "#        t2 = time.time()\n",
      "#        time_taken = t2 - t1\n",
      "#        msg = '%s,%d,%s,%f\\n' % (te, os.getpid(), socket.gethostname(), time_taken)\n",
      "#        print(msg)\n",
      "#    return M"
     ],
     "language": "python",
     "metadata": {},
     "outputs": [],
     "prompt_number": 7
    },
    {
     "cell_type": "heading",
     "level": 3,
     "metadata": {},
     "source": [
      "Run"
     ]
    },
    {
     "cell_type": "code",
     "collapsed": false,
     "input": [
      "chunks1 = view.scatter('chunks1', [tr for tr in train_files])\n",
      "#chunks2 = view.scatter('chunks2', [te for te in test_files])\n",
      "res1 = view.map(run_tr_dense_traj, view['chunks1'])    \n",
      "#res2 = view.map(run_te_dense_traj, view['chunks2'])"
     ],
     "language": "python",
     "metadata": {},
     "outputs": [],
     "prompt_number": 8
    },
    {
     "cell_type": "heading",
     "level": 3,
     "metadata": {},
     "source": [
      "Monitor progress"
     ]
    },
    {
     "cell_type": "code",
     "collapsed": false,
     "input": [
      "import time\n",
      "while not res1.ready():\n",
      "    time.sleep(30)\n",
      "    print(res1.progress)"
     ],
     "language": "python",
     "metadata": {},
     "outputs": [
      {
       "output_type": "stream",
       "stream": "stdout",
       "text": [
        "0\n",
        "0"
       ]
      },
      {
       "output_type": "stream",
       "stream": "stdout",
       "text": [
        "\n",
        "0"
       ]
      },
      {
       "output_type": "stream",
       "stream": "stdout",
       "text": [
        "\n",
        "0"
       ]
      },
      {
       "output_type": "stream",
       "stream": "stdout",
       "text": [
        "\n",
        "0"
       ]
      },
      {
       "output_type": "stream",
       "stream": "stdout",
       "text": [
        "\n",
        "0"
       ]
      },
      {
       "output_type": "stream",
       "stream": "stdout",
       "text": [
        "\n",
        "0"
       ]
      },
      {
       "output_type": "stream",
       "stream": "stdout",
       "text": [
        "\n",
        "0"
       ]
      },
      {
       "output_type": "stream",
       "stream": "stdout",
       "text": [
        "\n",
        "0"
       ]
      },
      {
       "output_type": "stream",
       "stream": "stdout",
       "text": [
        "\n",
        "0"
       ]
      },
      {
       "output_type": "stream",
       "stream": "stdout",
       "text": [
        "\n",
        "0"
       ]
      },
      {
       "output_type": "stream",
       "stream": "stdout",
       "text": [
        "\n",
        "0"
       ]
      },
      {
       "output_type": "stream",
       "stream": "stdout",
       "text": [
        "\n",
        "0"
       ]
      },
      {
       "output_type": "stream",
       "stream": "stdout",
       "text": [
        "\n",
        "0"
       ]
      },
      {
       "output_type": "stream",
       "stream": "stdout",
       "text": [
        "\n",
        "0"
       ]
      },
      {
       "output_type": "stream",
       "stream": "stdout",
       "text": [
        "\n",
        "0"
       ]
      },
      {
       "output_type": "stream",
       "stream": "stdout",
       "text": [
        "\n",
        "0"
       ]
      },
      {
       "output_type": "stream",
       "stream": "stdout",
       "text": [
        "\n",
        "0"
       ]
      },
      {
       "output_type": "stream",
       "stream": "stdout",
       "text": [
        "\n",
        "0"
       ]
      },
      {
       "output_type": "stream",
       "stream": "stdout",
       "text": [
        "\n",
        "0"
       ]
      },
      {
       "output_type": "stream",
       "stream": "stdout",
       "text": [
        "\n",
        "0"
       ]
      },
      {
       "output_type": "stream",
       "stream": "stdout",
       "text": [
        "\n",
        "0"
       ]
      },
      {
       "output_type": "stream",
       "stream": "stdout",
       "text": [
        "\n",
        "0"
       ]
      },
      {
       "output_type": "stream",
       "stream": "stdout",
       "text": [
        "\n",
        "0"
       ]
      },
      {
       "output_type": "stream",
       "stream": "stdout",
       "text": [
        "\n",
        "0"
       ]
      },
      {
       "output_type": "stream",
       "stream": "stdout",
       "text": [
        "\n",
        "0"
       ]
      },
      {
       "output_type": "stream",
       "stream": "stdout",
       "text": [
        "\n",
        "0"
       ]
      },
      {
       "output_type": "stream",
       "stream": "stdout",
       "text": [
        "\n",
        "0"
       ]
      },
      {
       "output_type": "stream",
       "stream": "stdout",
       "text": [
        "\n",
        "0"
       ]
      },
      {
       "output_type": "stream",
       "stream": "stdout",
       "text": [
        "\n",
        "0"
       ]
      },
      {
       "output_type": "stream",
       "stream": "stdout",
       "text": [
        "\n",
        "0"
       ]
      },
      {
       "output_type": "stream",
       "stream": "stdout",
       "text": [
        "\n",
        "0"
       ]
      },
      {
       "output_type": "stream",
       "stream": "stdout",
       "text": [
        "\n",
        "0"
       ]
      },
      {
       "output_type": "stream",
       "stream": "stdout",
       "text": [
        "\n",
        "0"
       ]
      },
      {
       "output_type": "stream",
       "stream": "stdout",
       "text": [
        "\n",
        "0"
       ]
      },
      {
       "output_type": "stream",
       "stream": "stdout",
       "text": [
        "\n",
        "0"
       ]
      },
      {
       "output_type": "stream",
       "stream": "stdout",
       "text": [
        "\n",
        "0"
       ]
      },
      {
       "output_type": "stream",
       "stream": "stdout",
       "text": [
        "\n",
        "0"
       ]
      },
      {
       "output_type": "stream",
       "stream": "stdout",
       "text": [
        "\n",
        "0"
       ]
      },
      {
       "output_type": "stream",
       "stream": "stdout",
       "text": [
        "\n",
        "0"
       ]
      },
      {
       "output_type": "stream",
       "stream": "stdout",
       "text": [
        "\n",
        "0"
       ]
      },
      {
       "output_type": "stream",
       "stream": "stdout",
       "text": [
        "\n",
        "0"
       ]
      },
      {
       "output_type": "stream",
       "stream": "stdout",
       "text": [
        "\n",
        "0"
       ]
      },
      {
       "output_type": "stream",
       "stream": "stdout",
       "text": [
        "\n",
        "0"
       ]
      },
      {
       "output_type": "stream",
       "stream": "stdout",
       "text": [
        "\n",
        "0"
       ]
      },
      {
       "output_type": "stream",
       "stream": "stdout",
       "text": [
        "\n",
        "0"
       ]
      },
      {
       "output_type": "stream",
       "stream": "stdout",
       "text": [
        "\n",
        "0"
       ]
      },
      {
       "output_type": "stream",
       "stream": "stdout",
       "text": [
        "\n",
        "0"
       ]
      },
      {
       "output_type": "stream",
       "stream": "stdout",
       "text": [
        "\n",
        "0"
       ]
      },
      {
       "output_type": "stream",
       "stream": "stdout",
       "text": [
        "\n",
        "0"
       ]
      },
      {
       "output_type": "stream",
       "stream": "stdout",
       "text": [
        "\n",
        "0"
       ]
      },
      {
       "output_type": "stream",
       "stream": "stdout",
       "text": [
        "\n",
        "0"
       ]
      },
      {
       "output_type": "stream",
       "stream": "stdout",
       "text": [
        "\n",
        "0"
       ]
      },
      {
       "output_type": "stream",
       "stream": "stdout",
       "text": [
        "\n",
        "0"
       ]
      },
      {
       "output_type": "stream",
       "stream": "stdout",
       "text": [
        "\n",
        "0"
       ]
      },
      {
       "output_type": "stream",
       "stream": "stdout",
       "text": [
        "\n",
        "0"
       ]
      },
      {
       "output_type": "stream",
       "stream": "stdout",
       "text": [
        "\n",
        "0"
       ]
      },
      {
       "output_type": "stream",
       "stream": "stdout",
       "text": [
        "\n",
        "0"
       ]
      },
      {
       "output_type": "stream",
       "stream": "stdout",
       "text": [
        "\n",
        "0"
       ]
      },
      {
       "output_type": "stream",
       "stream": "stdout",
       "text": [
        "\n",
        "0"
       ]
      },
      {
       "output_type": "stream",
       "stream": "stdout",
       "text": [
        "\n",
        "0"
       ]
      },
      {
       "output_type": "stream",
       "stream": "stdout",
       "text": [
        "\n",
        "0"
       ]
      },
      {
       "output_type": "stream",
       "stream": "stdout",
       "text": [
        "\n",
        "0"
       ]
      },
      {
       "output_type": "stream",
       "stream": "stdout",
       "text": [
        "\n",
        "0"
       ]
      },
      {
       "output_type": "stream",
       "stream": "stdout",
       "text": [
        "\n",
        "0"
       ]
      },
      {
       "output_type": "stream",
       "stream": "stdout",
       "text": [
        "\n",
        "0"
       ]
      },
      {
       "output_type": "stream",
       "stream": "stdout",
       "text": [
        "\n",
        "0"
       ]
      },
      {
       "output_type": "stream",
       "stream": "stdout",
       "text": [
        "\n",
        "0"
       ]
      },
      {
       "output_type": "stream",
       "stream": "stdout",
       "text": [
        "\n",
        "0"
       ]
      },
      {
       "output_type": "stream",
       "stream": "stdout",
       "text": [
        "\n",
        "0"
       ]
      },
      {
       "output_type": "stream",
       "stream": "stdout",
       "text": [
        "\n",
        "0"
       ]
      },
      {
       "output_type": "stream",
       "stream": "stdout",
       "text": [
        "\n",
        "0"
       ]
      },
      {
       "output_type": "stream",
       "stream": "stdout",
       "text": [
        "\n",
        "0"
       ]
      },
      {
       "output_type": "stream",
       "stream": "stdout",
       "text": [
        "\n",
        "0"
       ]
      },
      {
       "output_type": "stream",
       "stream": "stdout",
       "text": [
        "\n",
        "0"
       ]
      },
      {
       "output_type": "stream",
       "stream": "stdout",
       "text": [
        "\n",
        "0"
       ]
      },
      {
       "output_type": "stream",
       "stream": "stdout",
       "text": [
        "\n",
        "0"
       ]
      },
      {
       "output_type": "stream",
       "stream": "stdout",
       "text": [
        "\n",
        "0"
       ]
      },
      {
       "output_type": "stream",
       "stream": "stdout",
       "text": [
        "\n",
        "0"
       ]
      },
      {
       "output_type": "stream",
       "stream": "stdout",
       "text": [
        "\n",
        "0"
       ]
      },
      {
       "output_type": "stream",
       "stream": "stdout",
       "text": [
        "\n",
        "0"
       ]
      },
      {
       "output_type": "stream",
       "stream": "stdout",
       "text": [
        "\n",
        "0"
       ]
      },
      {
       "output_type": "stream",
       "stream": "stdout",
       "text": [
        "\n",
        "0"
       ]
      },
      {
       "output_type": "stream",
       "stream": "stdout",
       "text": [
        "\n",
        "0"
       ]
      },
      {
       "output_type": "stream",
       "stream": "stdout",
       "text": [
        "\n",
        "0"
       ]
      },
      {
       "output_type": "stream",
       "stream": "stdout",
       "text": [
        "\n",
        "0"
       ]
      },
      {
       "output_type": "stream",
       "stream": "stdout",
       "text": [
        "\n",
        "0"
       ]
      },
      {
       "output_type": "stream",
       "stream": "stdout",
       "text": [
        "\n",
        "0"
       ]
      },
      {
       "output_type": "stream",
       "stream": "stdout",
       "text": [
        "\n",
        "0"
       ]
      },
      {
       "output_type": "stream",
       "stream": "stdout",
       "text": [
        "\n",
        "0"
       ]
      },
      {
       "output_type": "stream",
       "stream": "stdout",
       "text": [
        "\n",
        "0"
       ]
      },
      {
       "output_type": "stream",
       "stream": "stdout",
       "text": [
        "\n",
        "0"
       ]
      },
      {
       "output_type": "stream",
       "stream": "stdout",
       "text": [
        "\n",
        "0"
       ]
      },
      {
       "output_type": "stream",
       "stream": "stdout",
       "text": [
        "\n",
        "0"
       ]
      },
      {
       "output_type": "stream",
       "stream": "stdout",
       "text": [
        "\n",
        "0"
       ]
      },
      {
       "output_type": "stream",
       "stream": "stdout",
       "text": [
        "\n",
        "0"
       ]
      },
      {
       "output_type": "stream",
       "stream": "stdout",
       "text": [
        "\n",
        "0"
       ]
      },
      {
       "output_type": "stream",
       "stream": "stdout",
       "text": [
        "\n",
        "0"
       ]
      },
      {
       "output_type": "stream",
       "stream": "stdout",
       "text": [
        "\n",
        "0"
       ]
      },
      {
       "output_type": "stream",
       "stream": "stdout",
       "text": [
        "\n",
        "0"
       ]
      },
      {
       "output_type": "stream",
       "stream": "stdout",
       "text": [
        "\n",
        "0"
       ]
      },
      {
       "output_type": "stream",
       "stream": "stdout",
       "text": [
        "\n",
        "0"
       ]
      },
      {
       "output_type": "stream",
       "stream": "stdout",
       "text": [
        "\n",
        "0"
       ]
      },
      {
       "output_type": "stream",
       "stream": "stdout",
       "text": [
        "\n",
        "0"
       ]
      },
      {
       "output_type": "stream",
       "stream": "stdout",
       "text": [
        "\n",
        "0"
       ]
      },
      {
       "output_type": "stream",
       "stream": "stdout",
       "text": [
        "\n",
        "0"
       ]
      },
      {
       "output_type": "stream",
       "stream": "stdout",
       "text": [
        "\n",
        "0"
       ]
      },
      {
       "output_type": "stream",
       "stream": "stdout",
       "text": [
        "\n",
        "0"
       ]
      },
      {
       "output_type": "stream",
       "stream": "stdout",
       "text": [
        "\n",
        "0"
       ]
      },
      {
       "output_type": "stream",
       "stream": "stdout",
       "text": [
        "\n",
        "0"
       ]
      },
      {
       "output_type": "stream",
       "stream": "stdout",
       "text": [
        "\n",
        "0"
       ]
      },
      {
       "output_type": "stream",
       "stream": "stdout",
       "text": [
        "\n",
        "0"
       ]
      },
      {
       "output_type": "stream",
       "stream": "stdout",
       "text": [
        "\n",
        "0"
       ]
      },
      {
       "output_type": "stream",
       "stream": "stdout",
       "text": [
        "\n",
        "0"
       ]
      },
      {
       "output_type": "stream",
       "stream": "stdout",
       "text": [
        "\n",
        "0"
       ]
      },
      {
       "output_type": "stream",
       "stream": "stdout",
       "text": [
        "\n",
        "0"
       ]
      },
      {
       "output_type": "stream",
       "stream": "stdout",
       "text": [
        "\n",
        "0"
       ]
      },
      {
       "output_type": "stream",
       "stream": "stdout",
       "text": [
        "\n",
        "0"
       ]
      },
      {
       "output_type": "stream",
       "stream": "stdout",
       "text": [
        "\n",
        "0"
       ]
      },
      {
       "output_type": "stream",
       "stream": "stdout",
       "text": [
        "\n",
        "0"
       ]
      },
      {
       "output_type": "stream",
       "stream": "stdout",
       "text": [
        "\n",
        "0"
       ]
      },
      {
       "output_type": "stream",
       "stream": "stdout",
       "text": [
        "\n",
        "0"
       ]
      },
      {
       "output_type": "stream",
       "stream": "stdout",
       "text": [
        "\n",
        "0"
       ]
      },
      {
       "output_type": "stream",
       "stream": "stdout",
       "text": [
        "\n",
        "0"
       ]
      },
      {
       "output_type": "stream",
       "stream": "stdout",
       "text": [
        "\n",
        "0"
       ]
      },
      {
       "output_type": "stream",
       "stream": "stdout",
       "text": [
        "\n",
        "0"
       ]
      },
      {
       "output_type": "stream",
       "stream": "stdout",
       "text": [
        "\n",
        "0"
       ]
      },
      {
       "output_type": "stream",
       "stream": "stdout",
       "text": [
        "\n",
        "0"
       ]
      },
      {
       "output_type": "stream",
       "stream": "stdout",
       "text": [
        "\n",
        "0"
       ]
      },
      {
       "output_type": "stream",
       "stream": "stdout",
       "text": [
        "\n",
        "0"
       ]
      },
      {
       "output_type": "stream",
       "stream": "stdout",
       "text": [
        "\n",
        "0"
       ]
      },
      {
       "output_type": "stream",
       "stream": "stdout",
       "text": [
        "\n",
        "0"
       ]
      },
      {
       "output_type": "stream",
       "stream": "stdout",
       "text": [
        "\n",
        "0"
       ]
      },
      {
       "output_type": "stream",
       "stream": "stdout",
       "text": [
        "\n",
        "0"
       ]
      },
      {
       "output_type": "stream",
       "stream": "stdout",
       "text": [
        "\n",
        "0"
       ]
      },
      {
       "output_type": "stream",
       "stream": "stdout",
       "text": [
        "\n",
        "0"
       ]
      },
      {
       "output_type": "stream",
       "stream": "stdout",
       "text": [
        "\n",
        "0"
       ]
      },
      {
       "output_type": "stream",
       "stream": "stdout",
       "text": [
        "\n",
        "0"
       ]
      },
      {
       "output_type": "stream",
       "stream": "stdout",
       "text": [
        "\n",
        "0"
       ]
      },
      {
       "output_type": "stream",
       "stream": "stdout",
       "text": [
        "\n",
        "0"
       ]
      },
      {
       "output_type": "stream",
       "stream": "stdout",
       "text": [
        "\n",
        "0"
       ]
      },
      {
       "output_type": "stream",
       "stream": "stdout",
       "text": [
        "\n",
        "0"
       ]
      },
      {
       "output_type": "stream",
       "stream": "stdout",
       "text": [
        "\n",
        "0"
       ]
      },
      {
       "output_type": "stream",
       "stream": "stdout",
       "text": [
        "\n",
        "0"
       ]
      },
      {
       "output_type": "stream",
       "stream": "stdout",
       "text": [
        "\n",
        "0"
       ]
      },
      {
       "output_type": "stream",
       "stream": "stdout",
       "text": [
        "\n",
        "0"
       ]
      },
      {
       "output_type": "stream",
       "stream": "stdout",
       "text": [
        "\n",
        "0"
       ]
      },
      {
       "output_type": "stream",
       "stream": "stdout",
       "text": [
        "\n",
        "0"
       ]
      },
      {
       "output_type": "stream",
       "stream": "stdout",
       "text": [
        "\n",
        "0"
       ]
      },
      {
       "output_type": "stream",
       "stream": "stdout",
       "text": [
        "\n",
        "0"
       ]
      },
      {
       "output_type": "stream",
       "stream": "stdout",
       "text": [
        "\n",
        "0"
       ]
      },
      {
       "output_type": "stream",
       "stream": "stdout",
       "text": [
        "\n",
        "0"
       ]
      },
      {
       "output_type": "stream",
       "stream": "stdout",
       "text": [
        "\n",
        "0"
       ]
      },
      {
       "output_type": "stream",
       "stream": "stdout",
       "text": [
        "\n",
        "0"
       ]
      },
      {
       "output_type": "stream",
       "stream": "stdout",
       "text": [
        "\n",
        "0"
       ]
      },
      {
       "output_type": "stream",
       "stream": "stdout",
       "text": [
        "\n",
        "0"
       ]
      },
      {
       "output_type": "stream",
       "stream": "stdout",
       "text": [
        "\n",
        "0"
       ]
      },
      {
       "output_type": "stream",
       "stream": "stdout",
       "text": [
        "\n",
        "0"
       ]
      },
      {
       "output_type": "stream",
       "stream": "stdout",
       "text": [
        "\n",
        "0"
       ]
      },
      {
       "output_type": "stream",
       "stream": "stdout",
       "text": [
        "\n",
        "0"
       ]
      },
      {
       "output_type": "stream",
       "stream": "stdout",
       "text": [
        "\n",
        "0"
       ]
      },
      {
       "output_type": "stream",
       "stream": "stdout",
       "text": [
        "\n",
        "0"
       ]
      },
      {
       "output_type": "stream",
       "stream": "stdout",
       "text": [
        "\n",
        "0"
       ]
      },
      {
       "output_type": "stream",
       "stream": "stdout",
       "text": [
        "\n",
        "0"
       ]
      },
      {
       "output_type": "stream",
       "stream": "stdout",
       "text": [
        "\n",
        "0"
       ]
      },
      {
       "output_type": "stream",
       "stream": "stdout",
       "text": [
        "\n",
        "0"
       ]
      },
      {
       "output_type": "stream",
       "stream": "stdout",
       "text": [
        "\n",
        "0"
       ]
      },
      {
       "output_type": "stream",
       "stream": "stdout",
       "text": [
        "\n",
        "0"
       ]
      },
      {
       "output_type": "stream",
       "stream": "stdout",
       "text": [
        "\n",
        "0"
       ]
      },
      {
       "output_type": "stream",
       "stream": "stdout",
       "text": [
        "\n",
        "0"
       ]
      },
      {
       "output_type": "stream",
       "stream": "stdout",
       "text": [
        "\n",
        "0"
       ]
      },
      {
       "output_type": "stream",
       "stream": "stdout",
       "text": [
        "\n",
        "0"
       ]
      },
      {
       "output_type": "stream",
       "stream": "stdout",
       "text": [
        "\n",
        "0"
       ]
      },
      {
       "output_type": "stream",
       "stream": "stdout",
       "text": [
        "\n",
        "0"
       ]
      },
      {
       "output_type": "stream",
       "stream": "stdout",
       "text": [
        "\n",
        "0"
       ]
      },
      {
       "output_type": "stream",
       "stream": "stdout",
       "text": [
        "\n",
        "0"
       ]
      },
      {
       "output_type": "stream",
       "stream": "stdout",
       "text": [
        "\n",
        "0"
       ]
      },
      {
       "output_type": "stream",
       "stream": "stdout",
       "text": [
        "\n",
        "0"
       ]
      },
      {
       "output_type": "stream",
       "stream": "stdout",
       "text": [
        "\n",
        "0"
       ]
      },
      {
       "output_type": "stream",
       "stream": "stdout",
       "text": [
        "\n",
        "0"
       ]
      },
      {
       "output_type": "stream",
       "stream": "stdout",
       "text": [
        "\n",
        "0"
       ]
      },
      {
       "output_type": "stream",
       "stream": "stdout",
       "text": [
        "\n",
        "0"
       ]
      },
      {
       "output_type": "stream",
       "stream": "stdout",
       "text": [
        "\n",
        "0"
       ]
      },
      {
       "output_type": "stream",
       "stream": "stdout",
       "text": [
        "\n",
        "0"
       ]
      },
      {
       "output_type": "stream",
       "stream": "stdout",
       "text": [
        "\n",
        "0"
       ]
      },
      {
       "output_type": "stream",
       "stream": "stdout",
       "text": [
        "\n",
        "0"
       ]
      },
      {
       "output_type": "stream",
       "stream": "stdout",
       "text": [
        "\n",
        "0"
       ]
      },
      {
       "output_type": "stream",
       "stream": "stdout",
       "text": [
        "\n",
        "0"
       ]
      },
      {
       "output_type": "stream",
       "stream": "stdout",
       "text": [
        "\n",
        "0"
       ]
      },
      {
       "output_type": "stream",
       "stream": "stdout",
       "text": [
        "\n",
        "0"
       ]
      },
      {
       "output_type": "stream",
       "stream": "stdout",
       "text": [
        "\n",
        "0"
       ]
      },
      {
       "output_type": "stream",
       "stream": "stdout",
       "text": [
        "\n",
        "0"
       ]
      },
      {
       "output_type": "stream",
       "stream": "stdout",
       "text": [
        "\n",
        "0"
       ]
      },
      {
       "output_type": "stream",
       "stream": "stdout",
       "text": [
        "\n",
        "0"
       ]
      },
      {
       "output_type": "stream",
       "stream": "stdout",
       "text": [
        "\n",
        "0"
       ]
      },
      {
       "output_type": "stream",
       "stream": "stdout",
       "text": [
        "\n",
        "0"
       ]
      },
      {
       "output_type": "stream",
       "stream": "stdout",
       "text": [
        "\n",
        "0"
       ]
      },
      {
       "output_type": "stream",
       "stream": "stdout",
       "text": [
        "\n",
        "0"
       ]
      },
      {
       "output_type": "stream",
       "stream": "stdout",
       "text": [
        "\n",
        "0"
       ]
      },
      {
       "output_type": "stream",
       "stream": "stdout",
       "text": [
        "\n",
        "0"
       ]
      },
      {
       "output_type": "stream",
       "stream": "stdout",
       "text": [
        "\n",
        "0"
       ]
      },
      {
       "output_type": "stream",
       "stream": "stdout",
       "text": [
        "\n",
        "0"
       ]
      },
      {
       "output_type": "stream",
       "stream": "stdout",
       "text": [
        "\n",
        "0"
       ]
      },
      {
       "output_type": "stream",
       "stream": "stdout",
       "text": [
        "\n",
        "0"
       ]
      },
      {
       "output_type": "stream",
       "stream": "stdout",
       "text": [
        "\n",
        "0"
       ]
      },
      {
       "output_type": "stream",
       "stream": "stdout",
       "text": [
        "\n",
        "0"
       ]
      },
      {
       "output_type": "stream",
       "stream": "stdout",
       "text": [
        "\n",
        "0"
       ]
      },
      {
       "output_type": "stream",
       "stream": "stdout",
       "text": [
        "\n",
        "0"
       ]
      },
      {
       "output_type": "stream",
       "stream": "stdout",
       "text": [
        "\n",
        "0"
       ]
      },
      {
       "output_type": "stream",
       "stream": "stdout",
       "text": [
        "\n",
        "0"
       ]
      },
      {
       "output_type": "stream",
       "stream": "stdout",
       "text": [
        "\n",
        "0"
       ]
      },
      {
       "output_type": "stream",
       "stream": "stdout",
       "text": [
        "\n",
        "0"
       ]
      },
      {
       "output_type": "stream",
       "stream": "stdout",
       "text": [
        "\n",
        "0"
       ]
      },
      {
       "output_type": "stream",
       "stream": "stdout",
       "text": [
        "\n",
        "0"
       ]
      },
      {
       "output_type": "stream",
       "stream": "stdout",
       "text": [
        "\n",
        "0"
       ]
      },
      {
       "output_type": "stream",
       "stream": "stdout",
       "text": [
        "\n",
        "0"
       ]
      },
      {
       "output_type": "stream",
       "stream": "stdout",
       "text": [
        "\n",
        "0"
       ]
      },
      {
       "output_type": "stream",
       "stream": "stdout",
       "text": [
        "\n",
        "0"
       ]
      },
      {
       "output_type": "stream",
       "stream": "stdout",
       "text": [
        "\n",
        "0"
       ]
      },
      {
       "output_type": "stream",
       "stream": "stdout",
       "text": [
        "\n",
        "0"
       ]
      },
      {
       "output_type": "stream",
       "stream": "stdout",
       "text": [
        "\n",
        "0"
       ]
      },
      {
       "output_type": "stream",
       "stream": "stdout",
       "text": [
        "\n",
        "0"
       ]
      },
      {
       "output_type": "stream",
       "stream": "stdout",
       "text": [
        "\n",
        "0"
       ]
      },
      {
       "output_type": "stream",
       "stream": "stdout",
       "text": [
        "\n",
        "0"
       ]
      },
      {
       "output_type": "stream",
       "stream": "stdout",
       "text": [
        "\n",
        "0"
       ]
      },
      {
       "output_type": "stream",
       "stream": "stdout",
       "text": [
        "\n",
        "0"
       ]
      },
      {
       "output_type": "stream",
       "stream": "stdout",
       "text": [
        "\n",
        "0"
       ]
      },
      {
       "output_type": "stream",
       "stream": "stdout",
       "text": [
        "\n",
        "0"
       ]
      },
      {
       "output_type": "stream",
       "stream": "stdout",
       "text": [
        "\n",
        "0"
       ]
      },
      {
       "output_type": "stream",
       "stream": "stdout",
       "text": [
        "\n",
        "0"
       ]
      },
      {
       "output_type": "stream",
       "stream": "stdout",
       "text": [
        "\n",
        "0"
       ]
      },
      {
       "output_type": "stream",
       "stream": "stdout",
       "text": [
        "\n",
        "0"
       ]
      },
      {
       "output_type": "stream",
       "stream": "stdout",
       "text": [
        "\n",
        "0"
       ]
      },
      {
       "output_type": "stream",
       "stream": "stdout",
       "text": [
        "\n",
        "0"
       ]
      },
      {
       "output_type": "stream",
       "stream": "stdout",
       "text": [
        "\n",
        "0"
       ]
      },
      {
       "output_type": "stream",
       "stream": "stdout",
       "text": [
        "\n",
        "0"
       ]
      },
      {
       "output_type": "stream",
       "stream": "stdout",
       "text": [
        "\n",
        "0"
       ]
      },
      {
       "output_type": "stream",
       "stream": "stdout",
       "text": [
        "\n",
        "0"
       ]
      },
      {
       "output_type": "stream",
       "stream": "stdout",
       "text": [
        "\n",
        "0"
       ]
      },
      {
       "output_type": "stream",
       "stream": "stdout",
       "text": [
        "\n",
        "0"
       ]
      },
      {
       "output_type": "stream",
       "stream": "stdout",
       "text": [
        "\n",
        "0"
       ]
      },
      {
       "output_type": "stream",
       "stream": "stdout",
       "text": [
        "\n",
        "0"
       ]
      },
      {
       "output_type": "stream",
       "stream": "stdout",
       "text": [
        "\n",
        "0"
       ]
      },
      {
       "output_type": "stream",
       "stream": "stdout",
       "text": [
        "\n",
        "0"
       ]
      },
      {
       "output_type": "stream",
       "stream": "stdout",
       "text": [
        "\n",
        "0"
       ]
      },
      {
       "output_type": "stream",
       "stream": "stdout",
       "text": [
        "\n",
        "0"
       ]
      },
      {
       "output_type": "stream",
       "stream": "stdout",
       "text": [
        "\n",
        "0"
       ]
      },
      {
       "output_type": "stream",
       "stream": "stdout",
       "text": [
        "\n",
        "0"
       ]
      },
      {
       "output_type": "stream",
       "stream": "stdout",
       "text": [
        "\n",
        "0"
       ]
      },
      {
       "output_type": "stream",
       "stream": "stdout",
       "text": [
        "\n",
        "0"
       ]
      },
      {
       "output_type": "stream",
       "stream": "stdout",
       "text": [
        "\n",
        "0"
       ]
      },
      {
       "output_type": "stream",
       "stream": "stdout",
       "text": [
        "\n",
        "0"
       ]
      },
      {
       "output_type": "stream",
       "stream": "stdout",
       "text": [
        "\n",
        "0"
       ]
      },
      {
       "output_type": "stream",
       "stream": "stdout",
       "text": [
        "\n",
        "0"
       ]
      },
      {
       "output_type": "stream",
       "stream": "stdout",
       "text": [
        "\n",
        "0"
       ]
      },
      {
       "output_type": "stream",
       "stream": "stdout",
       "text": [
        "\n",
        "0"
       ]
      },
      {
       "output_type": "stream",
       "stream": "stdout",
       "text": [
        "\n",
        "0"
       ]
      },
      {
       "output_type": "stream",
       "stream": "stdout",
       "text": [
        "\n",
        "0"
       ]
      },
      {
       "output_type": "stream",
       "stream": "stdout",
       "text": [
        "\n",
        "0"
       ]
      },
      {
       "output_type": "stream",
       "stream": "stdout",
       "text": [
        "\n",
        "0"
       ]
      },
      {
       "output_type": "stream",
       "stream": "stdout",
       "text": [
        "\n",
        "0"
       ]
      },
      {
       "output_type": "stream",
       "stream": "stdout",
       "text": [
        "\n",
        "0"
       ]
      },
      {
       "output_type": "stream",
       "stream": "stdout",
       "text": [
        "\n",
        "0"
       ]
      },
      {
       "output_type": "stream",
       "stream": "stdout",
       "text": [
        "\n",
        "0"
       ]
      },
      {
       "output_type": "stream",
       "stream": "stdout",
       "text": [
        "\n",
        "0"
       ]
      },
      {
       "output_type": "stream",
       "stream": "stdout",
       "text": [
        "\n",
        "0"
       ]
      },
      {
       "output_type": "stream",
       "stream": "stdout",
       "text": [
        "\n",
        "0"
       ]
      },
      {
       "output_type": "stream",
       "stream": "stdout",
       "text": [
        "\n",
        "0"
       ]
      },
      {
       "output_type": "stream",
       "stream": "stdout",
       "text": [
        "\n",
        "0"
       ]
      },
      {
       "output_type": "stream",
       "stream": "stdout",
       "text": [
        "\n",
        "0"
       ]
      },
      {
       "output_type": "stream",
       "stream": "stdout",
       "text": [
        "\n",
        "0"
       ]
      },
      {
       "output_type": "stream",
       "stream": "stdout",
       "text": [
        "\n",
        "0"
       ]
      },
      {
       "output_type": "stream",
       "stream": "stdout",
       "text": [
        "\n",
        "0"
       ]
      },
      {
       "output_type": "stream",
       "stream": "stdout",
       "text": [
        "\n",
        "0"
       ]
      },
      {
       "output_type": "stream",
       "stream": "stdout",
       "text": [
        "\n",
        "0"
       ]
      },
      {
       "output_type": "stream",
       "stream": "stdout",
       "text": [
        "\n",
        "0"
       ]
      },
      {
       "output_type": "stream",
       "stream": "stdout",
       "text": [
        "\n",
        "0"
       ]
      },
      {
       "output_type": "stream",
       "stream": "stdout",
       "text": [
        "\n",
        "0"
       ]
      },
      {
       "output_type": "stream",
       "stream": "stdout",
       "text": [
        "\n",
        "0"
       ]
      },
      {
       "output_type": "stream",
       "stream": "stdout",
       "text": [
        "\n",
        "0"
       ]
      },
      {
       "output_type": "stream",
       "stream": "stdout",
       "text": [
        "\n",
        "0"
       ]
      },
      {
       "output_type": "stream",
       "stream": "stdout",
       "text": [
        "\n",
        "0"
       ]
      },
      {
       "output_type": "stream",
       "stream": "stdout",
       "text": [
        "\n",
        "0"
       ]
      },
      {
       "output_type": "stream",
       "stream": "stdout",
       "text": [
        "\n",
        "0"
       ]
      },
      {
       "output_type": "stream",
       "stream": "stdout",
       "text": [
        "\n",
        "0"
       ]
      },
      {
       "output_type": "stream",
       "stream": "stdout",
       "text": [
        "\n",
        "0"
       ]
      },
      {
       "output_type": "stream",
       "stream": "stdout",
       "text": [
        "\n",
        "0"
       ]
      },
      {
       "output_type": "stream",
       "stream": "stdout",
       "text": [
        "\n",
        "0"
       ]
      },
      {
       "output_type": "stream",
       "stream": "stdout",
       "text": [
        "\n",
        "0"
       ]
      },
      {
       "output_type": "stream",
       "stream": "stdout",
       "text": [
        "\n",
        "0"
       ]
      },
      {
       "output_type": "stream",
       "stream": "stdout",
       "text": [
        "\n",
        "0"
       ]
      },
      {
       "output_type": "stream",
       "stream": "stdout",
       "text": [
        "\n",
        "0"
       ]
      },
      {
       "output_type": "stream",
       "stream": "stdout",
       "text": [
        "\n",
        "0"
       ]
      },
      {
       "output_type": "stream",
       "stream": "stdout",
       "text": [
        "\n",
        "0"
       ]
      },
      {
       "output_type": "stream",
       "stream": "stdout",
       "text": [
        "\n",
        "0"
       ]
      },
      {
       "output_type": "stream",
       "stream": "stdout",
       "text": [
        "\n",
        "0"
       ]
      },
      {
       "output_type": "stream",
       "stream": "stdout",
       "text": [
        "\n",
        "0"
       ]
      },
      {
       "output_type": "stream",
       "stream": "stdout",
       "text": [
        "\n",
        "0"
       ]
      },
      {
       "output_type": "stream",
       "stream": "stdout",
       "text": [
        "\n",
        "0"
       ]
      },
      {
       "output_type": "stream",
       "stream": "stdout",
       "text": [
        "\n",
        "0"
       ]
      },
      {
       "output_type": "stream",
       "stream": "stdout",
       "text": [
        "\n",
        "0"
       ]
      },
      {
       "output_type": "stream",
       "stream": "stdout",
       "text": [
        "\n",
        "0"
       ]
      },
      {
       "output_type": "stream",
       "stream": "stdout",
       "text": [
        "\n",
        "0"
       ]
      },
      {
       "output_type": "stream",
       "stream": "stdout",
       "text": [
        "\n",
        "0"
       ]
      },
      {
       "output_type": "stream",
       "stream": "stdout",
       "text": [
        "\n",
        "0"
       ]
      },
      {
       "output_type": "stream",
       "stream": "stdout",
       "text": [
        "\n",
        "0"
       ]
      },
      {
       "output_type": "stream",
       "stream": "stdout",
       "text": [
        "\n",
        "0"
       ]
      },
      {
       "output_type": "stream",
       "stream": "stdout",
       "text": [
        "\n",
        "0"
       ]
      },
      {
       "output_type": "stream",
       "stream": "stdout",
       "text": [
        "\n",
        "0"
       ]
      },
      {
       "output_type": "stream",
       "stream": "stdout",
       "text": [
        "\n",
        "0"
       ]
      },
      {
       "output_type": "stream",
       "stream": "stdout",
       "text": [
        "\n",
        "0"
       ]
      },
      {
       "output_type": "stream",
       "stream": "stdout",
       "text": [
        "\n",
        "0"
       ]
      },
      {
       "output_type": "stream",
       "stream": "stdout",
       "text": [
        "\n",
        "0"
       ]
      },
      {
       "output_type": "stream",
       "stream": "stdout",
       "text": [
        "\n",
        "0"
       ]
      },
      {
       "output_type": "stream",
       "stream": "stdout",
       "text": [
        "\n",
        "0"
       ]
      },
      {
       "output_type": "stream",
       "stream": "stdout",
       "text": [
        "\n",
        "0"
       ]
      },
      {
       "output_type": "stream",
       "stream": "stdout",
       "text": [
        "\n",
        "0"
       ]
      },
      {
       "output_type": "stream",
       "stream": "stdout",
       "text": [
        "\n",
        "0"
       ]
      },
      {
       "output_type": "stream",
       "stream": "stdout",
       "text": [
        "\n",
        "0"
       ]
      },
      {
       "output_type": "stream",
       "stream": "stdout",
       "text": [
        "\n",
        "0"
       ]
      },
      {
       "output_type": "stream",
       "stream": "stdout",
       "text": [
        "\n",
        "0"
       ]
      },
      {
       "output_type": "stream",
       "stream": "stdout",
       "text": [
        "\n",
        "0"
       ]
      },
      {
       "output_type": "stream",
       "stream": "stdout",
       "text": [
        "\n",
        "0"
       ]
      },
      {
       "output_type": "stream",
       "stream": "stdout",
       "text": [
        "\n",
        "0"
       ]
      },
      {
       "output_type": "stream",
       "stream": "stdout",
       "text": [
        "\n",
        "1"
       ]
      },
      {
       "output_type": "stream",
       "stream": "stdout",
       "text": [
        "\n",
        "1"
       ]
      },
      {
       "output_type": "stream",
       "stream": "stdout",
       "text": [
        "\n",
        "1"
       ]
      },
      {
       "output_type": "stream",
       "stream": "stdout",
       "text": [
        "\n",
        "1"
       ]
      },
      {
       "output_type": "stream",
       "stream": "stdout",
       "text": [
        "\n",
        "1"
       ]
      },
      {
       "output_type": "stream",
       "stream": "stdout",
       "text": [
        "\n",
        "1"
       ]
      },
      {
       "output_type": "stream",
       "stream": "stdout",
       "text": [
        "\n",
        "1"
       ]
      },
      {
       "output_type": "stream",
       "stream": "stdout",
       "text": [
        "\n",
        "1"
       ]
      },
      {
       "output_type": "stream",
       "stream": "stdout",
       "text": [
        "\n",
        "1"
       ]
      },
      {
       "output_type": "stream",
       "stream": "stdout",
       "text": [
        "\n",
        "1"
       ]
      },
      {
       "output_type": "stream",
       "stream": "stdout",
       "text": [
        "\n",
        "1"
       ]
      },
      {
       "output_type": "stream",
       "stream": "stdout",
       "text": [
        "\n",
        "1"
       ]
      },
      {
       "output_type": "stream",
       "stream": "stdout",
       "text": [
        "\n",
        "1"
       ]
      },
      {
       "output_type": "stream",
       "stream": "stdout",
       "text": [
        "\n",
        "1"
       ]
      },
      {
       "output_type": "stream",
       "stream": "stdout",
       "text": [
        "\n",
        "1"
       ]
      },
      {
       "output_type": "stream",
       "stream": "stdout",
       "text": [
        "\n",
        "1"
       ]
      },
      {
       "output_type": "stream",
       "stream": "stdout",
       "text": [
        "\n",
        "1"
       ]
      },
      {
       "output_type": "stream",
       "stream": "stdout",
       "text": [
        "\n",
        "1"
       ]
      },
      {
       "output_type": "stream",
       "stream": "stdout",
       "text": [
        "\n",
        "1"
       ]
      },
      {
       "output_type": "stream",
       "stream": "stdout",
       "text": [
        "\n",
        "1"
       ]
      },
      {
       "output_type": "stream",
       "stream": "stdout",
       "text": [
        "\n",
        "1"
       ]
      },
      {
       "output_type": "stream",
       "stream": "stdout",
       "text": [
        "\n",
        "1"
       ]
      },
      {
       "output_type": "stream",
       "stream": "stdout",
       "text": [
        "\n",
        "1"
       ]
      },
      {
       "output_type": "stream",
       "stream": "stdout",
       "text": [
        "\n",
        "1"
       ]
      },
      {
       "output_type": "stream",
       "stream": "stdout",
       "text": [
        "\n",
        "1"
       ]
      },
      {
       "output_type": "stream",
       "stream": "stdout",
       "text": [
        "\n",
        "1"
       ]
      },
      {
       "output_type": "stream",
       "stream": "stdout",
       "text": [
        "\n",
        "1"
       ]
      },
      {
       "output_type": "stream",
       "stream": "stdout",
       "text": [
        "\n",
        "1"
       ]
      },
      {
       "output_type": "stream",
       "stream": "stdout",
       "text": [
        "\n",
        "1"
       ]
      },
      {
       "output_type": "stream",
       "stream": "stdout",
       "text": [
        "\n",
        "1"
       ]
      },
      {
       "output_type": "stream",
       "stream": "stdout",
       "text": [
        "\n",
        "1"
       ]
      },
      {
       "output_type": "stream",
       "stream": "stdout",
       "text": [
        "\n",
        "1"
       ]
      },
      {
       "output_type": "stream",
       "stream": "stdout",
       "text": [
        "\n",
        "1"
       ]
      },
      {
       "output_type": "stream",
       "stream": "stdout",
       "text": [
        "\n",
        "1"
       ]
      },
      {
       "output_type": "stream",
       "stream": "stdout",
       "text": [
        "\n",
        "1"
       ]
      },
      {
       "output_type": "stream",
       "stream": "stdout",
       "text": [
        "\n",
        "1"
       ]
      },
      {
       "output_type": "stream",
       "stream": "stdout",
       "text": [
        "\n",
        "1"
       ]
      },
      {
       "output_type": "stream",
       "stream": "stdout",
       "text": [
        "\n",
        "1"
       ]
      },
      {
       "output_type": "stream",
       "stream": "stdout",
       "text": [
        "\n",
        "1"
       ]
      },
      {
       "output_type": "stream",
       "stream": "stdout",
       "text": [
        "\n",
        "1"
       ]
      },
      {
       "output_type": "stream",
       "stream": "stdout",
       "text": [
        "\n",
        "1"
       ]
      },
      {
       "output_type": "stream",
       "stream": "stdout",
       "text": [
        "\n",
        "1"
       ]
      },
      {
       "output_type": "stream",
       "stream": "stdout",
       "text": [
        "\n",
        "1"
       ]
      },
      {
       "output_type": "stream",
       "stream": "stdout",
       "text": [
        "\n",
        "1"
       ]
      },
      {
       "output_type": "stream",
       "stream": "stdout",
       "text": [
        "\n",
        "1"
       ]
      },
      {
       "output_type": "stream",
       "stream": "stdout",
       "text": [
        "\n",
        "1"
       ]
      },
      {
       "output_type": "stream",
       "stream": "stdout",
       "text": [
        "\n",
        "1"
       ]
      },
      {
       "output_type": "stream",
       "stream": "stdout",
       "text": [
        "\n",
        "1"
       ]
      },
      {
       "output_type": "stream",
       "stream": "stdout",
       "text": [
        "\n",
        "1"
       ]
      },
      {
       "output_type": "stream",
       "stream": "stdout",
       "text": [
        "\n",
        "1"
       ]
      },
      {
       "output_type": "stream",
       "stream": "stdout",
       "text": [
        "\n",
        "1"
       ]
      },
      {
       "output_type": "stream",
       "stream": "stdout",
       "text": [
        "\n",
        "1"
       ]
      },
      {
       "output_type": "stream",
       "stream": "stdout",
       "text": [
        "\n",
        "1"
       ]
      },
      {
       "output_type": "stream",
       "stream": "stdout",
       "text": [
        "\n",
        "1"
       ]
      },
      {
       "output_type": "stream",
       "stream": "stdout",
       "text": [
        "\n",
        "1"
       ]
      },
      {
       "output_type": "stream",
       "stream": "stdout",
       "text": [
        "\n",
        "1"
       ]
      },
      {
       "output_type": "stream",
       "stream": "stdout",
       "text": [
        "\n",
        "1"
       ]
      },
      {
       "output_type": "stream",
       "stream": "stdout",
       "text": [
        "\n",
        "1"
       ]
      },
      {
       "output_type": "stream",
       "stream": "stdout",
       "text": [
        "\n",
        "1"
       ]
      },
      {
       "output_type": "stream",
       "stream": "stdout",
       "text": [
        "\n",
        "1"
       ]
      },
      {
       "output_type": "stream",
       "stream": "stdout",
       "text": [
        "\n",
        "1"
       ]
      },
      {
       "output_type": "stream",
       "stream": "stdout",
       "text": [
        "\n",
        "1"
       ]
      },
      {
       "output_type": "stream",
       "stream": "stdout",
       "text": [
        "\n",
        "2"
       ]
      },
      {
       "output_type": "stream",
       "stream": "stdout",
       "text": [
        "\n",
        "2"
       ]
      },
      {
       "output_type": "stream",
       "stream": "stdout",
       "text": [
        "\n",
        "2"
       ]
      },
      {
       "output_type": "stream",
       "stream": "stdout",
       "text": [
        "\n",
        "2"
       ]
      },
      {
       "output_type": "stream",
       "stream": "stdout",
       "text": [
        "\n",
        "3"
       ]
      },
      {
       "output_type": "stream",
       "stream": "stdout",
       "text": [
        "\n",
        "3"
       ]
      },
      {
       "output_type": "stream",
       "stream": "stdout",
       "text": [
        "\n",
        "3"
       ]
      },
      {
       "output_type": "stream",
       "stream": "stdout",
       "text": [
        "\n",
        "3"
       ]
      },
      {
       "output_type": "stream",
       "stream": "stdout",
       "text": [
        "\n",
        "3"
       ]
      },
      {
       "output_type": "stream",
       "stream": "stdout",
       "text": [
        "\n",
        "3"
       ]
      },
      {
       "output_type": "stream",
       "stream": "stdout",
       "text": [
        "\n",
        "3"
       ]
      },
      {
       "output_type": "stream",
       "stream": "stdout",
       "text": [
        "\n",
        "3"
       ]
      },
      {
       "output_type": "stream",
       "stream": "stdout",
       "text": [
        "\n",
        "3"
       ]
      },
      {
       "output_type": "stream",
       "stream": "stdout",
       "text": [
        "\n",
        "3"
       ]
      },
      {
       "output_type": "stream",
       "stream": "stdout",
       "text": [
        "\n",
        "3"
       ]
      },
      {
       "output_type": "stream",
       "stream": "stdout",
       "text": [
        "\n",
        "3"
       ]
      },
      {
       "output_type": "stream",
       "stream": "stdout",
       "text": [
        "\n",
        "3"
       ]
      },
      {
       "output_type": "stream",
       "stream": "stdout",
       "text": [
        "\n",
        "4"
       ]
      },
      {
       "output_type": "stream",
       "stream": "stdout",
       "text": [
        "\n",
        "4"
       ]
      },
      {
       "output_type": "stream",
       "stream": "stdout",
       "text": [
        "\n",
        "4"
       ]
      },
      {
       "output_type": "stream",
       "stream": "stdout",
       "text": [
        "\n",
        "4"
       ]
      },
      {
       "output_type": "stream",
       "stream": "stdout",
       "text": [
        "\n",
        "4"
       ]
      },
      {
       "output_type": "stream",
       "stream": "stdout",
       "text": [
        "\n",
        "4"
       ]
      },
      {
       "output_type": "stream",
       "stream": "stdout",
       "text": [
        "\n",
        "4"
       ]
      },
      {
       "output_type": "stream",
       "stream": "stdout",
       "text": [
        "\n",
        "4"
       ]
      },
      {
       "output_type": "stream",
       "stream": "stdout",
       "text": [
        "\n",
        "4"
       ]
      },
      {
       "output_type": "stream",
       "stream": "stdout",
       "text": [
        "\n",
        "4"
       ]
      },
      {
       "output_type": "stream",
       "stream": "stdout",
       "text": [
        "\n",
        "4"
       ]
      },
      {
       "output_type": "stream",
       "stream": "stdout",
       "text": [
        "\n",
        "4"
       ]
      },
      {
       "output_type": "stream",
       "stream": "stdout",
       "text": [
        "\n",
        "4"
       ]
      },
      {
       "output_type": "stream",
       "stream": "stdout",
       "text": [
        "\n",
        "4"
       ]
      },
      {
       "output_type": "stream",
       "stream": "stdout",
       "text": [
        "\n",
        "4"
       ]
      },
      {
       "output_type": "stream",
       "stream": "stdout",
       "text": [
        "\n",
        "4"
       ]
      },
      {
       "output_type": "stream",
       "stream": "stdout",
       "text": [
        "\n",
        "4"
       ]
      },
      {
       "output_type": "stream",
       "stream": "stdout",
       "text": [
        "\n",
        "4"
       ]
      },
      {
       "output_type": "stream",
       "stream": "stdout",
       "text": [
        "\n",
        "4"
       ]
      },
      {
       "output_type": "stream",
       "stream": "stdout",
       "text": [
        "\n",
        "4"
       ]
      },
      {
       "output_type": "stream",
       "stream": "stdout",
       "text": [
        "\n",
        "4"
       ]
      },
      {
       "output_type": "stream",
       "stream": "stdout",
       "text": [
        "\n",
        "4"
       ]
      },
      {
       "output_type": "stream",
       "stream": "stdout",
       "text": [
        "\n",
        "4"
       ]
      },
      {
       "output_type": "stream",
       "stream": "stdout",
       "text": [
        "\n",
        "4"
       ]
      },
      {
       "output_type": "stream",
       "stream": "stdout",
       "text": [
        "\n",
        "4"
       ]
      },
      {
       "output_type": "stream",
       "stream": "stdout",
       "text": [
        "\n",
        "4"
       ]
      },
      {
       "output_type": "stream",
       "stream": "stdout",
       "text": [
        "\n",
        "4"
       ]
      },
      {
       "output_type": "stream",
       "stream": "stdout",
       "text": [
        "\n",
        "4"
       ]
      },
      {
       "output_type": "stream",
       "stream": "stdout",
       "text": [
        "\n",
        "4"
       ]
      },
      {
       "output_type": "stream",
       "stream": "stdout",
       "text": [
        "\n",
        "4"
       ]
      },
      {
       "output_type": "stream",
       "stream": "stdout",
       "text": [
        "\n",
        "4"
       ]
      },
      {
       "output_type": "stream",
       "stream": "stdout",
       "text": [
        "\n",
        "4"
       ]
      },
      {
       "output_type": "stream",
       "stream": "stdout",
       "text": [
        "\n",
        "4"
       ]
      },
      {
       "output_type": "stream",
       "stream": "stdout",
       "text": [
        "\n",
        "4"
       ]
      },
      {
       "output_type": "stream",
       "stream": "stdout",
       "text": [
        "\n",
        "4"
       ]
      },
      {
       "output_type": "stream",
       "stream": "stdout",
       "text": [
        "\n",
        "5"
       ]
      },
      {
       "output_type": "stream",
       "stream": "stdout",
       "text": [
        "\n",
        "5"
       ]
      },
      {
       "output_type": "stream",
       "stream": "stdout",
       "text": [
        "\n",
        "5"
       ]
      },
      {
       "output_type": "stream",
       "stream": "stdout",
       "text": [
        "\n",
        "5"
       ]
      },
      {
       "output_type": "stream",
       "stream": "stdout",
       "text": [
        "\n",
        "5"
       ]
      },
      {
       "output_type": "stream",
       "stream": "stdout",
       "text": [
        "\n",
        "5"
       ]
      },
      {
       "output_type": "stream",
       "stream": "stdout",
       "text": [
        "\n",
        "5"
       ]
      },
      {
       "output_type": "stream",
       "stream": "stdout",
       "text": [
        "\n",
        "5"
       ]
      },
      {
       "output_type": "stream",
       "stream": "stdout",
       "text": [
        "\n",
        "5"
       ]
      },
      {
       "output_type": "stream",
       "stream": "stdout",
       "text": [
        "\n",
        "5"
       ]
      },
      {
       "output_type": "stream",
       "stream": "stdout",
       "text": [
        "\n",
        "5"
       ]
      },
      {
       "output_type": "stream",
       "stream": "stdout",
       "text": [
        "\n",
        "5"
       ]
      },
      {
       "output_type": "stream",
       "stream": "stdout",
       "text": [
        "\n",
        "5"
       ]
      },
      {
       "output_type": "stream",
       "stream": "stdout",
       "text": [
        "\n",
        "5"
       ]
      },
      {
       "output_type": "stream",
       "stream": "stdout",
       "text": [
        "\n",
        "5"
       ]
      },
      {
       "output_type": "stream",
       "stream": "stdout",
       "text": [
        "\n",
        "5"
       ]
      },
      {
       "output_type": "stream",
       "stream": "stdout",
       "text": [
        "\n",
        "5"
       ]
      },
      {
       "output_type": "stream",
       "stream": "stdout",
       "text": [
        "\n",
        "5"
       ]
      },
      {
       "output_type": "stream",
       "stream": "stdout",
       "text": [
        "\n",
        "5"
       ]
      },
      {
       "output_type": "stream",
       "stream": "stdout",
       "text": [
        "\n",
        "5"
       ]
      },
      {
       "output_type": "stream",
       "stream": "stdout",
       "text": [
        "\n",
        "5"
       ]
      },
      {
       "output_type": "stream",
       "stream": "stdout",
       "text": [
        "\n",
        "5"
       ]
      },
      {
       "output_type": "stream",
       "stream": "stdout",
       "text": [
        "\n",
        "5"
       ]
      },
      {
       "output_type": "stream",
       "stream": "stdout",
       "text": [
        "\n",
        "5"
       ]
      },
      {
       "output_type": "stream",
       "stream": "stdout",
       "text": [
        "\n",
        "5"
       ]
      },
      {
       "output_type": "stream",
       "stream": "stdout",
       "text": [
        "\n",
        "5"
       ]
      },
      {
       "output_type": "stream",
       "stream": "stdout",
       "text": [
        "\n",
        "5"
       ]
      },
      {
       "output_type": "stream",
       "stream": "stdout",
       "text": [
        "\n",
        "5"
       ]
      },
      {
       "output_type": "stream",
       "stream": "stdout",
       "text": [
        "\n",
        "5"
       ]
      },
      {
       "output_type": "stream",
       "stream": "stdout",
       "text": [
        "\n",
        "5"
       ]
      },
      {
       "output_type": "stream",
       "stream": "stdout",
       "text": [
        "\n",
        "5"
       ]
      },
      {
       "output_type": "stream",
       "stream": "stdout",
       "text": [
        "\n",
        "5"
       ]
      },
      {
       "output_type": "stream",
       "stream": "stdout",
       "text": [
        "\n",
        "5"
       ]
      },
      {
       "output_type": "stream",
       "stream": "stdout",
       "text": [
        "\n",
        "5"
       ]
      },
      {
       "output_type": "stream",
       "stream": "stdout",
       "text": [
        "\n",
        "5"
       ]
      },
      {
       "output_type": "stream",
       "stream": "stdout",
       "text": [
        "\n",
        "5"
       ]
      },
      {
       "output_type": "stream",
       "stream": "stdout",
       "text": [
        "\n",
        "5"
       ]
      },
      {
       "output_type": "stream",
       "stream": "stdout",
       "text": [
        "\n",
        "5"
       ]
      },
      {
       "output_type": "stream",
       "stream": "stdout",
       "text": [
        "\n",
        "5"
       ]
      },
      {
       "output_type": "stream",
       "stream": "stdout",
       "text": [
        "\n",
        "5"
       ]
      },
      {
       "output_type": "stream",
       "stream": "stdout",
       "text": [
        "\n",
        "5"
       ]
      },
      {
       "output_type": "stream",
       "stream": "stdout",
       "text": [
        "\n",
        "5"
       ]
      },
      {
       "output_type": "stream",
       "stream": "stdout",
       "text": [
        "\n",
        "5"
       ]
      },
      {
       "output_type": "stream",
       "stream": "stdout",
       "text": [
        "\n",
        "5"
       ]
      },
      {
       "output_type": "stream",
       "stream": "stdout",
       "text": [
        "\n",
        "5"
       ]
      },
      {
       "output_type": "stream",
       "stream": "stdout",
       "text": [
        "\n",
        "5"
       ]
      },
      {
       "output_type": "stream",
       "stream": "stdout",
       "text": [
        "\n",
        "5"
       ]
      },
      {
       "output_type": "stream",
       "stream": "stdout",
       "text": [
        "\n",
        "5"
       ]
      },
      {
       "output_type": "stream",
       "stream": "stdout",
       "text": [
        "\n",
        "5"
       ]
      },
      {
       "output_type": "stream",
       "stream": "stdout",
       "text": [
        "\n",
        "5"
       ]
      },
      {
       "output_type": "stream",
       "stream": "stdout",
       "text": [
        "\n",
        "5"
       ]
      },
      {
       "output_type": "stream",
       "stream": "stdout",
       "text": [
        "\n",
        "5"
       ]
      },
      {
       "output_type": "stream",
       "stream": "stdout",
       "text": [
        "\n",
        "5"
       ]
      },
      {
       "output_type": "stream",
       "stream": "stdout",
       "text": [
        "\n",
        "5"
       ]
      },
      {
       "output_type": "stream",
       "stream": "stdout",
       "text": [
        "\n",
        "5"
       ]
      },
      {
       "output_type": "stream",
       "stream": "stdout",
       "text": [
        "\n",
        "5"
       ]
      },
      {
       "output_type": "stream",
       "stream": "stdout",
       "text": [
        "\n",
        "5"
       ]
      },
      {
       "output_type": "stream",
       "stream": "stdout",
       "text": [
        "\n",
        "5"
       ]
      },
      {
       "output_type": "stream",
       "stream": "stdout",
       "text": [
        "\n",
        "5"
       ]
      },
      {
       "output_type": "stream",
       "stream": "stdout",
       "text": [
        "\n",
        "5"
       ]
      },
      {
       "output_type": "stream",
       "stream": "stdout",
       "text": [
        "\n",
        "5"
       ]
      },
      {
       "output_type": "stream",
       "stream": "stdout",
       "text": [
        "\n",
        "5"
       ]
      },
      {
       "output_type": "stream",
       "stream": "stdout",
       "text": [
        "\n",
        "5"
       ]
      },
      {
       "output_type": "stream",
       "stream": "stdout",
       "text": [
        "\n",
        "5"
       ]
      },
      {
       "output_type": "stream",
       "stream": "stdout",
       "text": [
        "\n",
        "5"
       ]
      },
      {
       "output_type": "stream",
       "stream": "stdout",
       "text": [
        "\n",
        "5"
       ]
      },
      {
       "output_type": "stream",
       "stream": "stdout",
       "text": [
        "\n",
        "5"
       ]
      },
      {
       "output_type": "stream",
       "stream": "stdout",
       "text": [
        "\n",
        "5"
       ]
      },
      {
       "output_type": "stream",
       "stream": "stdout",
       "text": [
        "\n",
        "5"
       ]
      },
      {
       "output_type": "stream",
       "stream": "stdout",
       "text": [
        "\n",
        "5"
       ]
      },
      {
       "output_type": "stream",
       "stream": "stdout",
       "text": [
        "\n",
        "5"
       ]
      },
      {
       "output_type": "stream",
       "stream": "stdout",
       "text": [
        "\n",
        "5"
       ]
      },
      {
       "output_type": "stream",
       "stream": "stdout",
       "text": [
        "\n",
        "5"
       ]
      },
      {
       "output_type": "stream",
       "stream": "stdout",
       "text": [
        "\n",
        "5"
       ]
      },
      {
       "output_type": "stream",
       "stream": "stdout",
       "text": [
        "\n",
        "5"
       ]
      },
      {
       "output_type": "stream",
       "stream": "stdout",
       "text": [
        "\n",
        "5"
       ]
      },
      {
       "output_type": "stream",
       "stream": "stdout",
       "text": [
        "\n",
        "5"
       ]
      },
      {
       "output_type": "stream",
       "stream": "stdout",
       "text": [
        "\n",
        "5"
       ]
      },
      {
       "output_type": "stream",
       "stream": "stdout",
       "text": [
        "\n",
        "5"
       ]
      },
      {
       "output_type": "stream",
       "stream": "stdout",
       "text": [
        "\n",
        "5"
       ]
      },
      {
       "output_type": "stream",
       "stream": "stdout",
       "text": [
        "\n",
        "5"
       ]
      },
      {
       "output_type": "stream",
       "stream": "stdout",
       "text": [
        "\n",
        "5"
       ]
      },
      {
       "output_type": "stream",
       "stream": "stdout",
       "text": [
        "\n",
        "5"
       ]
      },
      {
       "output_type": "stream",
       "stream": "stdout",
       "text": [
        "\n",
        "5"
       ]
      },
      {
       "output_type": "stream",
       "stream": "stdout",
       "text": [
        "\n",
        "5"
       ]
      },
      {
       "output_type": "stream",
       "stream": "stdout",
       "text": [
        "\n",
        "5"
       ]
      },
      {
       "output_type": "stream",
       "stream": "stdout",
       "text": [
        "\n",
        "5"
       ]
      },
      {
       "output_type": "stream",
       "stream": "stdout",
       "text": [
        "\n",
        "5"
       ]
      },
      {
       "output_type": "stream",
       "stream": "stdout",
       "text": [
        "\n",
        "5"
       ]
      },
      {
       "output_type": "stream",
       "stream": "stdout",
       "text": [
        "\n",
        "5"
       ]
      },
      {
       "output_type": "stream",
       "stream": "stdout",
       "text": [
        "\n",
        "5"
       ]
      },
      {
       "output_type": "stream",
       "stream": "stdout",
       "text": [
        "\n",
        "5"
       ]
      },
      {
       "output_type": "stream",
       "stream": "stdout",
       "text": [
        "\n",
        "5"
       ]
      },
      {
       "output_type": "stream",
       "stream": "stdout",
       "text": [
        "\n",
        "5"
       ]
      },
      {
       "output_type": "stream",
       "stream": "stdout",
       "text": [
        "\n",
        "5"
       ]
      },
      {
       "output_type": "stream",
       "stream": "stdout",
       "text": [
        "\n",
        "5"
       ]
      },
      {
       "output_type": "stream",
       "stream": "stdout",
       "text": [
        "\n",
        "5"
       ]
      },
      {
       "output_type": "stream",
       "stream": "stdout",
       "text": [
        "\n",
        "5"
       ]
      },
      {
       "output_type": "stream",
       "stream": "stdout",
       "text": [
        "\n",
        "5"
       ]
      },
      {
       "output_type": "stream",
       "stream": "stdout",
       "text": [
        "\n",
        "5"
       ]
      },
      {
       "output_type": "stream",
       "stream": "stdout",
       "text": [
        "\n",
        "5"
       ]
      },
      {
       "output_type": "stream",
       "stream": "stdout",
       "text": [
        "\n",
        "5"
       ]
      },
      {
       "output_type": "stream",
       "stream": "stdout",
       "text": [
        "\n",
        "5"
       ]
      },
      {
       "output_type": "stream",
       "stream": "stdout",
       "text": [
        "\n",
        "5"
       ]
      },
      {
       "output_type": "stream",
       "stream": "stdout",
       "text": [
        "\n",
        "5"
       ]
      },
      {
       "output_type": "stream",
       "stream": "stdout",
       "text": [
        "\n",
        "5"
       ]
      },
      {
       "output_type": "stream",
       "stream": "stdout",
       "text": [
        "\n",
        "5"
       ]
      },
      {
       "output_type": "stream",
       "stream": "stdout",
       "text": [
        "\n",
        "5"
       ]
      },
      {
       "output_type": "stream",
       "stream": "stdout",
       "text": [
        "\n",
        "5"
       ]
      },
      {
       "output_type": "stream",
       "stream": "stdout",
       "text": [
        "\n",
        "5"
       ]
      },
      {
       "output_type": "stream",
       "stream": "stdout",
       "text": [
        "\n",
        "5"
       ]
      },
      {
       "output_type": "stream",
       "stream": "stdout",
       "text": [
        "\n",
        "5"
       ]
      },
      {
       "output_type": "stream",
       "stream": "stdout",
       "text": [
        "\n",
        "5"
       ]
      },
      {
       "output_type": "stream",
       "stream": "stdout",
       "text": [
        "\n",
        "5"
       ]
      },
      {
       "output_type": "stream",
       "stream": "stdout",
       "text": [
        "\n",
        "5"
       ]
      },
      {
       "output_type": "stream",
       "stream": "stdout",
       "text": [
        "\n",
        "5"
       ]
      },
      {
       "output_type": "stream",
       "stream": "stdout",
       "text": [
        "\n",
        "5"
       ]
      },
      {
       "output_type": "stream",
       "stream": "stdout",
       "text": [
        "\n",
        "5"
       ]
      },
      {
       "output_type": "stream",
       "stream": "stdout",
       "text": [
        "\n",
        "5"
       ]
      },
      {
       "output_type": "stream",
       "stream": "stdout",
       "text": [
        "\n",
        "5"
       ]
      },
      {
       "output_type": "stream",
       "stream": "stdout",
       "text": [
        "\n",
        "5"
       ]
      },
      {
       "output_type": "stream",
       "stream": "stdout",
       "text": [
        "\n",
        "5"
       ]
      },
      {
       "output_type": "stream",
       "stream": "stdout",
       "text": [
        "\n",
        "6"
       ]
      },
      {
       "output_type": "stream",
       "stream": "stdout",
       "text": [
        "\n"
       ]
      }
     ],
     "prompt_number": 9
    },
    {
     "cell_type": "code",
     "collapsed": false,
     "input": [
      "print('Ready: ', res1.ready())\n",
      "print('Progress: ', res1.progress)"
     ],
     "language": "python",
     "metadata": {},
     "outputs": [
      {
       "output_type": "stream",
       "stream": "stdout",
       "text": [
        "Ready:  True\n",
        "Progress:  6\n"
       ]
      }
     ],
     "prompt_number": 10
    },
    {
     "cell_type": "code",
     "collapsed": false,
     "input": [
      "res1.result"
     ],
     "language": "python",
     "metadata": {},
     "outputs": [
      {
       "metadata": {},
       "output_type": "pyout",
       "prompt_number": 11,
       "text": [
        "[['/nfs/bigeye/sdaptardar/Datasets/Hollywood2/Hollywood2/AVIClips/actioncliptrain00001.avi,6892,recognition,36.780414\\n',\n",
        "  '/nfs/bigeye/sdaptardar/Datasets/Hollywood2/Hollywood2/AVIClips/actioncliptrain00002.avi,6892,recognition,52.539161\\n',\n",
        "  '/nfs/bigeye/sdaptardar/Datasets/Hollywood2/Hollywood2/AVIClips/actioncliptrain00003.avi,6892,recognition,43.072892\\n',\n",
        "  '/nfs/bigeye/sdaptardar/Datasets/Hollywood2/Hollywood2/AVIClips/actioncliptrain00004.avi,6892,recognition,131.080681\\n',\n",
        "  '/nfs/bigeye/sdaptardar/Datasets/Hollywood2/Hollywood2/AVIClips/actioncliptrain00005.avi,6892,recognition,19.857276\\n',\n",
        "  '/nfs/bigeye/sdaptardar/Datasets/Hollywood2/Hollywood2/AVIClips/actioncliptrain00006.avi,6892,recognition,26.204492\\n',\n",
        "  '/nfs/bigeye/sdaptardar/Datasets/Hollywood2/Hollywood2/AVIClips/actioncliptrain00007.avi,6892,recognition,88.552083\\n',\n",
        "  '/nfs/bigeye/sdaptardar/Datasets/Hollywood2/Hollywood2/AVIClips/actioncliptrain00008.avi,6892,recognition,48.519335\\n',\n",
        "  '/nfs/bigeye/sdaptardar/Datasets/Hollywood2/Hollywood2/AVIClips/actioncliptrain00009.avi,6892,recognition,29.058879\\n',\n",
        "  '/nfs/bigeye/sdaptardar/Datasets/Hollywood2/Hollywood2/AVIClips/actioncliptrain00010.avi,6892,recognition,209.629063\\n',\n",
        "  '/nfs/bigeye/sdaptardar/Datasets/Hollywood2/Hollywood2/AVIClips/actioncliptrain00011.avi,6892,recognition,62.909646\\n',\n",
        "  '/nfs/bigeye/sdaptardar/Datasets/Hollywood2/Hollywood2/AVIClips/actioncliptrain00012.avi,6892,recognition,91.627380\\n',\n",
        "  '/nfs/bigeye/sdaptardar/Datasets/Hollywood2/Hollywood2/AVIClips/actioncliptrain00013.avi,6892,recognition,27.395480\\n',\n",
        "  '/nfs/bigeye/sdaptardar/Datasets/Hollywood2/Hollywood2/AVIClips/actioncliptrain00014.avi,6892,recognition,155.343624\\n',\n",
        "  '/nfs/bigeye/sdaptardar/Datasets/Hollywood2/Hollywood2/AVIClips/actioncliptrain00015.avi,6892,recognition,28.100494\\n',\n",
        "  '/nfs/bigeye/sdaptardar/Datasets/Hollywood2/Hollywood2/AVIClips/actioncliptrain00016.avi,6892,recognition,37.858140\\n',\n",
        "  '/nfs/bigeye/sdaptardar/Datasets/Hollywood2/Hollywood2/AVIClips/actioncliptrain00017.avi,6892,recognition,17.141448\\n',\n",
        "  '/nfs/bigeye/sdaptardar/Datasets/Hollywood2/Hollywood2/AVIClips/actioncliptrain00018.avi,6892,recognition,45.572375\\n',\n",
        "  '/nfs/bigeye/sdaptardar/Datasets/Hollywood2/Hollywood2/AVIClips/actioncliptrain00019.avi,6892,recognition,21.696491\\n',\n",
        "  '/nfs/bigeye/sdaptardar/Datasets/Hollywood2/Hollywood2/AVIClips/actioncliptrain00020.avi,6892,recognition,16.967739\\n',\n",
        "  '/nfs/bigeye/sdaptardar/Datasets/Hollywood2/Hollywood2/AVIClips/actioncliptrain00021.avi,6892,recognition,15.883956\\n',\n",
        "  '/nfs/bigeye/sdaptardar/Datasets/Hollywood2/Hollywood2/AVIClips/actioncliptrain00022.avi,6892,recognition,18.217358\\n',\n",
        "  '/nfs/bigeye/sdaptardar/Datasets/Hollywood2/Hollywood2/AVIClips/actioncliptrain00023.avi,6892,recognition,22.131220\\n',\n",
        "  '/nfs/bigeye/sdaptardar/Datasets/Hollywood2/Hollywood2/AVIClips/actioncliptrain00024.avi,6892,recognition,15.936180\\n',\n",
        "  '/nfs/bigeye/sdaptardar/Datasets/Hollywood2/Hollywood2/AVIClips/actioncliptrain00025.avi,6892,recognition,75.233291\\n',\n",
        "  '/nfs/bigeye/sdaptardar/Datasets/Hollywood2/Hollywood2/AVIClips/actioncliptrain00026.avi,6892,recognition,122.201878\\n',\n",
        "  '/nfs/bigeye/sdaptardar/Datasets/Hollywood2/Hollywood2/AVIClips/actioncliptrain00027.avi,6892,recognition,170.468245\\n',\n",
        "  '/nfs/bigeye/sdaptardar/Datasets/Hollywood2/Hollywood2/AVIClips/actioncliptrain00028.avi,6892,recognition,43.693866\\n',\n",
        "  '/nfs/bigeye/sdaptardar/Datasets/Hollywood2/Hollywood2/AVIClips/actioncliptrain00029.avi,6892,recognition,139.784179\\n',\n",
        "  '/nfs/bigeye/sdaptardar/Datasets/Hollywood2/Hollywood2/AVIClips/actioncliptrain00030.avi,6892,recognition,26.510974\\n',\n",
        "  '/nfs/bigeye/sdaptardar/Datasets/Hollywood2/Hollywood2/AVIClips/actioncliptrain00031.avi,6892,recognition,37.608829\\n',\n",
        "  '/nfs/bigeye/sdaptardar/Datasets/Hollywood2/Hollywood2/AVIClips/actioncliptrain00032.avi,6892,recognition,23.315430\\n',\n",
        "  '/nfs/bigeye/sdaptardar/Datasets/Hollywood2/Hollywood2/AVIClips/actioncliptrain00033.avi,6892,recognition,135.964019\\n',\n",
        "  '/nfs/bigeye/sdaptardar/Datasets/Hollywood2/Hollywood2/AVIClips/actioncliptrain00034.avi,6892,recognition,40.595822\\n',\n",
        "  '/nfs/bigeye/sdaptardar/Datasets/Hollywood2/Hollywood2/AVIClips/actioncliptrain00035.avi,6892,recognition,29.002907\\n',\n",
        "  '/nfs/bigeye/sdaptardar/Datasets/Hollywood2/Hollywood2/AVIClips/actioncliptrain00036.avi,6892,recognition,39.292731\\n',\n",
        "  '/nfs/bigeye/sdaptardar/Datasets/Hollywood2/Hollywood2/AVIClips/actioncliptrain00037.avi,6892,recognition,10.686233\\n',\n",
        "  '/nfs/bigeye/sdaptardar/Datasets/Hollywood2/Hollywood2/AVIClips/actioncliptrain00038.avi,6892,recognition,12.698025\\n',\n",
        "  '/nfs/bigeye/sdaptardar/Datasets/Hollywood2/Hollywood2/AVIClips/actioncliptrain00039.avi,6892,recognition,25.910510\\n',\n",
        "  '/nfs/bigeye/sdaptardar/Datasets/Hollywood2/Hollywood2/AVIClips/actioncliptrain00040.avi,6892,recognition,33.665432\\n',\n",
        "  '/nfs/bigeye/sdaptardar/Datasets/Hollywood2/Hollywood2/AVIClips/actioncliptrain00041.avi,6892,recognition,178.462291\\n',\n",
        "  '/nfs/bigeye/sdaptardar/Datasets/Hollywood2/Hollywood2/AVIClips/actioncliptrain00042.avi,6892,recognition,61.772483\\n',\n",
        "  '/nfs/bigeye/sdaptardar/Datasets/Hollywood2/Hollywood2/AVIClips/actioncliptrain00043.avi,6892,recognition,67.798984\\n',\n",
        "  '/nfs/bigeye/sdaptardar/Datasets/Hollywood2/Hollywood2/AVIClips/actioncliptrain00044.avi,6892,recognition,72.761667\\n',\n",
        "  '/nfs/bigeye/sdaptardar/Datasets/Hollywood2/Hollywood2/AVIClips/actioncliptrain00045.avi,6892,recognition,78.700168\\n',\n",
        "  '/nfs/bigeye/sdaptardar/Datasets/Hollywood2/Hollywood2/AVIClips/actioncliptrain00046.avi,6892,recognition,183.272920\\n',\n",
        "  '/nfs/bigeye/sdaptardar/Datasets/Hollywood2/Hollywood2/AVIClips/actioncliptrain00047.avi,6892,recognition,112.482183\\n',\n",
        "  '/nfs/bigeye/sdaptardar/Datasets/Hollywood2/Hollywood2/AVIClips/actioncliptrain00048.avi,6892,recognition,48.056313\\n',\n",
        "  '/nfs/bigeye/sdaptardar/Datasets/Hollywood2/Hollywood2/AVIClips/actioncliptrain00049.avi,6892,recognition,37.734546\\n',\n",
        "  '/nfs/bigeye/sdaptardar/Datasets/Hollywood2/Hollywood2/AVIClips/actioncliptrain00050.avi,6892,recognition,39.288973\\n',\n",
        "  '/nfs/bigeye/sdaptardar/Datasets/Hollywood2/Hollywood2/AVIClips/actioncliptrain00051.avi,6892,recognition,89.289171\\n',\n",
        "  '/nfs/bigeye/sdaptardar/Datasets/Hollywood2/Hollywood2/AVIClips/actioncliptrain00052.avi,6892,recognition,55.528334\\n',\n",
        "  '/nfs/bigeye/sdaptardar/Datasets/Hollywood2/Hollywood2/AVIClips/actioncliptrain00053.avi,6892,recognition,207.509464\\n',\n",
        "  '/nfs/bigeye/sdaptardar/Datasets/Hollywood2/Hollywood2/AVIClips/actioncliptrain00054.avi,6892,recognition,134.070101\\n',\n",
        "  '/nfs/bigeye/sdaptardar/Datasets/Hollywood2/Hollywood2/AVIClips/actioncliptrain00055.avi,6892,recognition,241.320076\\n',\n",
        "  '/nfs/bigeye/sdaptardar/Datasets/Hollywood2/Hollywood2/AVIClips/actioncliptrain00056.avi,6892,recognition,34.352228\\n',\n",
        "  '/nfs/bigeye/sdaptardar/Datasets/Hollywood2/Hollywood2/AVIClips/actioncliptrain00057.avi,6892,recognition,66.001208\\n',\n",
        "  '/nfs/bigeye/sdaptardar/Datasets/Hollywood2/Hollywood2/AVIClips/actioncliptrain00058.avi,6892,recognition,136.198949\\n',\n",
        "  '/nfs/bigeye/sdaptardar/Datasets/Hollywood2/Hollywood2/AVIClips/actioncliptrain00059.avi,6892,recognition,43.597871\\n',\n",
        "  '/nfs/bigeye/sdaptardar/Datasets/Hollywood2/Hollywood2/AVIClips/actioncliptrain00060.avi,6892,recognition,236.043286\\n',\n",
        "  '/nfs/bigeye/sdaptardar/Datasets/Hollywood2/Hollywood2/AVIClips/actioncliptrain00061.avi,6892,recognition,54.362261\\n',\n",
        "  '/nfs/bigeye/sdaptardar/Datasets/Hollywood2/Hollywood2/AVIClips/actioncliptrain00062.avi,6892,recognition,242.407164\\n',\n",
        "  '/nfs/bigeye/sdaptardar/Datasets/Hollywood2/Hollywood2/AVIClips/actioncliptrain00063.avi,6892,recognition,189.233444\\n',\n",
        "  '/nfs/bigeye/sdaptardar/Datasets/Hollywood2/Hollywood2/AVIClips/actioncliptrain00064.avi,6892,recognition,67.761469\\n',\n",
        "  '/nfs/bigeye/sdaptardar/Datasets/Hollywood2/Hollywood2/AVIClips/actioncliptrain00065.avi,6892,recognition,38.631416\\n',\n",
        "  '/nfs/bigeye/sdaptardar/Datasets/Hollywood2/Hollywood2/AVIClips/actioncliptrain00066.avi,6892,recognition,42.049477\\n',\n",
        "  '/nfs/bigeye/sdaptardar/Datasets/Hollywood2/Hollywood2/AVIClips/actioncliptrain00067.avi,6892,recognition,48.566714\\n',\n",
        "  '/nfs/bigeye/sdaptardar/Datasets/Hollywood2/Hollywood2/AVIClips/actioncliptrain00068.avi,6892,recognition,116.164380\\n',\n",
        "  '/nfs/bigeye/sdaptardar/Datasets/Hollywood2/Hollywood2/AVIClips/actioncliptrain00069.avi,6892,recognition,75.869034\\n',\n",
        "  '/nfs/bigeye/sdaptardar/Datasets/Hollywood2/Hollywood2/AVIClips/actioncliptrain00070.avi,6892,recognition,43.218065\\n',\n",
        "  '/nfs/bigeye/sdaptardar/Datasets/Hollywood2/Hollywood2/AVIClips/actioncliptrain00071.avi,6892,recognition,50.144871\\n',\n",
        "  '/nfs/bigeye/sdaptardar/Datasets/Hollywood2/Hollywood2/AVIClips/actioncliptrain00072.avi,6892,recognition,86.771245\\n',\n",
        "  '/nfs/bigeye/sdaptardar/Datasets/Hollywood2/Hollywood2/AVIClips/actioncliptrain00073.avi,6892,recognition,73.239261\\n',\n",
        "  '/nfs/bigeye/sdaptardar/Datasets/Hollywood2/Hollywood2/AVIClips/actioncliptrain00074.avi,6892,recognition,61.593536\\n',\n",
        "  '/nfs/bigeye/sdaptardar/Datasets/Hollywood2/Hollywood2/AVIClips/actioncliptrain00075.avi,6892,recognition,234.718978\\n',\n",
        "  '/nfs/bigeye/sdaptardar/Datasets/Hollywood2/Hollywood2/AVIClips/actioncliptrain00076.avi,6892,recognition,70.180410\\n',\n",
        "  '/nfs/bigeye/sdaptardar/Datasets/Hollywood2/Hollywood2/AVIClips/actioncliptrain00077.avi,6892,recognition,77.077527\\n',\n",
        "  '/nfs/bigeye/sdaptardar/Datasets/Hollywood2/Hollywood2/AVIClips/actioncliptrain00078.avi,6892,recognition,296.620129\\n',\n",
        "  '/nfs/bigeye/sdaptardar/Datasets/Hollywood2/Hollywood2/AVIClips/actioncliptrain00079.avi,6892,recognition,519.631539\\n',\n",
        "  '/nfs/bigeye/sdaptardar/Datasets/Hollywood2/Hollywood2/AVIClips/actioncliptrain00080.avi,6892,recognition,34.494438\\n',\n",
        "  '/nfs/bigeye/sdaptardar/Datasets/Hollywood2/Hollywood2/AVIClips/actioncliptrain00081.avi,6892,recognition,117.557587\\n',\n",
        "  '/nfs/bigeye/sdaptardar/Datasets/Hollywood2/Hollywood2/AVIClips/actioncliptrain00082.avi,6892,recognition,139.248373\\n',\n",
        "  '/nfs/bigeye/sdaptardar/Datasets/Hollywood2/Hollywood2/AVIClips/actioncliptrain00083.avi,6892,recognition,78.386722\\n',\n",
        "  '/nfs/bigeye/sdaptardar/Datasets/Hollywood2/Hollywood2/AVIClips/actioncliptrain00084.avi,6892,recognition,48.457593\\n',\n",
        "  '/nfs/bigeye/sdaptardar/Datasets/Hollywood2/Hollywood2/AVIClips/actioncliptrain00085.avi,6892,recognition,212.748544\\n',\n",
        "  '/nfs/bigeye/sdaptardar/Datasets/Hollywood2/Hollywood2/AVIClips/actioncliptrain00086.avi,6892,recognition,91.210590\\n',\n",
        "  '/nfs/bigeye/sdaptardar/Datasets/Hollywood2/Hollywood2/AVIClips/actioncliptrain00087.avi,6892,recognition,76.271374\\n',\n",
        "  '/nfs/bigeye/sdaptardar/Datasets/Hollywood2/Hollywood2/AVIClips/actioncliptrain00088.avi,6892,recognition,86.891531\\n',\n",
        "  '/nfs/bigeye/sdaptardar/Datasets/Hollywood2/Hollywood2/AVIClips/actioncliptrain00089.avi,6892,recognition,48.443705\\n',\n",
        "  '/nfs/bigeye/sdaptardar/Datasets/Hollywood2/Hollywood2/AVIClips/actioncliptrain00090.avi,6892,recognition,109.543867\\n',\n",
        "  '/nfs/bigeye/sdaptardar/Datasets/Hollywood2/Hollywood2/AVIClips/actioncliptrain00091.avi,6892,recognition,58.770654\\n',\n",
        "  '/nfs/bigeye/sdaptardar/Datasets/Hollywood2/Hollywood2/AVIClips/actioncliptrain00092.avi,6892,recognition,244.311496\\n',\n",
        "  '/nfs/bigeye/sdaptardar/Datasets/Hollywood2/Hollywood2/AVIClips/actioncliptrain00093.avi,6892,recognition,107.711765\\n',\n",
        "  '/nfs/bigeye/sdaptardar/Datasets/Hollywood2/Hollywood2/AVIClips/actioncliptrain00094.avi,6892,recognition,50.693146\\n',\n",
        "  '/nfs/bigeye/sdaptardar/Datasets/Hollywood2/Hollywood2/AVIClips/actioncliptrain00095.avi,6892,recognition,40.753382\\n',\n",
        "  '/nfs/bigeye/sdaptardar/Datasets/Hollywood2/Hollywood2/AVIClips/actioncliptrain00096.avi,6892,recognition,36.147995\\n',\n",
        "  '/nfs/bigeye/sdaptardar/Datasets/Hollywood2/Hollywood2/AVIClips/actioncliptrain00097.avi,6892,recognition,67.023281\\n',\n",
        "  '/nfs/bigeye/sdaptardar/Datasets/Hollywood2/Hollywood2/AVIClips/actioncliptrain00098.avi,6892,recognition,43.629993\\n',\n",
        "  '/nfs/bigeye/sdaptardar/Datasets/Hollywood2/Hollywood2/AVIClips/actioncliptrain00099.avi,6892,recognition,40.737487\\n',\n",
        "  '/nfs/bigeye/sdaptardar/Datasets/Hollywood2/Hollywood2/AVIClips/actioncliptrain00100.avi,6892,recognition,49.293252\\n',\n",
        "  '/nfs/bigeye/sdaptardar/Datasets/Hollywood2/Hollywood2/AVIClips/actioncliptrain00101.avi,6892,recognition,47.122860\\n',\n",
        "  '/nfs/bigeye/sdaptardar/Datasets/Hollywood2/Hollywood2/AVIClips/actioncliptrain00102.avi,6892,recognition,28.856263\\n',\n",
        "  '/nfs/bigeye/sdaptardar/Datasets/Hollywood2/Hollywood2/AVIClips/actioncliptrain00103.avi,6892,recognition,39.441538\\n',\n",
        "  '/nfs/bigeye/sdaptardar/Datasets/Hollywood2/Hollywood2/AVIClips/actioncliptrain00104.avi,6892,recognition,26.171987\\n',\n",
        "  '/nfs/bigeye/sdaptardar/Datasets/Hollywood2/Hollywood2/AVIClips/actioncliptrain00105.avi,6892,recognition,66.534100\\n',\n",
        "  '/nfs/bigeye/sdaptardar/Datasets/Hollywood2/Hollywood2/AVIClips/actioncliptrain00106.avi,6892,recognition,59.826243\\n',\n",
        "  '/nfs/bigeye/sdaptardar/Datasets/Hollywood2/Hollywood2/AVIClips/actioncliptrain00107.avi,6892,recognition,179.345259\\n',\n",
        "  '/nfs/bigeye/sdaptardar/Datasets/Hollywood2/Hollywood2/AVIClips/actioncliptrain00108.avi,6892,recognition,39.195307\\n',\n",
        "  '/nfs/bigeye/sdaptardar/Datasets/Hollywood2/Hollywood2/AVIClips/actioncliptrain00109.avi,6892,recognition,63.767362\\n',\n",
        "  '/nfs/bigeye/sdaptardar/Datasets/Hollywood2/Hollywood2/AVIClips/actioncliptrain00110.avi,6892,recognition,60.502903\\n',\n",
        "  '/nfs/bigeye/sdaptardar/Datasets/Hollywood2/Hollywood2/AVIClips/actioncliptrain00111.avi,6892,recognition,274.688956\\n',\n",
        "  '/nfs/bigeye/sdaptardar/Datasets/Hollywood2/Hollywood2/AVIClips/actioncliptrain00112.avi,6892,recognition,86.034694\\n',\n",
        "  '/nfs/bigeye/sdaptardar/Datasets/Hollywood2/Hollywood2/AVIClips/actioncliptrain00113.avi,6892,recognition,108.828823\\n',\n",
        "  '/nfs/bigeye/sdaptardar/Datasets/Hollywood2/Hollywood2/AVIClips/actioncliptrain00114.avi,6892,recognition,132.713251\\n',\n",
        "  '/nfs/bigeye/sdaptardar/Datasets/Hollywood2/Hollywood2/AVIClips/actioncliptrain00115.avi,6892,recognition,152.038679\\n',\n",
        "  '/nfs/bigeye/sdaptardar/Datasets/Hollywood2/Hollywood2/AVIClips/actioncliptrain00116.avi,6892,recognition,32.200759\\n',\n",
        "  '/nfs/bigeye/sdaptardar/Datasets/Hollywood2/Hollywood2/AVIClips/actioncliptrain00117.avi,6892,recognition,106.606516\\n',\n",
        "  '/nfs/bigeye/sdaptardar/Datasets/Hollywood2/Hollywood2/AVIClips/actioncliptrain00118.avi,6892,recognition,159.925025\\n',\n",
        "  '/nfs/bigeye/sdaptardar/Datasets/Hollywood2/Hollywood2/AVIClips/actioncliptrain00119.avi,6892,recognition,54.500778\\n',\n",
        "  '/nfs/bigeye/sdaptardar/Datasets/Hollywood2/Hollywood2/AVIClips/actioncliptrain00120.avi,6892,recognition,86.277069\\n',\n",
        "  '/nfs/bigeye/sdaptardar/Datasets/Hollywood2/Hollywood2/AVIClips/actioncliptrain00121.avi,6892,recognition,68.000203\\n',\n",
        "  '/nfs/bigeye/sdaptardar/Datasets/Hollywood2/Hollywood2/AVIClips/actioncliptrain00122.avi,6892,recognition,43.854729\\n',\n",
        "  '/nfs/bigeye/sdaptardar/Datasets/Hollywood2/Hollywood2/AVIClips/actioncliptrain00123.avi,6892,recognition,62.310372\\n',\n",
        "  '/nfs/bigeye/sdaptardar/Datasets/Hollywood2/Hollywood2/AVIClips/actioncliptrain00124.avi,6892,recognition,158.924494\\n',\n",
        "  '/nfs/bigeye/sdaptardar/Datasets/Hollywood2/Hollywood2/AVIClips/actioncliptrain00125.avi,6892,recognition,157.510349\\n',\n",
        "  '/nfs/bigeye/sdaptardar/Datasets/Hollywood2/Hollywood2/AVIClips/actioncliptrain00126.avi,6892,recognition,56.097944\\n',\n",
        "  '/nfs/bigeye/sdaptardar/Datasets/Hollywood2/Hollywood2/AVIClips/actioncliptrain00127.avi,6892,recognition,97.612107\\n',\n",
        "  '/nfs/bigeye/sdaptardar/Datasets/Hollywood2/Hollywood2/AVIClips/actioncliptrain00128.avi,6892,recognition,103.488595\\n',\n",
        "  '/nfs/bigeye/sdaptardar/Datasets/Hollywood2/Hollywood2/AVIClips/actioncliptrain00129.avi,6892,recognition,79.167795\\n',\n",
        "  '/nfs/bigeye/sdaptardar/Datasets/Hollywood2/Hollywood2/AVIClips/actioncliptrain00130.avi,6892,recognition,49.361684\\n',\n",
        "  '/nfs/bigeye/sdaptardar/Datasets/Hollywood2/Hollywood2/AVIClips/actioncliptrain00131.avi,6892,recognition,254.075065\\n',\n",
        "  '/nfs/bigeye/sdaptardar/Datasets/Hollywood2/Hollywood2/AVIClips/actioncliptrain00132.avi,6892,recognition,44.254336\\n',\n",
        "  '/nfs/bigeye/sdaptardar/Datasets/Hollywood2/Hollywood2/AVIClips/actioncliptrain00133.avi,6892,recognition,179.939838\\n',\n",
        "  '/nfs/bigeye/sdaptardar/Datasets/Hollywood2/Hollywood2/AVIClips/actioncliptrain00134.avi,6892,recognition,129.874326\\n',\n",
        "  '/nfs/bigeye/sdaptardar/Datasets/Hollywood2/Hollywood2/AVIClips/actioncliptrain00135.avi,6892,recognition,76.136312\\n',\n",
        "  '/nfs/bigeye/sdaptardar/Datasets/Hollywood2/Hollywood2/AVIClips/actioncliptrain00136.avi,6892,recognition,47.588719\\n',\n",
        "  '/nfs/bigeye/sdaptardar/Datasets/Hollywood2/Hollywood2/AVIClips/actioncliptrain00137.avi,6892,recognition,86.756390\\n',\n",
        "  '/nfs/bigeye/sdaptardar/Datasets/Hollywood2/Hollywood2/AVIClips/actioncliptrain00138.avi,6892,recognition,84.367316\\n'],\n",
        " ['/nfs/bigeye/sdaptardar/Datasets/Hollywood2/Hollywood2/AVIClips/actioncliptrain00139.avi,6891,recognition,47.745226\\n',\n",
        "  '/nfs/bigeye/sdaptardar/Datasets/Hollywood2/Hollywood2/AVIClips/actioncliptrain00140.avi,6891,recognition,82.794866\\n',\n",
        "  '/nfs/bigeye/sdaptardar/Datasets/Hollywood2/Hollywood2/AVIClips/actioncliptrain00141.avi,6891,recognition,44.378595\\n',\n",
        "  '/nfs/bigeye/sdaptardar/Datasets/Hollywood2/Hollywood2/AVIClips/actioncliptrain00142.avi,6891,recognition,43.670826\\n',\n",
        "  '/nfs/bigeye/sdaptardar/Datasets/Hollywood2/Hollywood2/AVIClips/actioncliptrain00143.avi,6891,recognition,35.977291\\n',\n",
        "  '/nfs/bigeye/sdaptardar/Datasets/Hollywood2/Hollywood2/AVIClips/actioncliptrain00144.avi,6891,recognition,39.753768\\n',\n",
        "  '/nfs/bigeye/sdaptardar/Datasets/Hollywood2/Hollywood2/AVIClips/actioncliptrain00145.avi,6891,recognition,35.411300\\n',\n",
        "  '/nfs/bigeye/sdaptardar/Datasets/Hollywood2/Hollywood2/AVIClips/actioncliptrain00146.avi,6891,recognition,34.384488\\n',\n",
        "  '/nfs/bigeye/sdaptardar/Datasets/Hollywood2/Hollywood2/AVIClips/actioncliptrain00147.avi,6891,recognition,43.771611\\n',\n",
        "  '/nfs/bigeye/sdaptardar/Datasets/Hollywood2/Hollywood2/AVIClips/actioncliptrain00148.avi,6891,recognition,33.488101\\n',\n",
        "  '/nfs/bigeye/sdaptardar/Datasets/Hollywood2/Hollywood2/AVIClips/actioncliptrain00149.avi,6891,recognition,71.747206\\n',\n",
        "  '/nfs/bigeye/sdaptardar/Datasets/Hollywood2/Hollywood2/AVIClips/actioncliptrain00150.avi,6891,recognition,61.266355\\n',\n",
        "  '/nfs/bigeye/sdaptardar/Datasets/Hollywood2/Hollywood2/AVIClips/actioncliptrain00151.avi,6891,recognition,65.785516\\n',\n",
        "  '/nfs/bigeye/sdaptardar/Datasets/Hollywood2/Hollywood2/AVIClips/actioncliptrain00152.avi,6891,recognition,40.180827\\n',\n",
        "  '/nfs/bigeye/sdaptardar/Datasets/Hollywood2/Hollywood2/AVIClips/actioncliptrain00153.avi,6891,recognition,46.920617\\n',\n",
        "  '/nfs/bigeye/sdaptardar/Datasets/Hollywood2/Hollywood2/AVIClips/actioncliptrain00154.avi,6891,recognition,48.043681\\n',\n",
        "  '/nfs/bigeye/sdaptardar/Datasets/Hollywood2/Hollywood2/AVIClips/actioncliptrain00155.avi,6891,recognition,47.856414\\n',\n",
        "  '/nfs/bigeye/sdaptardar/Datasets/Hollywood2/Hollywood2/AVIClips/actioncliptrain00156.avi,6891,recognition,39.717033\\n',\n",
        "  '/nfs/bigeye/sdaptardar/Datasets/Hollywood2/Hollywood2/AVIClips/actioncliptrain00157.avi,6891,recognition,20.405203\\n',\n",
        "  '/nfs/bigeye/sdaptardar/Datasets/Hollywood2/Hollywood2/AVIClips/actioncliptrain00158.avi,6891,recognition,23.590100\\n',\n",
        "  '/nfs/bigeye/sdaptardar/Datasets/Hollywood2/Hollywood2/AVIClips/actioncliptrain00159.avi,6891,recognition,54.970849\\n',\n",
        "  '/nfs/bigeye/sdaptardar/Datasets/Hollywood2/Hollywood2/AVIClips/actioncliptrain00160.avi,6891,recognition,40.556924\\n',\n",
        "  '/nfs/bigeye/sdaptardar/Datasets/Hollywood2/Hollywood2/AVIClips/actioncliptrain00161.avi,6891,recognition,56.968117\\n',\n",
        "  '/nfs/bigeye/sdaptardar/Datasets/Hollywood2/Hollywood2/AVIClips/actioncliptrain00162.avi,6891,recognition,208.342795\\n',\n",
        "  '/nfs/bigeye/sdaptardar/Datasets/Hollywood2/Hollywood2/AVIClips/actioncliptrain00163.avi,6891,recognition,44.846898\\n',\n",
        "  '/nfs/bigeye/sdaptardar/Datasets/Hollywood2/Hollywood2/AVIClips/actioncliptrain00164.avi,6891,recognition,37.484995\\n',\n",
        "  '/nfs/bigeye/sdaptardar/Datasets/Hollywood2/Hollywood2/AVIClips/actioncliptrain00165.avi,6891,recognition,59.121834\\n',\n",
        "  '/nfs/bigeye/sdaptardar/Datasets/Hollywood2/Hollywood2/AVIClips/actioncliptrain00166.avi,6891,recognition,42.715754\\n',\n",
        "  '/nfs/bigeye/sdaptardar/Datasets/Hollywood2/Hollywood2/AVIClips/actioncliptrain00167.avi,6891,recognition,45.169947\\n',\n",
        "  '/nfs/bigeye/sdaptardar/Datasets/Hollywood2/Hollywood2/AVIClips/actioncliptrain00168.avi,6891,recognition,52.480456\\n',\n",
        "  '/nfs/bigeye/sdaptardar/Datasets/Hollywood2/Hollywood2/AVIClips/actioncliptrain00169.avi,6891,recognition,49.534147\\n',\n",
        "  '/nfs/bigeye/sdaptardar/Datasets/Hollywood2/Hollywood2/AVIClips/actioncliptrain00170.avi,6891,recognition,37.162734\\n',\n",
        "  '/nfs/bigeye/sdaptardar/Datasets/Hollywood2/Hollywood2/AVIClips/actioncliptrain00171.avi,6891,recognition,29.333197\\n',\n",
        "  '/nfs/bigeye/sdaptardar/Datasets/Hollywood2/Hollywood2/AVIClips/actioncliptrain00172.avi,6891,recognition,40.671438\\n',\n",
        "  '/nfs/bigeye/sdaptardar/Datasets/Hollywood2/Hollywood2/AVIClips/actioncliptrain00173.avi,6891,recognition,44.815322\\n',\n",
        "  '/nfs/bigeye/sdaptardar/Datasets/Hollywood2/Hollywood2/AVIClips/actioncliptrain00174.avi,6891,recognition,77.401974\\n',\n",
        "  '/nfs/bigeye/sdaptardar/Datasets/Hollywood2/Hollywood2/AVIClips/actioncliptrain00175.avi,6891,recognition,46.368346\\n',\n",
        "  '/nfs/bigeye/sdaptardar/Datasets/Hollywood2/Hollywood2/AVIClips/actioncliptrain00176.avi,6891,recognition,33.139566\\n',\n",
        "  '/nfs/bigeye/sdaptardar/Datasets/Hollywood2/Hollywood2/AVIClips/actioncliptrain00177.avi,6891,recognition,40.618973\\n',\n",
        "  '/nfs/bigeye/sdaptardar/Datasets/Hollywood2/Hollywood2/AVIClips/actioncliptrain00178.avi,6891,recognition,36.370221\\n',\n",
        "  '/nfs/bigeye/sdaptardar/Datasets/Hollywood2/Hollywood2/AVIClips/actioncliptrain00179.avi,6891,recognition,37.957330\\n',\n",
        "  '/nfs/bigeye/sdaptardar/Datasets/Hollywood2/Hollywood2/AVIClips/actioncliptrain00180.avi,6891,recognition,48.771957\\n',\n",
        "  '/nfs/bigeye/sdaptardar/Datasets/Hollywood2/Hollywood2/AVIClips/actioncliptrain00181.avi,6891,recognition,44.238600\\n',\n",
        "  '/nfs/bigeye/sdaptardar/Datasets/Hollywood2/Hollywood2/AVIClips/actioncliptrain00182.avi,6891,recognition,39.609807\\n',\n",
        "  '/nfs/bigeye/sdaptardar/Datasets/Hollywood2/Hollywood2/AVIClips/actioncliptrain00183.avi,6891,recognition,68.218563\\n',\n",
        "  '/nfs/bigeye/sdaptardar/Datasets/Hollywood2/Hollywood2/AVIClips/actioncliptrain00184.avi,6891,recognition,39.383309\\n',\n",
        "  '/nfs/bigeye/sdaptardar/Datasets/Hollywood2/Hollywood2/AVIClips/actioncliptrain00185.avi,6891,recognition,25.449512\\n',\n",
        "  '/nfs/bigeye/sdaptardar/Datasets/Hollywood2/Hollywood2/AVIClips/actioncliptrain00186.avi,6891,recognition,61.913346\\n',\n",
        "  '/nfs/bigeye/sdaptardar/Datasets/Hollywood2/Hollywood2/AVIClips/actioncliptrain00187.avi,6891,recognition,52.278572\\n',\n",
        "  '/nfs/bigeye/sdaptardar/Datasets/Hollywood2/Hollywood2/AVIClips/actioncliptrain00188.avi,6891,recognition,31.859257\\n',\n",
        "  '/nfs/bigeye/sdaptardar/Datasets/Hollywood2/Hollywood2/AVIClips/actioncliptrain00189.avi,6891,recognition,72.906672\\n',\n",
        "  '/nfs/bigeye/sdaptardar/Datasets/Hollywood2/Hollywood2/AVIClips/actioncliptrain00190.avi,6891,recognition,26.037698\\n',\n",
        "  '/nfs/bigeye/sdaptardar/Datasets/Hollywood2/Hollywood2/AVIClips/actioncliptrain00191.avi,6891,recognition,17.475552\\n',\n",
        "  '/nfs/bigeye/sdaptardar/Datasets/Hollywood2/Hollywood2/AVIClips/actioncliptrain00192.avi,6891,recognition,160.143172\\n',\n",
        "  '/nfs/bigeye/sdaptardar/Datasets/Hollywood2/Hollywood2/AVIClips/actioncliptrain00193.avi,6891,recognition,113.090500\\n',\n",
        "  '/nfs/bigeye/sdaptardar/Datasets/Hollywood2/Hollywood2/AVIClips/actioncliptrain00194.avi,6891,recognition,332.996321\\n',\n",
        "  '/nfs/bigeye/sdaptardar/Datasets/Hollywood2/Hollywood2/AVIClips/actioncliptrain00195.avi,6891,recognition,256.332724\\n',\n",
        "  '/nfs/bigeye/sdaptardar/Datasets/Hollywood2/Hollywood2/AVIClips/actioncliptrain00196.avi,6891,recognition,83.100417\\n',\n",
        "  '/nfs/bigeye/sdaptardar/Datasets/Hollywood2/Hollywood2/AVIClips/actioncliptrain00197.avi,6891,recognition,122.847261\\n',\n",
        "  '/nfs/bigeye/sdaptardar/Datasets/Hollywood2/Hollywood2/AVIClips/actioncliptrain00198.avi,6891,recognition,97.843664\\n',\n",
        "  '/nfs/bigeye/sdaptardar/Datasets/Hollywood2/Hollywood2/AVIClips/actioncliptrain00199.avi,6891,recognition,102.651215\\n',\n",
        "  '/nfs/bigeye/sdaptardar/Datasets/Hollywood2/Hollywood2/AVIClips/actioncliptrain00200.avi,6891,recognition,53.548243\\n',\n",
        "  '/nfs/bigeye/sdaptardar/Datasets/Hollywood2/Hollywood2/AVIClips/actioncliptrain00201.avi,6891,recognition,360.239575\\n',\n",
        "  '/nfs/bigeye/sdaptardar/Datasets/Hollywood2/Hollywood2/AVIClips/actioncliptrain00202.avi,6891,recognition,119.109485\\n',\n",
        "  '/nfs/bigeye/sdaptardar/Datasets/Hollywood2/Hollywood2/AVIClips/actioncliptrain00203.avi,6891,recognition,154.529243\\n',\n",
        "  '/nfs/bigeye/sdaptardar/Datasets/Hollywood2/Hollywood2/AVIClips/actioncliptrain00204.avi,6891,recognition,316.093746\\n',\n",
        "  '/nfs/bigeye/sdaptardar/Datasets/Hollywood2/Hollywood2/AVIClips/actioncliptrain00205.avi,6891,recognition,193.215884\\n',\n",
        "  '/nfs/bigeye/sdaptardar/Datasets/Hollywood2/Hollywood2/AVIClips/actioncliptrain00206.avi,6891,recognition,79.518346\\n',\n",
        "  '/nfs/bigeye/sdaptardar/Datasets/Hollywood2/Hollywood2/AVIClips/actioncliptrain00207.avi,6891,recognition,96.228129\\n',\n",
        "  '/nfs/bigeye/sdaptardar/Datasets/Hollywood2/Hollywood2/AVIClips/actioncliptrain00208.avi,6891,recognition,93.787708\\n',\n",
        "  '/nfs/bigeye/sdaptardar/Datasets/Hollywood2/Hollywood2/AVIClips/actioncliptrain00209.avi,6891,recognition,91.118802\\n',\n",
        "  '/nfs/bigeye/sdaptardar/Datasets/Hollywood2/Hollywood2/AVIClips/actioncliptrain00210.avi,6891,recognition,164.870655\\n',\n",
        "  '/nfs/bigeye/sdaptardar/Datasets/Hollywood2/Hollywood2/AVIClips/actioncliptrain00211.avi,6891,recognition,199.726528\\n',\n",
        "  '/nfs/bigeye/sdaptardar/Datasets/Hollywood2/Hollywood2/AVIClips/actioncliptrain00212.avi,6891,recognition,259.233740\\n',\n",
        "  '/nfs/bigeye/sdaptardar/Datasets/Hollywood2/Hollywood2/AVIClips/actioncliptrain00213.avi,6891,recognition,373.996426\\n',\n",
        "  '/nfs/bigeye/sdaptardar/Datasets/Hollywood2/Hollywood2/AVIClips/actioncliptrain00214.avi,6891,recognition,302.020098\\n',\n",
        "  '/nfs/bigeye/sdaptardar/Datasets/Hollywood2/Hollywood2/AVIClips/actioncliptrain00215.avi,6891,recognition,156.730256\\n',\n",
        "  '/nfs/bigeye/sdaptardar/Datasets/Hollywood2/Hollywood2/AVIClips/actioncliptrain00216.avi,6891,recognition,123.232332\\n',\n",
        "  '/nfs/bigeye/sdaptardar/Datasets/Hollywood2/Hollywood2/AVIClips/actioncliptrain00217.avi,6891,recognition,102.871340\\n',\n",
        "  '/nfs/bigeye/sdaptardar/Datasets/Hollywood2/Hollywood2/AVIClips/actioncliptrain00218.avi,6891,recognition,165.168083\\n',\n",
        "  '/nfs/bigeye/sdaptardar/Datasets/Hollywood2/Hollywood2/AVIClips/actioncliptrain00219.avi,6891,recognition,174.973983\\n',\n",
        "  '/nfs/bigeye/sdaptardar/Datasets/Hollywood2/Hollywood2/AVIClips/actioncliptrain00220.avi,6891,recognition,331.419209\\n',\n",
        "  '/nfs/bigeye/sdaptardar/Datasets/Hollywood2/Hollywood2/AVIClips/actioncliptrain00221.avi,6891,recognition,511.869580\\n',\n",
        "  '/nfs/bigeye/sdaptardar/Datasets/Hollywood2/Hollywood2/AVIClips/actioncliptrain00222.avi,6891,recognition,30.112418\\n',\n",
        "  '/nfs/bigeye/sdaptardar/Datasets/Hollywood2/Hollywood2/AVIClips/actioncliptrain00223.avi,6891,recognition,13.529254\\n',\n",
        "  '/nfs/bigeye/sdaptardar/Datasets/Hollywood2/Hollywood2/AVIClips/actioncliptrain00224.avi,6891,recognition,29.135500\\n',\n",
        "  '/nfs/bigeye/sdaptardar/Datasets/Hollywood2/Hollywood2/AVIClips/actioncliptrain00225.avi,6891,recognition,24.965816\\n',\n",
        "  '/nfs/bigeye/sdaptardar/Datasets/Hollywood2/Hollywood2/AVIClips/actioncliptrain00226.avi,6891,recognition,61.250849\\n',\n",
        "  '/nfs/bigeye/sdaptardar/Datasets/Hollywood2/Hollywood2/AVIClips/actioncliptrain00227.avi,6891,recognition,38.175853\\n',\n",
        "  '/nfs/bigeye/sdaptardar/Datasets/Hollywood2/Hollywood2/AVIClips/actioncliptrain00228.avi,6891,recognition,40.489102\\n',\n",
        "  '/nfs/bigeye/sdaptardar/Datasets/Hollywood2/Hollywood2/AVIClips/actioncliptrain00229.avi,6891,recognition,44.757385\\n',\n",
        "  '/nfs/bigeye/sdaptardar/Datasets/Hollywood2/Hollywood2/AVIClips/actioncliptrain00230.avi,6891,recognition,112.596638\\n',\n",
        "  '/nfs/bigeye/sdaptardar/Datasets/Hollywood2/Hollywood2/AVIClips/actioncliptrain00231.avi,6891,recognition,29.057124\\n',\n",
        "  '/nfs/bigeye/sdaptardar/Datasets/Hollywood2/Hollywood2/AVIClips/actioncliptrain00232.avi,6891,recognition,18.736853\\n',\n",
        "  '/nfs/bigeye/sdaptardar/Datasets/Hollywood2/Hollywood2/AVIClips/actioncliptrain00233.avi,6891,recognition,35.604533\\n',\n",
        "  '/nfs/bigeye/sdaptardar/Datasets/Hollywood2/Hollywood2/AVIClips/actioncliptrain00234.avi,6891,recognition,26.920531\\n',\n",
        "  '/nfs/bigeye/sdaptardar/Datasets/Hollywood2/Hollywood2/AVIClips/actioncliptrain00235.avi,6891,recognition,31.299460\\n',\n",
        "  '/nfs/bigeye/sdaptardar/Datasets/Hollywood2/Hollywood2/AVIClips/actioncliptrain00236.avi,6891,recognition,36.448374\\n',\n",
        "  '/nfs/bigeye/sdaptardar/Datasets/Hollywood2/Hollywood2/AVIClips/actioncliptrain00237.avi,6891,recognition,26.359984\\n',\n",
        "  '/nfs/bigeye/sdaptardar/Datasets/Hollywood2/Hollywood2/AVIClips/actioncliptrain00238.avi,6891,recognition,46.847299\\n',\n",
        "  '/nfs/bigeye/sdaptardar/Datasets/Hollywood2/Hollywood2/AVIClips/actioncliptrain00239.avi,6891,recognition,273.206623\\n',\n",
        "  '/nfs/bigeye/sdaptardar/Datasets/Hollywood2/Hollywood2/AVIClips/actioncliptrain00240.avi,6891,recognition,32.783636\\n',\n",
        "  '/nfs/bigeye/sdaptardar/Datasets/Hollywood2/Hollywood2/AVIClips/actioncliptrain00241.avi,6891,recognition,142.099365\\n',\n",
        "  '/nfs/bigeye/sdaptardar/Datasets/Hollywood2/Hollywood2/AVIClips/actioncliptrain00242.avi,6891,recognition,27.368888\\n',\n",
        "  '/nfs/bigeye/sdaptardar/Datasets/Hollywood2/Hollywood2/AVIClips/actioncliptrain00243.avi,6891,recognition,46.697746\\n',\n",
        "  '/nfs/bigeye/sdaptardar/Datasets/Hollywood2/Hollywood2/AVIClips/actioncliptrain00244.avi,6891,recognition,36.764639\\n',\n",
        "  '/nfs/bigeye/sdaptardar/Datasets/Hollywood2/Hollywood2/AVIClips/actioncliptrain00245.avi,6891,recognition,134.416120\\n',\n",
        "  '/nfs/bigeye/sdaptardar/Datasets/Hollywood2/Hollywood2/AVIClips/actioncliptrain00246.avi,6891,recognition,31.680375\\n',\n",
        "  '/nfs/bigeye/sdaptardar/Datasets/Hollywood2/Hollywood2/AVIClips/actioncliptrain00247.avi,6891,recognition,24.274478\\n',\n",
        "  '/nfs/bigeye/sdaptardar/Datasets/Hollywood2/Hollywood2/AVIClips/actioncliptrain00248.avi,6891,recognition,47.437469\\n',\n",
        "  '/nfs/bigeye/sdaptardar/Datasets/Hollywood2/Hollywood2/AVIClips/actioncliptrain00249.avi,6891,recognition,269.625414\\n',\n",
        "  '/nfs/bigeye/sdaptardar/Datasets/Hollywood2/Hollywood2/AVIClips/actioncliptrain00250.avi,6891,recognition,32.322364\\n',\n",
        "  '/nfs/bigeye/sdaptardar/Datasets/Hollywood2/Hollywood2/AVIClips/actioncliptrain00251.avi,6891,recognition,40.773396\\n',\n",
        "  '/nfs/bigeye/sdaptardar/Datasets/Hollywood2/Hollywood2/AVIClips/actioncliptrain00252.avi,6891,recognition,163.442989\\n',\n",
        "  '/nfs/bigeye/sdaptardar/Datasets/Hollywood2/Hollywood2/AVIClips/actioncliptrain00253.avi,6891,recognition,31.322598\\n',\n",
        "  '/nfs/bigeye/sdaptardar/Datasets/Hollywood2/Hollywood2/AVIClips/actioncliptrain00254.avi,6891,recognition,91.485813\\n',\n",
        "  '/nfs/bigeye/sdaptardar/Datasets/Hollywood2/Hollywood2/AVIClips/actioncliptrain00255.avi,6891,recognition,39.083496\\n',\n",
        "  '/nfs/bigeye/sdaptardar/Datasets/Hollywood2/Hollywood2/AVIClips/actioncliptrain00256.avi,6891,recognition,73.857768\\n',\n",
        "  '/nfs/bigeye/sdaptardar/Datasets/Hollywood2/Hollywood2/AVIClips/actioncliptrain00257.avi,6891,recognition,116.612692\\n',\n",
        "  '/nfs/bigeye/sdaptardar/Datasets/Hollywood2/Hollywood2/AVIClips/actioncliptrain00258.avi,6891,recognition,172.664320\\n',\n",
        "  '/nfs/bigeye/sdaptardar/Datasets/Hollywood2/Hollywood2/AVIClips/actioncliptrain00259.avi,6891,recognition,152.166495\\n',\n",
        "  '/nfs/bigeye/sdaptardar/Datasets/Hollywood2/Hollywood2/AVIClips/actioncliptrain00260.avi,6891,recognition,43.437882\\n',\n",
        "  '/nfs/bigeye/sdaptardar/Datasets/Hollywood2/Hollywood2/AVIClips/actioncliptrain00261.avi,6891,recognition,58.089771\\n',\n",
        "  '/nfs/bigeye/sdaptardar/Datasets/Hollywood2/Hollywood2/AVIClips/actioncliptrain00262.avi,6891,recognition,37.941008\\n',\n",
        "  '/nfs/bigeye/sdaptardar/Datasets/Hollywood2/Hollywood2/AVIClips/actioncliptrain00263.avi,6891,recognition,41.166663\\n',\n",
        "  '/nfs/bigeye/sdaptardar/Datasets/Hollywood2/Hollywood2/AVIClips/actioncliptrain00264.avi,6891,recognition,106.158341\\n',\n",
        "  '/nfs/bigeye/sdaptardar/Datasets/Hollywood2/Hollywood2/AVIClips/actioncliptrain00265.avi,6891,recognition,40.099259\\n',\n",
        "  '/nfs/bigeye/sdaptardar/Datasets/Hollywood2/Hollywood2/AVIClips/actioncliptrain00266.avi,6891,recognition,38.955572\\n',\n",
        "  '/nfs/bigeye/sdaptardar/Datasets/Hollywood2/Hollywood2/AVIClips/actioncliptrain00267.avi,6891,recognition,38.580708\\n',\n",
        "  '/nfs/bigeye/sdaptardar/Datasets/Hollywood2/Hollywood2/AVIClips/actioncliptrain00268.avi,6891,recognition,38.183451\\n',\n",
        "  '/nfs/bigeye/sdaptardar/Datasets/Hollywood2/Hollywood2/AVIClips/actioncliptrain00269.avi,6891,recognition,39.087982\\n',\n",
        "  '/nfs/bigeye/sdaptardar/Datasets/Hollywood2/Hollywood2/AVIClips/actioncliptrain00270.avi,6891,recognition,40.906217\\n',\n",
        "  '/nfs/bigeye/sdaptardar/Datasets/Hollywood2/Hollywood2/AVIClips/actioncliptrain00271.avi,6891,recognition,50.459864\\n',\n",
        "  '/nfs/bigeye/sdaptardar/Datasets/Hollywood2/Hollywood2/AVIClips/actioncliptrain00272.avi,6891,recognition,46.159936\\n',\n",
        "  '/nfs/bigeye/sdaptardar/Datasets/Hollywood2/Hollywood2/AVIClips/actioncliptrain00273.avi,6891,recognition,40.826651\\n',\n",
        "  '/nfs/bigeye/sdaptardar/Datasets/Hollywood2/Hollywood2/AVIClips/actioncliptrain00274.avi,6891,recognition,21.545919\\n',\n",
        "  '/nfs/bigeye/sdaptardar/Datasets/Hollywood2/Hollywood2/AVIClips/actioncliptrain00275.avi,6891,recognition,67.938217\\n'],\n",
        " ['/nfs/bigeye/sdaptardar/Datasets/Hollywood2/Hollywood2/AVIClips/actioncliptrain00276.avi,6893,recognition,83.282456\\n',\n",
        "  '/nfs/bigeye/sdaptardar/Datasets/Hollywood2/Hollywood2/AVIClips/actioncliptrain00277.avi,6893,recognition,126.705684\\n',\n",
        "  '/nfs/bigeye/sdaptardar/Datasets/Hollywood2/Hollywood2/AVIClips/actioncliptrain00278.avi,6893,recognition,30.216123\\n',\n",
        "  '/nfs/bigeye/sdaptardar/Datasets/Hollywood2/Hollywood2/AVIClips/actioncliptrain00279.avi,6893,recognition,46.083023\\n',\n",
        "  '/nfs/bigeye/sdaptardar/Datasets/Hollywood2/Hollywood2/AVIClips/actioncliptrain00280.avi,6893,recognition,17.403477\\n',\n",
        "  '/nfs/bigeye/sdaptardar/Datasets/Hollywood2/Hollywood2/AVIClips/actioncliptrain00281.avi,6893,recognition,16.863497\\n',\n",
        "  '/nfs/bigeye/sdaptardar/Datasets/Hollywood2/Hollywood2/AVIClips/actioncliptrain00282.avi,6893,recognition,49.910616\\n',\n",
        "  '/nfs/bigeye/sdaptardar/Datasets/Hollywood2/Hollywood2/AVIClips/actioncliptrain00283.avi,6893,recognition,35.997656\\n',\n",
        "  '/nfs/bigeye/sdaptardar/Datasets/Hollywood2/Hollywood2/AVIClips/actioncliptrain00284.avi,6893,recognition,64.727705\\n',\n",
        "  '/nfs/bigeye/sdaptardar/Datasets/Hollywood2/Hollywood2/AVIClips/actioncliptrain00285.avi,6893,recognition,45.491105\\n',\n",
        "  '/nfs/bigeye/sdaptardar/Datasets/Hollywood2/Hollywood2/AVIClips/actioncliptrain00286.avi,6893,recognition,36.264753\\n',\n",
        "  '/nfs/bigeye/sdaptardar/Datasets/Hollywood2/Hollywood2/AVIClips/actioncliptrain00287.avi,6893,recognition,73.527349\\n',\n",
        "  '/nfs/bigeye/sdaptardar/Datasets/Hollywood2/Hollywood2/AVIClips/actioncliptrain00288.avi,6893,recognition,73.477100\\n',\n",
        "  '/nfs/bigeye/sdaptardar/Datasets/Hollywood2/Hollywood2/AVIClips/actioncliptrain00289.avi,6893,recognition,57.511257\\n',\n",
        "  '/nfs/bigeye/sdaptardar/Datasets/Hollywood2/Hollywood2/AVIClips/actioncliptrain00290.avi,6893,recognition,54.562601\\n',\n",
        "  '/nfs/bigeye/sdaptardar/Datasets/Hollywood2/Hollywood2/AVIClips/actioncliptrain00291.avi,6893,recognition,595.829203\\n',\n",
        "  '/nfs/bigeye/sdaptardar/Datasets/Hollywood2/Hollywood2/AVIClips/actioncliptrain00292.avi,6893,recognition,83.662742\\n',\n",
        "  '/nfs/bigeye/sdaptardar/Datasets/Hollywood2/Hollywood2/AVIClips/actioncliptrain00293.avi,6893,recognition,58.022971\\n',\n",
        "  '/nfs/bigeye/sdaptardar/Datasets/Hollywood2/Hollywood2/AVIClips/actioncliptrain00294.avi,6893,recognition,225.332697\\n',\n",
        "  '/nfs/bigeye/sdaptardar/Datasets/Hollywood2/Hollywood2/AVIClips/actioncliptrain00295.avi,6893,recognition,45.321612\\n',\n",
        "  '/nfs/bigeye/sdaptardar/Datasets/Hollywood2/Hollywood2/AVIClips/actioncliptrain00296.avi,6893,recognition,37.943871\\n',\n",
        "  '/nfs/bigeye/sdaptardar/Datasets/Hollywood2/Hollywood2/AVIClips/actioncliptrain00297.avi,6893,recognition,89.080260\\n',\n",
        "  '/nfs/bigeye/sdaptardar/Datasets/Hollywood2/Hollywood2/AVIClips/actioncliptrain00298.avi,6893,recognition,154.133813\\n',\n",
        "  '/nfs/bigeye/sdaptardar/Datasets/Hollywood2/Hollywood2/AVIClips/actioncliptrain00299.avi,6893,recognition,84.055500\\n',\n",
        "  '/nfs/bigeye/sdaptardar/Datasets/Hollywood2/Hollywood2/AVIClips/actioncliptrain00300.avi,6893,recognition,209.184113\\n',\n",
        "  '/nfs/bigeye/sdaptardar/Datasets/Hollywood2/Hollywood2/AVIClips/actioncliptrain00301.avi,6893,recognition,38.210669\\n',\n",
        "  '/nfs/bigeye/sdaptardar/Datasets/Hollywood2/Hollywood2/AVIClips/actioncliptrain00302.avi,6893,recognition,35.658540\\n',\n",
        "  '/nfs/bigeye/sdaptardar/Datasets/Hollywood2/Hollywood2/AVIClips/actioncliptrain00303.avi,6893,recognition,94.930391\\n',\n",
        "  '/nfs/bigeye/sdaptardar/Datasets/Hollywood2/Hollywood2/AVIClips/actioncliptrain00304.avi,6893,recognition,52.722908\\n',\n",
        "  '/nfs/bigeye/sdaptardar/Datasets/Hollywood2/Hollywood2/AVIClips/actioncliptrain00305.avi,6893,recognition,471.227303\\n',\n",
        "  '/nfs/bigeye/sdaptardar/Datasets/Hollywood2/Hollywood2/AVIClips/actioncliptrain00306.avi,6893,recognition,277.337761\\n',\n",
        "  '/nfs/bigeye/sdaptardar/Datasets/Hollywood2/Hollywood2/AVIClips/actioncliptrain00307.avi,6893,recognition,72.550446\\n',\n",
        "  '/nfs/bigeye/sdaptardar/Datasets/Hollywood2/Hollywood2/AVIClips/actioncliptrain00308.avi,6893,recognition,51.242377\\n',\n",
        "  '/nfs/bigeye/sdaptardar/Datasets/Hollywood2/Hollywood2/AVIClips/actioncliptrain00309.avi,6893,recognition,96.341770\\n',\n",
        "  '/nfs/bigeye/sdaptardar/Datasets/Hollywood2/Hollywood2/AVIClips/actioncliptrain00310.avi,6893,recognition,54.824098\\n',\n",
        "  '/nfs/bigeye/sdaptardar/Datasets/Hollywood2/Hollywood2/AVIClips/actioncliptrain00311.avi,6893,recognition,65.129270\\n',\n",
        "  '/nfs/bigeye/sdaptardar/Datasets/Hollywood2/Hollywood2/AVIClips/actioncliptrain00312.avi,6893,recognition,31.672723\\n',\n",
        "  '/nfs/bigeye/sdaptardar/Datasets/Hollywood2/Hollywood2/AVIClips/actioncliptrain00313.avi,6893,recognition,92.175278\\n',\n",
        "  '/nfs/bigeye/sdaptardar/Datasets/Hollywood2/Hollywood2/AVIClips/actioncliptrain00314.avi,6893,recognition,170.025712\\n',\n",
        "  '/nfs/bigeye/sdaptardar/Datasets/Hollywood2/Hollywood2/AVIClips/actioncliptrain00315.avi,6893,recognition,221.371595\\n',\n",
        "  '/nfs/bigeye/sdaptardar/Datasets/Hollywood2/Hollywood2/AVIClips/actioncliptrain00316.avi,6893,recognition,87.881973\\n',\n",
        "  '/nfs/bigeye/sdaptardar/Datasets/Hollywood2/Hollywood2/AVIClips/actioncliptrain00317.avi,6893,recognition,107.638492\\n',\n",
        "  '/nfs/bigeye/sdaptardar/Datasets/Hollywood2/Hollywood2/AVIClips/actioncliptrain00318.avi,6893,recognition,82.835323\\n',\n",
        "  '/nfs/bigeye/sdaptardar/Datasets/Hollywood2/Hollywood2/AVIClips/actioncliptrain00319.avi,6893,recognition,80.813404\\n',\n",
        "  '/nfs/bigeye/sdaptardar/Datasets/Hollywood2/Hollywood2/AVIClips/actioncliptrain00320.avi,6893,recognition,369.910338\\n',\n",
        "  '/nfs/bigeye/sdaptardar/Datasets/Hollywood2/Hollywood2/AVIClips/actioncliptrain00321.avi,6893,recognition,177.591396\\n',\n",
        "  '/nfs/bigeye/sdaptardar/Datasets/Hollywood2/Hollywood2/AVIClips/actioncliptrain00322.avi,6893,recognition,48.646149\\n',\n",
        "  '/nfs/bigeye/sdaptardar/Datasets/Hollywood2/Hollywood2/AVIClips/actioncliptrain00323.avi,6893,recognition,166.607993\\n',\n",
        "  '/nfs/bigeye/sdaptardar/Datasets/Hollywood2/Hollywood2/AVIClips/actioncliptrain00324.avi,6893,recognition,96.621712\\n',\n",
        "  '/nfs/bigeye/sdaptardar/Datasets/Hollywood2/Hollywood2/AVIClips/actioncliptrain00325.avi,6893,recognition,42.209298\\n',\n",
        "  '/nfs/bigeye/sdaptardar/Datasets/Hollywood2/Hollywood2/AVIClips/actioncliptrain00326.avi,6893,recognition,59.956084\\n',\n",
        "  '/nfs/bigeye/sdaptardar/Datasets/Hollywood2/Hollywood2/AVIClips/actioncliptrain00327.avi,6893,recognition,148.604136\\n',\n",
        "  '/nfs/bigeye/sdaptardar/Datasets/Hollywood2/Hollywood2/AVIClips/actioncliptrain00328.avi,6893,recognition,48.461610\\n',\n",
        "  '/nfs/bigeye/sdaptardar/Datasets/Hollywood2/Hollywood2/AVIClips/actioncliptrain00329.avi,6893,recognition,49.821853\\n',\n",
        "  '/nfs/bigeye/sdaptardar/Datasets/Hollywood2/Hollywood2/AVIClips/actioncliptrain00330.avi,6893,recognition,60.284941\\n',\n",
        "  '/nfs/bigeye/sdaptardar/Datasets/Hollywood2/Hollywood2/AVIClips/actioncliptrain00331.avi,6893,recognition,65.068001\\n',\n",
        "  '/nfs/bigeye/sdaptardar/Datasets/Hollywood2/Hollywood2/AVIClips/actioncliptrain00332.avi,6893,recognition,68.394140\\n',\n",
        "  '/nfs/bigeye/sdaptardar/Datasets/Hollywood2/Hollywood2/AVIClips/actioncliptrain00333.avi,6893,recognition,42.466423\\n',\n",
        "  '/nfs/bigeye/sdaptardar/Datasets/Hollywood2/Hollywood2/AVIClips/actioncliptrain00334.avi,6893,recognition,264.474052\\n',\n",
        "  '/nfs/bigeye/sdaptardar/Datasets/Hollywood2/Hollywood2/AVIClips/actioncliptrain00335.avi,6893,recognition,73.582173\\n',\n",
        "  '/nfs/bigeye/sdaptardar/Datasets/Hollywood2/Hollywood2/AVIClips/actioncliptrain00336.avi,6893,recognition,84.477385\\n',\n",
        "  '/nfs/bigeye/sdaptardar/Datasets/Hollywood2/Hollywood2/AVIClips/actioncliptrain00337.avi,6893,recognition,45.314669\\n',\n",
        "  '/nfs/bigeye/sdaptardar/Datasets/Hollywood2/Hollywood2/AVIClips/actioncliptrain00338.avi,6893,recognition,108.331507\\n',\n",
        "  '/nfs/bigeye/sdaptardar/Datasets/Hollywood2/Hollywood2/AVIClips/actioncliptrain00339.avi,6893,recognition,73.914688\\n',\n",
        "  '/nfs/bigeye/sdaptardar/Datasets/Hollywood2/Hollywood2/AVIClips/actioncliptrain00340.avi,6893,recognition,48.925955\\n',\n",
        "  '/nfs/bigeye/sdaptardar/Datasets/Hollywood2/Hollywood2/AVIClips/actioncliptrain00341.avi,6893,recognition,53.479758\\n',\n",
        "  '/nfs/bigeye/sdaptardar/Datasets/Hollywood2/Hollywood2/AVIClips/actioncliptrain00342.avi,6893,recognition,54.243371\\n',\n",
        "  '/nfs/bigeye/sdaptardar/Datasets/Hollywood2/Hollywood2/AVIClips/actioncliptrain00343.avi,6893,recognition,57.684716\\n',\n",
        "  '/nfs/bigeye/sdaptardar/Datasets/Hollywood2/Hollywood2/AVIClips/actioncliptrain00344.avi,6893,recognition,67.200466\\n',\n",
        "  '/nfs/bigeye/sdaptardar/Datasets/Hollywood2/Hollywood2/AVIClips/actioncliptrain00345.avi,6893,recognition,46.192768\\n',\n",
        "  '/nfs/bigeye/sdaptardar/Datasets/Hollywood2/Hollywood2/AVIClips/actioncliptrain00346.avi,6893,recognition,81.277345\\n',\n",
        "  '/nfs/bigeye/sdaptardar/Datasets/Hollywood2/Hollywood2/AVIClips/actioncliptrain00347.avi,6893,recognition,174.398526\\n',\n",
        "  '/nfs/bigeye/sdaptardar/Datasets/Hollywood2/Hollywood2/AVIClips/actioncliptrain00348.avi,6893,recognition,70.618816\\n',\n",
        "  '/nfs/bigeye/sdaptardar/Datasets/Hollywood2/Hollywood2/AVIClips/actioncliptrain00349.avi,6893,recognition,118.119215\\n',\n",
        "  '/nfs/bigeye/sdaptardar/Datasets/Hollywood2/Hollywood2/AVIClips/actioncliptrain00350.avi,6893,recognition,88.853824\\n',\n",
        "  '/nfs/bigeye/sdaptardar/Datasets/Hollywood2/Hollywood2/AVIClips/actioncliptrain00351.avi,6893,recognition,124.838147\\n',\n",
        "  '/nfs/bigeye/sdaptardar/Datasets/Hollywood2/Hollywood2/AVIClips/actioncliptrain00352.avi,6893,recognition,90.408899\\n',\n",
        "  '/nfs/bigeye/sdaptardar/Datasets/Hollywood2/Hollywood2/AVIClips/actioncliptrain00353.avi,6893,recognition,85.595348\\n',\n",
        "  '/nfs/bigeye/sdaptardar/Datasets/Hollywood2/Hollywood2/AVIClips/actioncliptrain00354.avi,6893,recognition,94.806717\\n',\n",
        "  '/nfs/bigeye/sdaptardar/Datasets/Hollywood2/Hollywood2/AVIClips/actioncliptrain00355.avi,6893,recognition,110.062615\\n',\n",
        "  '/nfs/bigeye/sdaptardar/Datasets/Hollywood2/Hollywood2/AVIClips/actioncliptrain00356.avi,6893,recognition,31.315196\\n',\n",
        "  '/nfs/bigeye/sdaptardar/Datasets/Hollywood2/Hollywood2/AVIClips/actioncliptrain00357.avi,6893,recognition,61.847765\\n',\n",
        "  '/nfs/bigeye/sdaptardar/Datasets/Hollywood2/Hollywood2/AVIClips/actioncliptrain00358.avi,6893,recognition,38.266835\\n',\n",
        "  '/nfs/bigeye/sdaptardar/Datasets/Hollywood2/Hollywood2/AVIClips/actioncliptrain00359.avi,6893,recognition,83.059930\\n',\n",
        "  '/nfs/bigeye/sdaptardar/Datasets/Hollywood2/Hollywood2/AVIClips/actioncliptrain00360.avi,6893,recognition,38.299261\\n',\n",
        "  '/nfs/bigeye/sdaptardar/Datasets/Hollywood2/Hollywood2/AVIClips/actioncliptrain00361.avi,6893,recognition,544.911403\\n',\n",
        "  '/nfs/bigeye/sdaptardar/Datasets/Hollywood2/Hollywood2/AVIClips/actioncliptrain00362.avi,6893,recognition,159.564099\\n',\n",
        "  '/nfs/bigeye/sdaptardar/Datasets/Hollywood2/Hollywood2/AVIClips/actioncliptrain00363.avi,6893,recognition,44.832933\\n',\n",
        "  '/nfs/bigeye/sdaptardar/Datasets/Hollywood2/Hollywood2/AVIClips/actioncliptrain00364.avi,6893,recognition,134.914316\\n',\n",
        "  '/nfs/bigeye/sdaptardar/Datasets/Hollywood2/Hollywood2/AVIClips/actioncliptrain00365.avi,6893,recognition,64.088071\\n',\n",
        "  '/nfs/bigeye/sdaptardar/Datasets/Hollywood2/Hollywood2/AVIClips/actioncliptrain00366.avi,6893,recognition,361.789603\\n',\n",
        "  '/nfs/bigeye/sdaptardar/Datasets/Hollywood2/Hollywood2/AVIClips/actioncliptrain00367.avi,6893,recognition,131.374800\\n',\n",
        "  '/nfs/bigeye/sdaptardar/Datasets/Hollywood2/Hollywood2/AVIClips/actioncliptrain00368.avi,6893,recognition,52.444689\\n',\n",
        "  '/nfs/bigeye/sdaptardar/Datasets/Hollywood2/Hollywood2/AVIClips/actioncliptrain00369.avi,6893,recognition,99.519444\\n',\n",
        "  '/nfs/bigeye/sdaptardar/Datasets/Hollywood2/Hollywood2/AVIClips/actioncliptrain00370.avi,6893,recognition,124.106031\\n',\n",
        "  '/nfs/bigeye/sdaptardar/Datasets/Hollywood2/Hollywood2/AVIClips/actioncliptrain00371.avi,6893,recognition,43.203403\\n',\n",
        "  '/nfs/bigeye/sdaptardar/Datasets/Hollywood2/Hollywood2/AVIClips/actioncliptrain00372.avi,6893,recognition,43.832763\\n',\n",
        "  '/nfs/bigeye/sdaptardar/Datasets/Hollywood2/Hollywood2/AVIClips/actioncliptrain00373.avi,6893,recognition,30.968991\\n',\n",
        "  '/nfs/bigeye/sdaptardar/Datasets/Hollywood2/Hollywood2/AVIClips/actioncliptrain00374.avi,6893,recognition,51.098730\\n',\n",
        "  '/nfs/bigeye/sdaptardar/Datasets/Hollywood2/Hollywood2/AVIClips/actioncliptrain00375.avi,6893,recognition,117.026556\\n',\n",
        "  '/nfs/bigeye/sdaptardar/Datasets/Hollywood2/Hollywood2/AVIClips/actioncliptrain00376.avi,6893,recognition,118.177878\\n',\n",
        "  '/nfs/bigeye/sdaptardar/Datasets/Hollywood2/Hollywood2/AVIClips/actioncliptrain00377.avi,6893,recognition,59.013763\\n',\n",
        "  '/nfs/bigeye/sdaptardar/Datasets/Hollywood2/Hollywood2/AVIClips/actioncliptrain00378.avi,6893,recognition,23.848667\\n',\n",
        "  '/nfs/bigeye/sdaptardar/Datasets/Hollywood2/Hollywood2/AVIClips/actioncliptrain00379.avi,6893,recognition,42.353779\\n',\n",
        "  '/nfs/bigeye/sdaptardar/Datasets/Hollywood2/Hollywood2/AVIClips/actioncliptrain00380.avi,6893,recognition,45.327358\\n',\n",
        "  '/nfs/bigeye/sdaptardar/Datasets/Hollywood2/Hollywood2/AVIClips/actioncliptrain00381.avi,6893,recognition,42.756887\\n',\n",
        "  '/nfs/bigeye/sdaptardar/Datasets/Hollywood2/Hollywood2/AVIClips/actioncliptrain00382.avi,6893,recognition,82.310643\\n',\n",
        "  '/nfs/bigeye/sdaptardar/Datasets/Hollywood2/Hollywood2/AVIClips/actioncliptrain00383.avi,6893,recognition,40.550842\\n',\n",
        "  '/nfs/bigeye/sdaptardar/Datasets/Hollywood2/Hollywood2/AVIClips/actioncliptrain00384.avi,6893,recognition,31.950283\\n',\n",
        "  '/nfs/bigeye/sdaptardar/Datasets/Hollywood2/Hollywood2/AVIClips/actioncliptrain00385.avi,6893,recognition,33.432603\\n',\n",
        "  '/nfs/bigeye/sdaptardar/Datasets/Hollywood2/Hollywood2/AVIClips/actioncliptrain00386.avi,6893,recognition,80.216054\\n',\n",
        "  '/nfs/bigeye/sdaptardar/Datasets/Hollywood2/Hollywood2/AVIClips/actioncliptrain00387.avi,6893,recognition,71.492400\\n',\n",
        "  '/nfs/bigeye/sdaptardar/Datasets/Hollywood2/Hollywood2/AVIClips/actioncliptrain00388.avi,6893,recognition,110.145342\\n',\n",
        "  '/nfs/bigeye/sdaptardar/Datasets/Hollywood2/Hollywood2/AVIClips/actioncliptrain00389.avi,6893,recognition,146.723402\\n',\n",
        "  '/nfs/bigeye/sdaptardar/Datasets/Hollywood2/Hollywood2/AVIClips/actioncliptrain00390.avi,6893,recognition,161.096392\\n',\n",
        "  '/nfs/bigeye/sdaptardar/Datasets/Hollywood2/Hollywood2/AVIClips/actioncliptrain00391.avi,6893,recognition,167.373485\\n',\n",
        "  '/nfs/bigeye/sdaptardar/Datasets/Hollywood2/Hollywood2/AVIClips/actioncliptrain00392.avi,6893,recognition,44.631913\\n',\n",
        "  '/nfs/bigeye/sdaptardar/Datasets/Hollywood2/Hollywood2/AVIClips/actioncliptrain00393.avi,6893,recognition,37.811421\\n',\n",
        "  '/nfs/bigeye/sdaptardar/Datasets/Hollywood2/Hollywood2/AVIClips/actioncliptrain00394.avi,6893,recognition,131.573872\\n',\n",
        "  '/nfs/bigeye/sdaptardar/Datasets/Hollywood2/Hollywood2/AVIClips/actioncliptrain00395.avi,6893,recognition,75.696342\\n',\n",
        "  '/nfs/bigeye/sdaptardar/Datasets/Hollywood2/Hollywood2/AVIClips/actioncliptrain00396.avi,6893,recognition,52.259692\\n',\n",
        "  '/nfs/bigeye/sdaptardar/Datasets/Hollywood2/Hollywood2/AVIClips/actioncliptrain00397.avi,6893,recognition,146.541210\\n',\n",
        "  '/nfs/bigeye/sdaptardar/Datasets/Hollywood2/Hollywood2/AVIClips/actioncliptrain00398.avi,6893,recognition,120.456553\\n',\n",
        "  '/nfs/bigeye/sdaptardar/Datasets/Hollywood2/Hollywood2/AVIClips/actioncliptrain00399.avi,6893,recognition,88.675297\\n',\n",
        "  '/nfs/bigeye/sdaptardar/Datasets/Hollywood2/Hollywood2/AVIClips/actioncliptrain00400.avi,6893,recognition,47.965343\\n',\n",
        "  '/nfs/bigeye/sdaptardar/Datasets/Hollywood2/Hollywood2/AVIClips/actioncliptrain00401.avi,6893,recognition,76.639622\\n',\n",
        "  '/nfs/bigeye/sdaptardar/Datasets/Hollywood2/Hollywood2/AVIClips/actioncliptrain00402.avi,6893,recognition,42.559133\\n',\n",
        "  '/nfs/bigeye/sdaptardar/Datasets/Hollywood2/Hollywood2/AVIClips/actioncliptrain00403.avi,6893,recognition,142.178052\\n',\n",
        "  '/nfs/bigeye/sdaptardar/Datasets/Hollywood2/Hollywood2/AVIClips/actioncliptrain00404.avi,6893,recognition,29.841713\\n',\n",
        "  '/nfs/bigeye/sdaptardar/Datasets/Hollywood2/Hollywood2/AVIClips/actioncliptrain00405.avi,6893,recognition,173.847898\\n',\n",
        "  '/nfs/bigeye/sdaptardar/Datasets/Hollywood2/Hollywood2/AVIClips/actioncliptrain00406.avi,6893,recognition,54.401198\\n',\n",
        "  '/nfs/bigeye/sdaptardar/Datasets/Hollywood2/Hollywood2/AVIClips/actioncliptrain00407.avi,6893,recognition,67.170029\\n',\n",
        "  '/nfs/bigeye/sdaptardar/Datasets/Hollywood2/Hollywood2/AVIClips/actioncliptrain00408.avi,6893,recognition,37.116185\\n',\n",
        "  '/nfs/bigeye/sdaptardar/Datasets/Hollywood2/Hollywood2/AVIClips/actioncliptrain00409.avi,6893,recognition,53.436816\\n',\n",
        "  '/nfs/bigeye/sdaptardar/Datasets/Hollywood2/Hollywood2/AVIClips/actioncliptrain00410.avi,6893,recognition,53.568519\\n',\n",
        "  '/nfs/bigeye/sdaptardar/Datasets/Hollywood2/Hollywood2/AVIClips/actioncliptrain00411.avi,6893,recognition,92.574074\\n',\n",
        "  '/nfs/bigeye/sdaptardar/Datasets/Hollywood2/Hollywood2/AVIClips/actioncliptrain00412.avi,6893,recognition,59.559405\\n'],\n",
        " ['/nfs/bigeye/sdaptardar/Datasets/Hollywood2/Hollywood2/AVIClips/actioncliptrain00413.avi,6811,precision,48.862455\\n',\n",
        "  '/nfs/bigeye/sdaptardar/Datasets/Hollywood2/Hollywood2/AVIClips/actioncliptrain00414.avi,6811,precision,199.672593\\n',\n",
        "  '/nfs/bigeye/sdaptardar/Datasets/Hollywood2/Hollywood2/AVIClips/actioncliptrain00415.avi,6811,precision,218.105832\\n',\n",
        "  '/nfs/bigeye/sdaptardar/Datasets/Hollywood2/Hollywood2/AVIClips/actioncliptrain00416.avi,6811,precision,51.205859\\n',\n",
        "  '/nfs/bigeye/sdaptardar/Datasets/Hollywood2/Hollywood2/AVIClips/actioncliptrain00417.avi,6811,precision,148.019978\\n',\n",
        "  '/nfs/bigeye/sdaptardar/Datasets/Hollywood2/Hollywood2/AVIClips/actioncliptrain00418.avi,6811,precision,68.912856\\n',\n",
        "  '/nfs/bigeye/sdaptardar/Datasets/Hollywood2/Hollywood2/AVIClips/actioncliptrain00419.avi,6811,precision,75.784122\\n',\n",
        "  '/nfs/bigeye/sdaptardar/Datasets/Hollywood2/Hollywood2/AVIClips/actioncliptrain00420.avi,6811,precision,146.910117\\n',\n",
        "  '/nfs/bigeye/sdaptardar/Datasets/Hollywood2/Hollywood2/AVIClips/actioncliptrain00421.avi,6811,precision,75.468772\\n',\n",
        "  '/nfs/bigeye/sdaptardar/Datasets/Hollywood2/Hollywood2/AVIClips/actioncliptrain00422.avi,6811,precision,64.475808\\n',\n",
        "  '/nfs/bigeye/sdaptardar/Datasets/Hollywood2/Hollywood2/AVIClips/actioncliptrain00423.avi,6811,precision,206.462665\\n',\n",
        "  '/nfs/bigeye/sdaptardar/Datasets/Hollywood2/Hollywood2/AVIClips/actioncliptrain00424.avi,6811,precision,52.488512\\n',\n",
        "  '/nfs/bigeye/sdaptardar/Datasets/Hollywood2/Hollywood2/AVIClips/actioncliptrain00425.avi,6811,precision,81.783582\\n',\n",
        "  '/nfs/bigeye/sdaptardar/Datasets/Hollywood2/Hollywood2/AVIClips/actioncliptrain00426.avi,6811,precision,290.013075\\n',\n",
        "  '/nfs/bigeye/sdaptardar/Datasets/Hollywood2/Hollywood2/AVIClips/actioncliptrain00427.avi,6811,precision,102.876294\\n',\n",
        "  '/nfs/bigeye/sdaptardar/Datasets/Hollywood2/Hollywood2/AVIClips/actioncliptrain00428.avi,6811,precision,144.722646\\n',\n",
        "  '/nfs/bigeye/sdaptardar/Datasets/Hollywood2/Hollywood2/AVIClips/actioncliptrain00429.avi,6811,precision,102.914422\\n',\n",
        "  '/nfs/bigeye/sdaptardar/Datasets/Hollywood2/Hollywood2/AVIClips/actioncliptrain00430.avi,6811,precision,114.179231\\n',\n",
        "  '/nfs/bigeye/sdaptardar/Datasets/Hollywood2/Hollywood2/AVIClips/actioncliptrain00431.avi,6811,precision,33.659616\\n',\n",
        "  '/nfs/bigeye/sdaptardar/Datasets/Hollywood2/Hollywood2/AVIClips/actioncliptrain00432.avi,6811,precision,143.254591\\n',\n",
        "  '/nfs/bigeye/sdaptardar/Datasets/Hollywood2/Hollywood2/AVIClips/actioncliptrain00433.avi,6811,precision,35.919520\\n',\n",
        "  '/nfs/bigeye/sdaptardar/Datasets/Hollywood2/Hollywood2/AVIClips/actioncliptrain00434.avi,6811,precision,43.207009\\n',\n",
        "  '/nfs/bigeye/sdaptardar/Datasets/Hollywood2/Hollywood2/AVIClips/actioncliptrain00435.avi,6811,precision,30.259643\\n',\n",
        "  '/nfs/bigeye/sdaptardar/Datasets/Hollywood2/Hollywood2/AVIClips/actioncliptrain00436.avi,6811,precision,54.889617\\n',\n",
        "  '/nfs/bigeye/sdaptardar/Datasets/Hollywood2/Hollywood2/AVIClips/actioncliptrain00437.avi,6811,precision,82.919633\\n',\n",
        "  '/nfs/bigeye/sdaptardar/Datasets/Hollywood2/Hollywood2/AVIClips/actioncliptrain00438.avi,6811,precision,56.895926\\n',\n",
        "  '/nfs/bigeye/sdaptardar/Datasets/Hollywood2/Hollywood2/AVIClips/actioncliptrain00439.avi,6811,precision,48.546722\\n',\n",
        "  '/nfs/bigeye/sdaptardar/Datasets/Hollywood2/Hollywood2/AVIClips/actioncliptrain00440.avi,6811,precision,84.689195\\n',\n",
        "  '/nfs/bigeye/sdaptardar/Datasets/Hollywood2/Hollywood2/AVIClips/actioncliptrain00441.avi,6811,precision,62.242480\\n',\n",
        "  '/nfs/bigeye/sdaptardar/Datasets/Hollywood2/Hollywood2/AVIClips/actioncliptrain00442.avi,6811,precision,40.271048\\n',\n",
        "  '/nfs/bigeye/sdaptardar/Datasets/Hollywood2/Hollywood2/AVIClips/actioncliptrain00443.avi,6811,precision,112.136284\\n',\n",
        "  '/nfs/bigeye/sdaptardar/Datasets/Hollywood2/Hollywood2/AVIClips/actioncliptrain00444.avi,6811,precision,56.116361\\n',\n",
        "  '/nfs/bigeye/sdaptardar/Datasets/Hollywood2/Hollywood2/AVIClips/actioncliptrain00445.avi,6811,precision,82.236605\\n',\n",
        "  '/nfs/bigeye/sdaptardar/Datasets/Hollywood2/Hollywood2/AVIClips/actioncliptrain00446.avi,6811,precision,115.465176\\n',\n",
        "  '/nfs/bigeye/sdaptardar/Datasets/Hollywood2/Hollywood2/AVIClips/actioncliptrain00447.avi,6811,precision,32.053431\\n',\n",
        "  '/nfs/bigeye/sdaptardar/Datasets/Hollywood2/Hollywood2/AVIClips/actioncliptrain00448.avi,6811,precision,60.854374\\n',\n",
        "  '/nfs/bigeye/sdaptardar/Datasets/Hollywood2/Hollywood2/AVIClips/actioncliptrain00449.avi,6811,precision,55.536426\\n',\n",
        "  '/nfs/bigeye/sdaptardar/Datasets/Hollywood2/Hollywood2/AVIClips/actioncliptrain00450.avi,6811,precision,38.286921\\n',\n",
        "  '/nfs/bigeye/sdaptardar/Datasets/Hollywood2/Hollywood2/AVIClips/actioncliptrain00451.avi,6811,precision,54.394115\\n',\n",
        "  '/nfs/bigeye/sdaptardar/Datasets/Hollywood2/Hollywood2/AVIClips/actioncliptrain00452.avi,6811,precision,43.583963\\n',\n",
        "  '/nfs/bigeye/sdaptardar/Datasets/Hollywood2/Hollywood2/AVIClips/actioncliptrain00453.avi,6811,precision,103.041687\\n',\n",
        "  '/nfs/bigeye/sdaptardar/Datasets/Hollywood2/Hollywood2/AVIClips/actioncliptrain00454.avi,6811,precision,90.437281\\n',\n",
        "  '/nfs/bigeye/sdaptardar/Datasets/Hollywood2/Hollywood2/AVIClips/actioncliptrain00455.avi,6811,precision,171.026674\\n',\n",
        "  '/nfs/bigeye/sdaptardar/Datasets/Hollywood2/Hollywood2/AVIClips/actioncliptrain00456.avi,6811,precision,99.859533\\n',\n",
        "  '/nfs/bigeye/sdaptardar/Datasets/Hollywood2/Hollywood2/AVIClips/actioncliptrain00457.avi,6811,precision,67.829279\\n',\n",
        "  '/nfs/bigeye/sdaptardar/Datasets/Hollywood2/Hollywood2/AVIClips/actioncliptrain00458.avi,6811,precision,59.241572\\n',\n",
        "  '/nfs/bigeye/sdaptardar/Datasets/Hollywood2/Hollywood2/AVIClips/actioncliptrain00459.avi,6811,precision,87.347051\\n',\n",
        "  '/nfs/bigeye/sdaptardar/Datasets/Hollywood2/Hollywood2/AVIClips/actioncliptrain00460.avi,6811,precision,41.058307\\n',\n",
        "  '/nfs/bigeye/sdaptardar/Datasets/Hollywood2/Hollywood2/AVIClips/actioncliptrain00461.avi,6811,precision,54.959063\\n',\n",
        "  '/nfs/bigeye/sdaptardar/Datasets/Hollywood2/Hollywood2/AVIClips/actioncliptrain00462.avi,6811,precision,46.415047\\n',\n",
        "  '/nfs/bigeye/sdaptardar/Datasets/Hollywood2/Hollywood2/AVIClips/actioncliptrain00463.avi,6811,precision,38.447179\\n',\n",
        "  '/nfs/bigeye/sdaptardar/Datasets/Hollywood2/Hollywood2/AVIClips/actioncliptrain00464.avi,6811,precision,94.824962\\n',\n",
        "  '/nfs/bigeye/sdaptardar/Datasets/Hollywood2/Hollywood2/AVIClips/actioncliptrain00465.avi,6811,precision,245.515588\\n',\n",
        "  '/nfs/bigeye/sdaptardar/Datasets/Hollywood2/Hollywood2/AVIClips/actioncliptrain00466.avi,6811,precision,69.426335\\n',\n",
        "  '/nfs/bigeye/sdaptardar/Datasets/Hollywood2/Hollywood2/AVIClips/actioncliptrain00467.avi,6811,precision,376.004508\\n',\n",
        "  '/nfs/bigeye/sdaptardar/Datasets/Hollywood2/Hollywood2/AVIClips/actioncliptrain00468.avi,6811,precision,94.072423\\n',\n",
        "  '/nfs/bigeye/sdaptardar/Datasets/Hollywood2/Hollywood2/AVIClips/actioncliptrain00469.avi,6811,precision,53.671389\\n',\n",
        "  '/nfs/bigeye/sdaptardar/Datasets/Hollywood2/Hollywood2/AVIClips/actioncliptrain00470.avi,6811,precision,47.107386\\n',\n",
        "  '/nfs/bigeye/sdaptardar/Datasets/Hollywood2/Hollywood2/AVIClips/actioncliptrain00471.avi,6811,precision,76.854441\\n',\n",
        "  '/nfs/bigeye/sdaptardar/Datasets/Hollywood2/Hollywood2/AVIClips/actioncliptrain00472.avi,6811,precision,48.330104\\n',\n",
        "  '/nfs/bigeye/sdaptardar/Datasets/Hollywood2/Hollywood2/AVIClips/actioncliptrain00473.avi,6811,precision,55.660832\\n',\n",
        "  '/nfs/bigeye/sdaptardar/Datasets/Hollywood2/Hollywood2/AVIClips/actioncliptrain00474.avi,6811,precision,130.636346\\n',\n",
        "  '/nfs/bigeye/sdaptardar/Datasets/Hollywood2/Hollywood2/AVIClips/actioncliptrain00475.avi,6811,precision,115.798347\\n',\n",
        "  '/nfs/bigeye/sdaptardar/Datasets/Hollywood2/Hollywood2/AVIClips/actioncliptrain00476.avi,6811,precision,69.118815\\n',\n",
        "  '/nfs/bigeye/sdaptardar/Datasets/Hollywood2/Hollywood2/AVIClips/actioncliptrain00477.avi,6811,precision,133.877385\\n',\n",
        "  '/nfs/bigeye/sdaptardar/Datasets/Hollywood2/Hollywood2/AVIClips/actioncliptrain00478.avi,6811,precision,50.750668\\n',\n",
        "  '/nfs/bigeye/sdaptardar/Datasets/Hollywood2/Hollywood2/AVIClips/actioncliptrain00479.avi,6811,precision,67.102373\\n',\n",
        "  '/nfs/bigeye/sdaptardar/Datasets/Hollywood2/Hollywood2/AVIClips/actioncliptrain00480.avi,6811,precision,24.702530\\n',\n",
        "  '/nfs/bigeye/sdaptardar/Datasets/Hollywood2/Hollywood2/AVIClips/actioncliptrain00481.avi,6811,precision,42.319668\\n',\n",
        "  '/nfs/bigeye/sdaptardar/Datasets/Hollywood2/Hollywood2/AVIClips/actioncliptrain00482.avi,6811,precision,62.539254\\n',\n",
        "  '/nfs/bigeye/sdaptardar/Datasets/Hollywood2/Hollywood2/AVIClips/actioncliptrain00483.avi,6811,precision,32.758706\\n',\n",
        "  '/nfs/bigeye/sdaptardar/Datasets/Hollywood2/Hollywood2/AVIClips/actioncliptrain00484.avi,6811,precision,71.793301\\n',\n",
        "  '/nfs/bigeye/sdaptardar/Datasets/Hollywood2/Hollywood2/AVIClips/actioncliptrain00485.avi,6811,precision,64.687646\\n',\n",
        "  '/nfs/bigeye/sdaptardar/Datasets/Hollywood2/Hollywood2/AVIClips/actioncliptrain00486.avi,6811,precision,44.314048\\n',\n",
        "  '/nfs/bigeye/sdaptardar/Datasets/Hollywood2/Hollywood2/AVIClips/actioncliptrain00487.avi,6811,precision,33.650439\\n',\n",
        "  '/nfs/bigeye/sdaptardar/Datasets/Hollywood2/Hollywood2/AVIClips/actioncliptrain00488.avi,6811,precision,147.181398\\n',\n",
        "  '/nfs/bigeye/sdaptardar/Datasets/Hollywood2/Hollywood2/AVIClips/actioncliptrain00489.avi,6811,precision,196.792272\\n',\n",
        "  '/nfs/bigeye/sdaptardar/Datasets/Hollywood2/Hollywood2/AVIClips/actioncliptrain00490.avi,6811,precision,72.069188\\n',\n",
        "  '/nfs/bigeye/sdaptardar/Datasets/Hollywood2/Hollywood2/AVIClips/actioncliptrain00491.avi,6811,precision,148.945034\\n',\n",
        "  '/nfs/bigeye/sdaptardar/Datasets/Hollywood2/Hollywood2/AVIClips/actioncliptrain00492.avi,6811,precision,75.715619\\n',\n",
        "  '/nfs/bigeye/sdaptardar/Datasets/Hollywood2/Hollywood2/AVIClips/actioncliptrain00493.avi,6811,precision,75.737761\\n',\n",
        "  '/nfs/bigeye/sdaptardar/Datasets/Hollywood2/Hollywood2/AVIClips/actioncliptrain00494.avi,6811,precision,126.637677\\n',\n",
        "  '/nfs/bigeye/sdaptardar/Datasets/Hollywood2/Hollywood2/AVIClips/actioncliptrain00495.avi,6811,precision,170.617922\\n',\n",
        "  '/nfs/bigeye/sdaptardar/Datasets/Hollywood2/Hollywood2/AVIClips/actioncliptrain00496.avi,6811,precision,49.940687\\n',\n",
        "  '/nfs/bigeye/sdaptardar/Datasets/Hollywood2/Hollywood2/AVIClips/actioncliptrain00497.avi,6811,precision,231.149874\\n',\n",
        "  '/nfs/bigeye/sdaptardar/Datasets/Hollywood2/Hollywood2/AVIClips/actioncliptrain00498.avi,6811,precision,108.699104\\n',\n",
        "  '/nfs/bigeye/sdaptardar/Datasets/Hollywood2/Hollywood2/AVIClips/actioncliptrain00499.avi,6811,precision,49.652068\\n',\n",
        "  '/nfs/bigeye/sdaptardar/Datasets/Hollywood2/Hollywood2/AVIClips/actioncliptrain00500.avi,6811,precision,98.075213\\n',\n",
        "  '/nfs/bigeye/sdaptardar/Datasets/Hollywood2/Hollywood2/AVIClips/actioncliptrain00501.avi,6811,precision,124.218281\\n',\n",
        "  '/nfs/bigeye/sdaptardar/Datasets/Hollywood2/Hollywood2/AVIClips/actioncliptrain00502.avi,6811,precision,55.377332\\n',\n",
        "  '/nfs/bigeye/sdaptardar/Datasets/Hollywood2/Hollywood2/AVIClips/actioncliptrain00503.avi,6811,precision,45.546470\\n',\n",
        "  '/nfs/bigeye/sdaptardar/Datasets/Hollywood2/Hollywood2/AVIClips/actioncliptrain00504.avi,6811,precision,125.957761\\n',\n",
        "  '/nfs/bigeye/sdaptardar/Datasets/Hollywood2/Hollywood2/AVIClips/actioncliptrain00505.avi,6811,precision,41.988270\\n',\n",
        "  '/nfs/bigeye/sdaptardar/Datasets/Hollywood2/Hollywood2/AVIClips/actioncliptrain00506.avi,6811,precision,65.772497\\n',\n",
        "  '/nfs/bigeye/sdaptardar/Datasets/Hollywood2/Hollywood2/AVIClips/actioncliptrain00507.avi,6811,precision,29.885449\\n',\n",
        "  '/nfs/bigeye/sdaptardar/Datasets/Hollywood2/Hollywood2/AVIClips/actioncliptrain00508.avi,6811,precision,58.938264\\n',\n",
        "  '/nfs/bigeye/sdaptardar/Datasets/Hollywood2/Hollywood2/AVIClips/actioncliptrain00509.avi,6811,precision,87.633980\\n',\n",
        "  '/nfs/bigeye/sdaptardar/Datasets/Hollywood2/Hollywood2/AVIClips/actioncliptrain00510.avi,6811,precision,205.477483\\n',\n",
        "  '/nfs/bigeye/sdaptardar/Datasets/Hollywood2/Hollywood2/AVIClips/actioncliptrain00511.avi,6811,precision,90.515334\\n',\n",
        "  '/nfs/bigeye/sdaptardar/Datasets/Hollywood2/Hollywood2/AVIClips/actioncliptrain00512.avi,6811,precision,37.435298\\n',\n",
        "  '/nfs/bigeye/sdaptardar/Datasets/Hollywood2/Hollywood2/AVIClips/actioncliptrain00513.avi,6811,precision,44.549021\\n',\n",
        "  '/nfs/bigeye/sdaptardar/Datasets/Hollywood2/Hollywood2/AVIClips/actioncliptrain00514.avi,6811,precision,33.532721\\n',\n",
        "  '/nfs/bigeye/sdaptardar/Datasets/Hollywood2/Hollywood2/AVIClips/actioncliptrain00515.avi,6811,precision,97.201670\\n',\n",
        "  '/nfs/bigeye/sdaptardar/Datasets/Hollywood2/Hollywood2/AVIClips/actioncliptrain00516.avi,6811,precision,65.116725\\n',\n",
        "  '/nfs/bigeye/sdaptardar/Datasets/Hollywood2/Hollywood2/AVIClips/actioncliptrain00517.avi,6811,precision,105.744933\\n',\n",
        "  '/nfs/bigeye/sdaptardar/Datasets/Hollywood2/Hollywood2/AVIClips/actioncliptrain00518.avi,6811,precision,41.646747\\n',\n",
        "  '/nfs/bigeye/sdaptardar/Datasets/Hollywood2/Hollywood2/AVIClips/actioncliptrain00519.avi,6811,precision,277.226255\\n',\n",
        "  '/nfs/bigeye/sdaptardar/Datasets/Hollywood2/Hollywood2/AVIClips/actioncliptrain00520.avi,6811,precision,73.222421\\n',\n",
        "  '/nfs/bigeye/sdaptardar/Datasets/Hollywood2/Hollywood2/AVIClips/actioncliptrain00521.avi,6811,precision,180.226575\\n',\n",
        "  '/nfs/bigeye/sdaptardar/Datasets/Hollywood2/Hollywood2/AVIClips/actioncliptrain00522.avi,6811,precision,38.964144\\n',\n",
        "  '/nfs/bigeye/sdaptardar/Datasets/Hollywood2/Hollywood2/AVIClips/actioncliptrain00523.avi,6811,precision,30.159393\\n',\n",
        "  '/nfs/bigeye/sdaptardar/Datasets/Hollywood2/Hollywood2/AVIClips/actioncliptrain00524.avi,6811,precision,31.862614\\n',\n",
        "  '/nfs/bigeye/sdaptardar/Datasets/Hollywood2/Hollywood2/AVIClips/actioncliptrain00525.avi,6811,precision,49.991318\\n',\n",
        "  '/nfs/bigeye/sdaptardar/Datasets/Hollywood2/Hollywood2/AVIClips/actioncliptrain00526.avi,6811,precision,97.935737\\n',\n",
        "  '/nfs/bigeye/sdaptardar/Datasets/Hollywood2/Hollywood2/AVIClips/actioncliptrain00527.avi,6811,precision,46.661081\\n',\n",
        "  '/nfs/bigeye/sdaptardar/Datasets/Hollywood2/Hollywood2/AVIClips/actioncliptrain00528.avi,6811,precision,203.762506\\n',\n",
        "  '/nfs/bigeye/sdaptardar/Datasets/Hollywood2/Hollywood2/AVIClips/actioncliptrain00529.avi,6811,precision,184.028339\\n',\n",
        "  '/nfs/bigeye/sdaptardar/Datasets/Hollywood2/Hollywood2/AVIClips/actioncliptrain00530.avi,6811,precision,62.064315\\n',\n",
        "  '/nfs/bigeye/sdaptardar/Datasets/Hollywood2/Hollywood2/AVIClips/actioncliptrain00531.avi,6811,precision,24.907301\\n',\n",
        "  '/nfs/bigeye/sdaptardar/Datasets/Hollywood2/Hollywood2/AVIClips/actioncliptrain00532.avi,6811,precision,38.733559\\n',\n",
        "  '/nfs/bigeye/sdaptardar/Datasets/Hollywood2/Hollywood2/AVIClips/actioncliptrain00533.avi,6811,precision,121.507331\\n',\n",
        "  '/nfs/bigeye/sdaptardar/Datasets/Hollywood2/Hollywood2/AVIClips/actioncliptrain00534.avi,6811,precision,142.915316\\n',\n",
        "  '/nfs/bigeye/sdaptardar/Datasets/Hollywood2/Hollywood2/AVIClips/actioncliptrain00535.avi,6811,precision,48.259605\\n',\n",
        "  '/nfs/bigeye/sdaptardar/Datasets/Hollywood2/Hollywood2/AVIClips/actioncliptrain00536.avi,6811,precision,22.417173\\n',\n",
        "  '/nfs/bigeye/sdaptardar/Datasets/Hollywood2/Hollywood2/AVIClips/actioncliptrain00537.avi,6811,precision,28.077788\\n',\n",
        "  '/nfs/bigeye/sdaptardar/Datasets/Hollywood2/Hollywood2/AVIClips/actioncliptrain00538.avi,6811,precision,36.570994\\n',\n",
        "  '/nfs/bigeye/sdaptardar/Datasets/Hollywood2/Hollywood2/AVIClips/actioncliptrain00539.avi,6811,precision,34.364196\\n',\n",
        "  '/nfs/bigeye/sdaptardar/Datasets/Hollywood2/Hollywood2/AVIClips/actioncliptrain00540.avi,6811,precision,53.673637\\n',\n",
        "  '/nfs/bigeye/sdaptardar/Datasets/Hollywood2/Hollywood2/AVIClips/actioncliptrain00541.avi,6811,precision,67.376967\\n',\n",
        "  '/nfs/bigeye/sdaptardar/Datasets/Hollywood2/Hollywood2/AVIClips/actioncliptrain00542.avi,6811,precision,44.731961\\n',\n",
        "  '/nfs/bigeye/sdaptardar/Datasets/Hollywood2/Hollywood2/AVIClips/actioncliptrain00543.avi,6811,precision,62.398864\\n',\n",
        "  '/nfs/bigeye/sdaptardar/Datasets/Hollywood2/Hollywood2/AVIClips/actioncliptrain00544.avi,6811,precision,92.266252\\n',\n",
        "  '/nfs/bigeye/sdaptardar/Datasets/Hollywood2/Hollywood2/AVIClips/actioncliptrain00545.avi,6811,precision,43.716883\\n',\n",
        "  '/nfs/bigeye/sdaptardar/Datasets/Hollywood2/Hollywood2/AVIClips/actioncliptrain00546.avi,6811,precision,42.876603\\n',\n",
        "  '/nfs/bigeye/sdaptardar/Datasets/Hollywood2/Hollywood2/AVIClips/actioncliptrain00547.avi,6811,precision,54.069122\\n',\n",
        "  '/nfs/bigeye/sdaptardar/Datasets/Hollywood2/Hollywood2/AVIClips/actioncliptrain00548.avi,6811,precision,25.376322\\n',\n",
        "  '/nfs/bigeye/sdaptardar/Datasets/Hollywood2/Hollywood2/AVIClips/actioncliptrain00549.avi,6811,precision,31.317416\\n'],\n",
        " ['/nfs/bigeye/sdaptardar/Datasets/Hollywood2/Hollywood2/AVIClips/actioncliptrain00550.avi,6812,precision,48.859628\\n',\n",
        "  '/nfs/bigeye/sdaptardar/Datasets/Hollywood2/Hollywood2/AVIClips/actioncliptrain00551.avi,6812,precision,52.111395\\n',\n",
        "  '/nfs/bigeye/sdaptardar/Datasets/Hollywood2/Hollywood2/AVIClips/actioncliptrain00552.avi,6812,precision,310.900095\\n',\n",
        "  '/nfs/bigeye/sdaptardar/Datasets/Hollywood2/Hollywood2/AVIClips/actioncliptrain00553.avi,6812,precision,54.785153\\n',\n",
        "  '/nfs/bigeye/sdaptardar/Datasets/Hollywood2/Hollywood2/AVIClips/actioncliptrain00554.avi,6812,precision,50.460744\\n',\n",
        "  '/nfs/bigeye/sdaptardar/Datasets/Hollywood2/Hollywood2/AVIClips/actioncliptrain00555.avi,6812,precision,56.081491\\n',\n",
        "  '/nfs/bigeye/sdaptardar/Datasets/Hollywood2/Hollywood2/AVIClips/actioncliptrain00556.avi,6812,precision,80.309648\\n',\n",
        "  '/nfs/bigeye/sdaptardar/Datasets/Hollywood2/Hollywood2/AVIClips/actioncliptrain00557.avi,6812,precision,43.746652\\n',\n",
        "  '/nfs/bigeye/sdaptardar/Datasets/Hollywood2/Hollywood2/AVIClips/actioncliptrain00558.avi,6812,precision,50.743548\\n',\n",
        "  '/nfs/bigeye/sdaptardar/Datasets/Hollywood2/Hollywood2/AVIClips/actioncliptrain00559.avi,6812,precision,40.019647\\n',\n",
        "  '/nfs/bigeye/sdaptardar/Datasets/Hollywood2/Hollywood2/AVIClips/actioncliptrain00560.avi,6812,precision,72.459224\\n',\n",
        "  '/nfs/bigeye/sdaptardar/Datasets/Hollywood2/Hollywood2/AVIClips/actioncliptrain00561.avi,6812,precision,82.096289\\n',\n",
        "  '/nfs/bigeye/sdaptardar/Datasets/Hollywood2/Hollywood2/AVIClips/actioncliptrain00562.avi,6812,precision,82.133713\\n',\n",
        "  '/nfs/bigeye/sdaptardar/Datasets/Hollywood2/Hollywood2/AVIClips/actioncliptrain00563.avi,6812,precision,52.314349\\n',\n",
        "  '/nfs/bigeye/sdaptardar/Datasets/Hollywood2/Hollywood2/AVIClips/actioncliptrain00564.avi,6812,precision,32.327027\\n',\n",
        "  '/nfs/bigeye/sdaptardar/Datasets/Hollywood2/Hollywood2/AVIClips/actioncliptrain00565.avi,6812,precision,90.281271\\n',\n",
        "  '/nfs/bigeye/sdaptardar/Datasets/Hollywood2/Hollywood2/AVIClips/actioncliptrain00566.avi,6812,precision,36.732648\\n',\n",
        "  '/nfs/bigeye/sdaptardar/Datasets/Hollywood2/Hollywood2/AVIClips/actioncliptrain00567.avi,6812,precision,54.788828\\n',\n",
        "  '/nfs/bigeye/sdaptardar/Datasets/Hollywood2/Hollywood2/AVIClips/actioncliptrain00568.avi,6812,precision,42.867103\\n',\n",
        "  '/nfs/bigeye/sdaptardar/Datasets/Hollywood2/Hollywood2/AVIClips/actioncliptrain00569.avi,6812,precision,45.881079\\n',\n",
        "  '/nfs/bigeye/sdaptardar/Datasets/Hollywood2/Hollywood2/AVIClips/actioncliptrain00570.avi,6812,precision,42.562214\\n',\n",
        "  '/nfs/bigeye/sdaptardar/Datasets/Hollywood2/Hollywood2/AVIClips/actioncliptrain00571.avi,6812,precision,90.401103\\n',\n",
        "  '/nfs/bigeye/sdaptardar/Datasets/Hollywood2/Hollywood2/AVIClips/actioncliptrain00572.avi,6812,precision,37.714179\\n',\n",
        "  '/nfs/bigeye/sdaptardar/Datasets/Hollywood2/Hollywood2/AVIClips/actioncliptrain00573.avi,6812,precision,32.073231\\n',\n",
        "  '/nfs/bigeye/sdaptardar/Datasets/Hollywood2/Hollywood2/AVIClips/actioncliptrain00574.avi,6812,precision,46.482510\\n',\n",
        "  '/nfs/bigeye/sdaptardar/Datasets/Hollywood2/Hollywood2/AVIClips/actioncliptrain00575.avi,6812,precision,20.284988\\n',\n",
        "  '/nfs/bigeye/sdaptardar/Datasets/Hollywood2/Hollywood2/AVIClips/actioncliptrain00576.avi,6812,precision,47.517965\\n',\n",
        "  '/nfs/bigeye/sdaptardar/Datasets/Hollywood2/Hollywood2/AVIClips/actioncliptrain00577.avi,6812,precision,26.766535\\n',\n",
        "  '/nfs/bigeye/sdaptardar/Datasets/Hollywood2/Hollywood2/AVIClips/actioncliptrain00578.avi,6812,precision,39.289959\\n',\n",
        "  '/nfs/bigeye/sdaptardar/Datasets/Hollywood2/Hollywood2/AVIClips/actioncliptrain00579.avi,6812,precision,106.526797\\n',\n",
        "  '/nfs/bigeye/sdaptardar/Datasets/Hollywood2/Hollywood2/AVIClips/actioncliptrain00580.avi,6812,precision,33.872486\\n',\n",
        "  '/nfs/bigeye/sdaptardar/Datasets/Hollywood2/Hollywood2/AVIClips/actioncliptrain00581.avi,6812,precision,15.877460\\n',\n",
        "  '/nfs/bigeye/sdaptardar/Datasets/Hollywood2/Hollywood2/AVIClips/actioncliptrain00582.avi,6812,precision,21.131742\\n',\n",
        "  '/nfs/bigeye/sdaptardar/Datasets/Hollywood2/Hollywood2/AVIClips/actioncliptrain00583.avi,6812,precision,70.041741\\n',\n",
        "  '/nfs/bigeye/sdaptardar/Datasets/Hollywood2/Hollywood2/AVIClips/actioncliptrain00584.avi,6812,precision,44.469556\\n',\n",
        "  '/nfs/bigeye/sdaptardar/Datasets/Hollywood2/Hollywood2/AVIClips/actioncliptrain00585.avi,6812,precision,64.329282\\n',\n",
        "  '/nfs/bigeye/sdaptardar/Datasets/Hollywood2/Hollywood2/AVIClips/actioncliptrain00586.avi,6812,precision,43.156565\\n',\n",
        "  '/nfs/bigeye/sdaptardar/Datasets/Hollywood2/Hollywood2/AVIClips/actioncliptrain00587.avi,6812,precision,29.046543\\n',\n",
        "  '/nfs/bigeye/sdaptardar/Datasets/Hollywood2/Hollywood2/AVIClips/actioncliptrain00588.avi,6812,precision,58.319940\\n',\n",
        "  '/nfs/bigeye/sdaptardar/Datasets/Hollywood2/Hollywood2/AVIClips/actioncliptrain00589.avi,6812,precision,87.242372\\n',\n",
        "  '/nfs/bigeye/sdaptardar/Datasets/Hollywood2/Hollywood2/AVIClips/actioncliptrain00590.avi,6812,precision,107.196653\\n',\n",
        "  '/nfs/bigeye/sdaptardar/Datasets/Hollywood2/Hollywood2/AVIClips/actioncliptrain00591.avi,6812,precision,121.025132\\n',\n",
        "  '/nfs/bigeye/sdaptardar/Datasets/Hollywood2/Hollywood2/AVIClips/actioncliptrain00592.avi,6812,precision,32.595645\\n',\n",
        "  '/nfs/bigeye/sdaptardar/Datasets/Hollywood2/Hollywood2/AVIClips/actioncliptrain00593.avi,6812,precision,40.008367\\n',\n",
        "  '/nfs/bigeye/sdaptardar/Datasets/Hollywood2/Hollywood2/AVIClips/actioncliptrain00594.avi,6812,precision,55.973831\\n',\n",
        "  '/nfs/bigeye/sdaptardar/Datasets/Hollywood2/Hollywood2/AVIClips/actioncliptrain00595.avi,6812,precision,48.030416\\n',\n",
        "  '/nfs/bigeye/sdaptardar/Datasets/Hollywood2/Hollywood2/AVIClips/actioncliptrain00596.avi,6812,precision,42.386615\\n',\n",
        "  '/nfs/bigeye/sdaptardar/Datasets/Hollywood2/Hollywood2/AVIClips/actioncliptrain00597.avi,6812,precision,38.418153\\n',\n",
        "  '/nfs/bigeye/sdaptardar/Datasets/Hollywood2/Hollywood2/AVIClips/actioncliptrain00598.avi,6812,precision,109.997935\\n',\n",
        "  '/nfs/bigeye/sdaptardar/Datasets/Hollywood2/Hollywood2/AVIClips/actioncliptrain00599.avi,6812,precision,48.599570\\n',\n",
        "  '/nfs/bigeye/sdaptardar/Datasets/Hollywood2/Hollywood2/AVIClips/actioncliptrain00600.avi,6812,precision,46.473591\\n',\n",
        "  '/nfs/bigeye/sdaptardar/Datasets/Hollywood2/Hollywood2/AVIClips/actioncliptrain00601.avi,6812,precision,27.706038\\n',\n",
        "  '/nfs/bigeye/sdaptardar/Datasets/Hollywood2/Hollywood2/AVIClips/actioncliptrain00602.avi,6812,precision,44.405225\\n',\n",
        "  '/nfs/bigeye/sdaptardar/Datasets/Hollywood2/Hollywood2/AVIClips/actioncliptrain00603.avi,6812,precision,41.024152\\n',\n",
        "  '/nfs/bigeye/sdaptardar/Datasets/Hollywood2/Hollywood2/AVIClips/actioncliptrain00604.avi,6812,precision,28.978245\\n',\n",
        "  '/nfs/bigeye/sdaptardar/Datasets/Hollywood2/Hollywood2/AVIClips/actioncliptrain00605.avi,6812,precision,34.228999\\n',\n",
        "  '/nfs/bigeye/sdaptardar/Datasets/Hollywood2/Hollywood2/AVIClips/actioncliptrain00606.avi,6812,precision,25.142534\\n',\n",
        "  '/nfs/bigeye/sdaptardar/Datasets/Hollywood2/Hollywood2/AVIClips/actioncliptrain00607.avi,6812,precision,102.736085\\n',\n",
        "  '/nfs/bigeye/sdaptardar/Datasets/Hollywood2/Hollywood2/AVIClips/actioncliptrain00608.avi,6812,precision,54.722938\\n',\n",
        "  '/nfs/bigeye/sdaptardar/Datasets/Hollywood2/Hollywood2/AVIClips/actioncliptrain00609.avi,6812,precision,58.236855\\n',\n",
        "  '/nfs/bigeye/sdaptardar/Datasets/Hollywood2/Hollywood2/AVIClips/actioncliptrain00610.avi,6812,precision,80.397037\\n',\n",
        "  '/nfs/bigeye/sdaptardar/Datasets/Hollywood2/Hollywood2/AVIClips/actioncliptrain00611.avi,6812,precision,208.316619\\n',\n",
        "  '/nfs/bigeye/sdaptardar/Datasets/Hollywood2/Hollywood2/AVIClips/actioncliptrain00612.avi,6812,precision,68.175320\\n',\n",
        "  '/nfs/bigeye/sdaptardar/Datasets/Hollywood2/Hollywood2/AVIClips/actioncliptrain00613.avi,6812,precision,73.748328\\n',\n",
        "  '/nfs/bigeye/sdaptardar/Datasets/Hollywood2/Hollywood2/AVIClips/actioncliptrain00614.avi,6812,precision,52.617030\\n',\n",
        "  '/nfs/bigeye/sdaptardar/Datasets/Hollywood2/Hollywood2/AVIClips/actioncliptrain00615.avi,6812,precision,36.289501\\n',\n",
        "  '/nfs/bigeye/sdaptardar/Datasets/Hollywood2/Hollywood2/AVIClips/actioncliptrain00616.avi,6812,precision,20.524657\\n',\n",
        "  '/nfs/bigeye/sdaptardar/Datasets/Hollywood2/Hollywood2/AVIClips/actioncliptrain00617.avi,6812,precision,237.317275\\n',\n",
        "  '/nfs/bigeye/sdaptardar/Datasets/Hollywood2/Hollywood2/AVIClips/actioncliptrain00618.avi,6812,precision,64.924732\\n',\n",
        "  '/nfs/bigeye/sdaptardar/Datasets/Hollywood2/Hollywood2/AVIClips/actioncliptrain00619.avi,6812,precision,51.742296\\n',\n",
        "  '/nfs/bigeye/sdaptardar/Datasets/Hollywood2/Hollywood2/AVIClips/actioncliptrain00620.avi,6812,precision,100.509992\\n',\n",
        "  '/nfs/bigeye/sdaptardar/Datasets/Hollywood2/Hollywood2/AVIClips/actioncliptrain00621.avi,6812,precision,38.242120\\n',\n",
        "  '/nfs/bigeye/sdaptardar/Datasets/Hollywood2/Hollywood2/AVIClips/actioncliptrain00622.avi,6812,precision,153.507130\\n',\n",
        "  '/nfs/bigeye/sdaptardar/Datasets/Hollywood2/Hollywood2/AVIClips/actioncliptrain00623.avi,6812,precision,45.460647\\n',\n",
        "  '/nfs/bigeye/sdaptardar/Datasets/Hollywood2/Hollywood2/AVIClips/actioncliptrain00624.avi,6812,precision,57.865680\\n',\n",
        "  '/nfs/bigeye/sdaptardar/Datasets/Hollywood2/Hollywood2/AVIClips/actioncliptrain00625.avi,6812,precision,44.557664\\n',\n",
        "  '/nfs/bigeye/sdaptardar/Datasets/Hollywood2/Hollywood2/AVIClips/actioncliptrain00626.avi,6812,precision,60.686052\\n',\n",
        "  '/nfs/bigeye/sdaptardar/Datasets/Hollywood2/Hollywood2/AVIClips/actioncliptrain00627.avi,6812,precision,52.709172\\n',\n",
        "  '/nfs/bigeye/sdaptardar/Datasets/Hollywood2/Hollywood2/AVIClips/actioncliptrain00628.avi,6812,precision,42.512892\\n',\n",
        "  '/nfs/bigeye/sdaptardar/Datasets/Hollywood2/Hollywood2/AVIClips/actioncliptrain00629.avi,6812,precision,312.036431\\n',\n",
        "  '/nfs/bigeye/sdaptardar/Datasets/Hollywood2/Hollywood2/AVIClips/actioncliptrain00630.avi,6812,precision,196.232266\\n',\n",
        "  '/nfs/bigeye/sdaptardar/Datasets/Hollywood2/Hollywood2/AVIClips/actioncliptrain00631.avi,6812,precision,130.434129\\n',\n",
        "  '/nfs/bigeye/sdaptardar/Datasets/Hollywood2/Hollywood2/AVIClips/actioncliptrain00632.avi,6812,precision,106.856199\\n',\n",
        "  '/nfs/bigeye/sdaptardar/Datasets/Hollywood2/Hollywood2/AVIClips/actioncliptrain00633.avi,6812,precision,111.200227\\n',\n",
        "  '/nfs/bigeye/sdaptardar/Datasets/Hollywood2/Hollywood2/AVIClips/actioncliptrain00634.avi,6812,precision,46.190373\\n',\n",
        "  '/nfs/bigeye/sdaptardar/Datasets/Hollywood2/Hollywood2/AVIClips/actioncliptrain00635.avi,6812,precision,92.830473\\n',\n",
        "  '/nfs/bigeye/sdaptardar/Datasets/Hollywood2/Hollywood2/AVIClips/actioncliptrain00636.avi,6812,precision,47.609045\\n',\n",
        "  '/nfs/bigeye/sdaptardar/Datasets/Hollywood2/Hollywood2/AVIClips/actioncliptrain00637.avi,6812,precision,124.621798\\n',\n",
        "  '/nfs/bigeye/sdaptardar/Datasets/Hollywood2/Hollywood2/AVIClips/actioncliptrain00638.avi,6812,precision,57.597193\\n',\n",
        "  '/nfs/bigeye/sdaptardar/Datasets/Hollywood2/Hollywood2/AVIClips/actioncliptrain00639.avi,6812,precision,39.881797\\n',\n",
        "  '/nfs/bigeye/sdaptardar/Datasets/Hollywood2/Hollywood2/AVIClips/actioncliptrain00640.avi,6812,precision,28.183601\\n',\n",
        "  '/nfs/bigeye/sdaptardar/Datasets/Hollywood2/Hollywood2/AVIClips/actioncliptrain00641.avi,6812,precision,44.270718\\n',\n",
        "  '/nfs/bigeye/sdaptardar/Datasets/Hollywood2/Hollywood2/AVIClips/actioncliptrain00642.avi,6812,precision,25.489261\\n',\n",
        "  '/nfs/bigeye/sdaptardar/Datasets/Hollywood2/Hollywood2/AVIClips/actioncliptrain00643.avi,6812,precision,20.425614\\n',\n",
        "  '/nfs/bigeye/sdaptardar/Datasets/Hollywood2/Hollywood2/AVIClips/actioncliptrain00644.avi,6812,precision,28.767132\\n',\n",
        "  '/nfs/bigeye/sdaptardar/Datasets/Hollywood2/Hollywood2/AVIClips/actioncliptrain00645.avi,6812,precision,40.989198\\n',\n",
        "  '/nfs/bigeye/sdaptardar/Datasets/Hollywood2/Hollywood2/AVIClips/actioncliptrain00646.avi,6812,precision,42.321863\\n',\n",
        "  '/nfs/bigeye/sdaptardar/Datasets/Hollywood2/Hollywood2/AVIClips/actioncliptrain00647.avi,6812,precision,55.246591\\n',\n",
        "  '/nfs/bigeye/sdaptardar/Datasets/Hollywood2/Hollywood2/AVIClips/actioncliptrain00648.avi,6812,precision,201.429697\\n',\n",
        "  '/nfs/bigeye/sdaptardar/Datasets/Hollywood2/Hollywood2/AVIClips/actioncliptrain00649.avi,6812,precision,44.122343\\n',\n",
        "  '/nfs/bigeye/sdaptardar/Datasets/Hollywood2/Hollywood2/AVIClips/actioncliptrain00650.avi,6812,precision,56.098826\\n',\n",
        "  '/nfs/bigeye/sdaptardar/Datasets/Hollywood2/Hollywood2/AVIClips/actioncliptrain00651.avi,6812,precision,56.504321\\n',\n",
        "  '/nfs/bigeye/sdaptardar/Datasets/Hollywood2/Hollywood2/AVIClips/actioncliptrain00652.avi,6812,precision,51.557541\\n',\n",
        "  '/nfs/bigeye/sdaptardar/Datasets/Hollywood2/Hollywood2/AVIClips/actioncliptrain00653.avi,6812,precision,45.918429\\n',\n",
        "  '/nfs/bigeye/sdaptardar/Datasets/Hollywood2/Hollywood2/AVIClips/actioncliptrain00654.avi,6812,precision,83.043881\\n',\n",
        "  '/nfs/bigeye/sdaptardar/Datasets/Hollywood2/Hollywood2/AVIClips/actioncliptrain00655.avi,6812,precision,28.285342\\n',\n",
        "  '/nfs/bigeye/sdaptardar/Datasets/Hollywood2/Hollywood2/AVIClips/actioncliptrain00656.avi,6812,precision,35.181132\\n',\n",
        "  '/nfs/bigeye/sdaptardar/Datasets/Hollywood2/Hollywood2/AVIClips/actioncliptrain00657.avi,6812,precision,39.577760\\n',\n",
        "  '/nfs/bigeye/sdaptardar/Datasets/Hollywood2/Hollywood2/AVIClips/actioncliptrain00658.avi,6812,precision,59.083781\\n',\n",
        "  '/nfs/bigeye/sdaptardar/Datasets/Hollywood2/Hollywood2/AVIClips/actioncliptrain00659.avi,6812,precision,123.731531\\n',\n",
        "  '/nfs/bigeye/sdaptardar/Datasets/Hollywood2/Hollywood2/AVIClips/actioncliptrain00660.avi,6812,precision,220.715244\\n',\n",
        "  '/nfs/bigeye/sdaptardar/Datasets/Hollywood2/Hollywood2/AVIClips/actioncliptrain00661.avi,6812,precision,76.261225\\n',\n",
        "  '/nfs/bigeye/sdaptardar/Datasets/Hollywood2/Hollywood2/AVIClips/actioncliptrain00662.avi,6812,precision,51.032203\\n',\n",
        "  '/nfs/bigeye/sdaptardar/Datasets/Hollywood2/Hollywood2/AVIClips/actioncliptrain00663.avi,6812,precision,39.541374\\n',\n",
        "  '/nfs/bigeye/sdaptardar/Datasets/Hollywood2/Hollywood2/AVIClips/actioncliptrain00664.avi,6812,precision,94.190964\\n',\n",
        "  '/nfs/bigeye/sdaptardar/Datasets/Hollywood2/Hollywood2/AVIClips/actioncliptrain00665.avi,6812,precision,145.830547\\n',\n",
        "  '/nfs/bigeye/sdaptardar/Datasets/Hollywood2/Hollywood2/AVIClips/actioncliptrain00666.avi,6812,precision,40.491877\\n',\n",
        "  '/nfs/bigeye/sdaptardar/Datasets/Hollywood2/Hollywood2/AVIClips/actioncliptrain00667.avi,6812,precision,47.044565\\n',\n",
        "  '/nfs/bigeye/sdaptardar/Datasets/Hollywood2/Hollywood2/AVIClips/actioncliptrain00668.avi,6812,precision,175.061707\\n',\n",
        "  '/nfs/bigeye/sdaptardar/Datasets/Hollywood2/Hollywood2/AVIClips/actioncliptrain00669.avi,6812,precision,34.379792\\n',\n",
        "  '/nfs/bigeye/sdaptardar/Datasets/Hollywood2/Hollywood2/AVIClips/actioncliptrain00670.avi,6812,precision,33.298534\\n',\n",
        "  '/nfs/bigeye/sdaptardar/Datasets/Hollywood2/Hollywood2/AVIClips/actioncliptrain00671.avi,6812,precision,46.565046\\n',\n",
        "  '/nfs/bigeye/sdaptardar/Datasets/Hollywood2/Hollywood2/AVIClips/actioncliptrain00672.avi,6812,precision,124.533400\\n',\n",
        "  '/nfs/bigeye/sdaptardar/Datasets/Hollywood2/Hollywood2/AVIClips/actioncliptrain00673.avi,6812,precision,31.727397\\n',\n",
        "  '/nfs/bigeye/sdaptardar/Datasets/Hollywood2/Hollywood2/AVIClips/actioncliptrain00674.avi,6812,precision,217.358285\\n',\n",
        "  '/nfs/bigeye/sdaptardar/Datasets/Hollywood2/Hollywood2/AVIClips/actioncliptrain00675.avi,6812,precision,107.644470\\n',\n",
        "  '/nfs/bigeye/sdaptardar/Datasets/Hollywood2/Hollywood2/AVIClips/actioncliptrain00676.avi,6812,precision,65.168362\\n',\n",
        "  '/nfs/bigeye/sdaptardar/Datasets/Hollywood2/Hollywood2/AVIClips/actioncliptrain00677.avi,6812,precision,95.170088\\n',\n",
        "  '/nfs/bigeye/sdaptardar/Datasets/Hollywood2/Hollywood2/AVIClips/actioncliptrain00678.avi,6812,precision,41.077743\\n',\n",
        "  '/nfs/bigeye/sdaptardar/Datasets/Hollywood2/Hollywood2/AVIClips/actioncliptrain00679.avi,6812,precision,44.226730\\n',\n",
        "  '/nfs/bigeye/sdaptardar/Datasets/Hollywood2/Hollywood2/AVIClips/actioncliptrain00680.avi,6812,precision,112.132394\\n',\n",
        "  '/nfs/bigeye/sdaptardar/Datasets/Hollywood2/Hollywood2/AVIClips/actioncliptrain00681.avi,6812,precision,19.214937\\n',\n",
        "  '/nfs/bigeye/sdaptardar/Datasets/Hollywood2/Hollywood2/AVIClips/actioncliptrain00682.avi,6812,precision,67.365475\\n',\n",
        "  '/nfs/bigeye/sdaptardar/Datasets/Hollywood2/Hollywood2/AVIClips/actioncliptrain00683.avi,6812,precision,125.771405\\n',\n",
        "  '/nfs/bigeye/sdaptardar/Datasets/Hollywood2/Hollywood2/AVIClips/actioncliptrain00684.avi,6812,precision,245.772364\\n',\n",
        "  '/nfs/bigeye/sdaptardar/Datasets/Hollywood2/Hollywood2/AVIClips/actioncliptrain00685.avi,6812,precision,65.590730\\n',\n",
        "  '/nfs/bigeye/sdaptardar/Datasets/Hollywood2/Hollywood2/AVIClips/actioncliptrain00686.avi,6812,precision,70.834625\\n'],\n",
        " ['/nfs/bigeye/sdaptardar/Datasets/Hollywood2/Hollywood2/AVIClips/actioncliptrain00687.avi,6810,precision,51.847667\\n',\n",
        "  '/nfs/bigeye/sdaptardar/Datasets/Hollywood2/Hollywood2/AVIClips/actioncliptrain00688.avi,6810,precision,76.181191\\n',\n",
        "  '/nfs/bigeye/sdaptardar/Datasets/Hollywood2/Hollywood2/AVIClips/actioncliptrain00689.avi,6810,precision,42.775885\\n',\n",
        "  '/nfs/bigeye/sdaptardar/Datasets/Hollywood2/Hollywood2/AVIClips/actioncliptrain00690.avi,6810,precision,86.052291\\n',\n",
        "  '/nfs/bigeye/sdaptardar/Datasets/Hollywood2/Hollywood2/AVIClips/actioncliptrain00691.avi,6810,precision,63.318584\\n',\n",
        "  '/nfs/bigeye/sdaptardar/Datasets/Hollywood2/Hollywood2/AVIClips/actioncliptrain00692.avi,6810,precision,64.979485\\n',\n",
        "  '/nfs/bigeye/sdaptardar/Datasets/Hollywood2/Hollywood2/AVIClips/actioncliptrain00693.avi,6810,precision,46.332183\\n',\n",
        "  '/nfs/bigeye/sdaptardar/Datasets/Hollywood2/Hollywood2/AVIClips/actioncliptrain00694.avi,6810,precision,48.665259\\n',\n",
        "  '/nfs/bigeye/sdaptardar/Datasets/Hollywood2/Hollywood2/AVIClips/actioncliptrain00695.avi,6810,precision,41.938715\\n',\n",
        "  '/nfs/bigeye/sdaptardar/Datasets/Hollywood2/Hollywood2/AVIClips/actioncliptrain00696.avi,6810,precision,46.134429\\n',\n",
        "  '/nfs/bigeye/sdaptardar/Datasets/Hollywood2/Hollywood2/AVIClips/actioncliptrain00697.avi,6810,precision,102.461981\\n',\n",
        "  '/nfs/bigeye/sdaptardar/Datasets/Hollywood2/Hollywood2/AVIClips/actioncliptrain00698.avi,6810,precision,54.015037\\n',\n",
        "  '/nfs/bigeye/sdaptardar/Datasets/Hollywood2/Hollywood2/AVIClips/actioncliptrain00699.avi,6810,precision,72.819587\\n',\n",
        "  '/nfs/bigeye/sdaptardar/Datasets/Hollywood2/Hollywood2/AVIClips/actioncliptrain00700.avi,6810,precision,54.998463\\n',\n",
        "  '/nfs/bigeye/sdaptardar/Datasets/Hollywood2/Hollywood2/AVIClips/actioncliptrain00701.avi,6810,precision,29.446706\\n',\n",
        "  '/nfs/bigeye/sdaptardar/Datasets/Hollywood2/Hollywood2/AVIClips/actioncliptrain00702.avi,6810,precision,62.150161\\n',\n",
        "  '/nfs/bigeye/sdaptardar/Datasets/Hollywood2/Hollywood2/AVIClips/actioncliptrain00703.avi,6810,precision,39.466818\\n',\n",
        "  '/nfs/bigeye/sdaptardar/Datasets/Hollywood2/Hollywood2/AVIClips/actioncliptrain00704.avi,6810,precision,59.314598\\n',\n",
        "  '/nfs/bigeye/sdaptardar/Datasets/Hollywood2/Hollywood2/AVIClips/actioncliptrain00705.avi,6810,precision,40.105110\\n',\n",
        "  '/nfs/bigeye/sdaptardar/Datasets/Hollywood2/Hollywood2/AVIClips/actioncliptrain00706.avi,6810,precision,28.597149\\n',\n",
        "  '/nfs/bigeye/sdaptardar/Datasets/Hollywood2/Hollywood2/AVIClips/actioncliptrain00707.avi,6810,precision,47.995534\\n',\n",
        "  '/nfs/bigeye/sdaptardar/Datasets/Hollywood2/Hollywood2/AVIClips/actioncliptrain00708.avi,6810,precision,31.680334\\n',\n",
        "  '/nfs/bigeye/sdaptardar/Datasets/Hollywood2/Hollywood2/AVIClips/actioncliptrain00709.avi,6810,precision,55.694993\\n',\n",
        "  '/nfs/bigeye/sdaptardar/Datasets/Hollywood2/Hollywood2/AVIClips/actioncliptrain00710.avi,6810,precision,71.229795\\n',\n",
        "  '/nfs/bigeye/sdaptardar/Datasets/Hollywood2/Hollywood2/AVIClips/actioncliptrain00711.avi,6810,precision,27.117831\\n',\n",
        "  '/nfs/bigeye/sdaptardar/Datasets/Hollywood2/Hollywood2/AVIClips/actioncliptrain00712.avi,6810,precision,29.345414\\n',\n",
        "  '/nfs/bigeye/sdaptardar/Datasets/Hollywood2/Hollywood2/AVIClips/actioncliptrain00713.avi,6810,precision,76.695553\\n',\n",
        "  '/nfs/bigeye/sdaptardar/Datasets/Hollywood2/Hollywood2/AVIClips/actioncliptrain00714.avi,6810,precision,61.654246\\n',\n",
        "  '/nfs/bigeye/sdaptardar/Datasets/Hollywood2/Hollywood2/AVIClips/actioncliptrain00715.avi,6810,precision,106.646243\\n',\n",
        "  '/nfs/bigeye/sdaptardar/Datasets/Hollywood2/Hollywood2/AVIClips/actioncliptrain00716.avi,6810,precision,80.226639\\n',\n",
        "  '/nfs/bigeye/sdaptardar/Datasets/Hollywood2/Hollywood2/AVIClips/actioncliptrain00717.avi,6810,precision,36.653487\\n',\n",
        "  '/nfs/bigeye/sdaptardar/Datasets/Hollywood2/Hollywood2/AVIClips/actioncliptrain00718.avi,6810,precision,37.313211\\n',\n",
        "  '/nfs/bigeye/sdaptardar/Datasets/Hollywood2/Hollywood2/AVIClips/actioncliptrain00719.avi,6810,precision,36.761295\\n',\n",
        "  '/nfs/bigeye/sdaptardar/Datasets/Hollywood2/Hollywood2/AVIClips/actioncliptrain00720.avi,6810,precision,58.878783\\n',\n",
        "  '/nfs/bigeye/sdaptardar/Datasets/Hollywood2/Hollywood2/AVIClips/actioncliptrain00721.avi,6810,precision,135.349126\\n',\n",
        "  '/nfs/bigeye/sdaptardar/Datasets/Hollywood2/Hollywood2/AVIClips/actioncliptrain00722.avi,6810,precision,148.046496\\n',\n",
        "  '/nfs/bigeye/sdaptardar/Datasets/Hollywood2/Hollywood2/AVIClips/actioncliptrain00723.avi,6810,precision,218.781020\\n',\n",
        "  '/nfs/bigeye/sdaptardar/Datasets/Hollywood2/Hollywood2/AVIClips/actioncliptrain00724.avi,6810,precision,841.073625\\n',\n",
        "  '/nfs/bigeye/sdaptardar/Datasets/Hollywood2/Hollywood2/AVIClips/actioncliptrain00725.avi,6810,precision,551.923414\\n',\n",
        "  '/nfs/bigeye/sdaptardar/Datasets/Hollywood2/Hollywood2/AVIClips/actioncliptrain00726.avi,6810,precision,86.375133\\n',\n",
        "  '/nfs/bigeye/sdaptardar/Datasets/Hollywood2/Hollywood2/AVIClips/actioncliptrain00727.avi,6810,precision,107.952752\\n',\n",
        "  '/nfs/bigeye/sdaptardar/Datasets/Hollywood2/Hollywood2/AVIClips/actioncliptrain00728.avi,6810,precision,44.868594\\n',\n",
        "  '/nfs/bigeye/sdaptardar/Datasets/Hollywood2/Hollywood2/AVIClips/actioncliptrain00729.avi,6810,precision,74.016669\\n',\n",
        "  '/nfs/bigeye/sdaptardar/Datasets/Hollywood2/Hollywood2/AVIClips/actioncliptrain00730.avi,6810,precision,57.818088\\n',\n",
        "  '/nfs/bigeye/sdaptardar/Datasets/Hollywood2/Hollywood2/AVIClips/actioncliptrain00731.avi,6810,precision,48.545511\\n',\n",
        "  '/nfs/bigeye/sdaptardar/Datasets/Hollywood2/Hollywood2/AVIClips/actioncliptrain00732.avi,6810,precision,360.597754\\n',\n",
        "  '/nfs/bigeye/sdaptardar/Datasets/Hollywood2/Hollywood2/AVIClips/actioncliptrain00733.avi,6810,precision,657.456875\\n',\n",
        "  '/nfs/bigeye/sdaptardar/Datasets/Hollywood2/Hollywood2/AVIClips/actioncliptrain00734.avi,6810,precision,82.846892\\n',\n",
        "  '/nfs/bigeye/sdaptardar/Datasets/Hollywood2/Hollywood2/AVIClips/actioncliptrain00735.avi,6810,precision,287.915329\\n',\n",
        "  '/nfs/bigeye/sdaptardar/Datasets/Hollywood2/Hollywood2/AVIClips/actioncliptrain00736.avi,6810,precision,513.599887\\n',\n",
        "  '/nfs/bigeye/sdaptardar/Datasets/Hollywood2/Hollywood2/AVIClips/actioncliptrain00737.avi,6810,precision,59.381819\\n',\n",
        "  '/nfs/bigeye/sdaptardar/Datasets/Hollywood2/Hollywood2/AVIClips/actioncliptrain00738.avi,6810,precision,256.223398\\n',\n",
        "  '/nfs/bigeye/sdaptardar/Datasets/Hollywood2/Hollywood2/AVIClips/actioncliptrain00739.avi,6810,precision,81.242581\\n',\n",
        "  '/nfs/bigeye/sdaptardar/Datasets/Hollywood2/Hollywood2/AVIClips/actioncliptrain00740.avi,6810,precision,50.435033\\n',\n",
        "  '/nfs/bigeye/sdaptardar/Datasets/Hollywood2/Hollywood2/AVIClips/actioncliptrain00741.avi,6810,precision,34.015852\\n',\n",
        "  '/nfs/bigeye/sdaptardar/Datasets/Hollywood2/Hollywood2/AVIClips/actioncliptrain00742.avi,6810,precision,304.120423\\n',\n",
        "  '/nfs/bigeye/sdaptardar/Datasets/Hollywood2/Hollywood2/AVIClips/actioncliptrain00743.avi,6810,precision,28.067468\\n',\n",
        "  '/nfs/bigeye/sdaptardar/Datasets/Hollywood2/Hollywood2/AVIClips/actioncliptrain00744.avi,6810,precision,18.587850\\n',\n",
        "  '/nfs/bigeye/sdaptardar/Datasets/Hollywood2/Hollywood2/AVIClips/actioncliptrain00745.avi,6810,precision,438.339682\\n',\n",
        "  '/nfs/bigeye/sdaptardar/Datasets/Hollywood2/Hollywood2/AVIClips/actioncliptrain00746.avi,6810,precision,35.456639\\n',\n",
        "  '/nfs/bigeye/sdaptardar/Datasets/Hollywood2/Hollywood2/AVIClips/actioncliptrain00747.avi,6810,precision,26.310122\\n',\n",
        "  '/nfs/bigeye/sdaptardar/Datasets/Hollywood2/Hollywood2/AVIClips/actioncliptrain00748.avi,6810,precision,100.364192\\n',\n",
        "  '/nfs/bigeye/sdaptardar/Datasets/Hollywood2/Hollywood2/AVIClips/actioncliptrain00749.avi,6810,precision,172.126174\\n',\n",
        "  '/nfs/bigeye/sdaptardar/Datasets/Hollywood2/Hollywood2/AVIClips/actioncliptrain00750.avi,6810,precision,330.037116\\n',\n",
        "  '/nfs/bigeye/sdaptardar/Datasets/Hollywood2/Hollywood2/AVIClips/actioncliptrain00751.avi,6810,precision,136.899714\\n',\n",
        "  '/nfs/bigeye/sdaptardar/Datasets/Hollywood2/Hollywood2/AVIClips/actioncliptrain00752.avi,6810,precision,18.317223\\n',\n",
        "  '/nfs/bigeye/sdaptardar/Datasets/Hollywood2/Hollywood2/AVIClips/actioncliptrain00753.avi,6810,precision,79.691736\\n',\n",
        "  '/nfs/bigeye/sdaptardar/Datasets/Hollywood2/Hollywood2/AVIClips/actioncliptrain00754.avi,6810,precision,16.213439\\n',\n",
        "  '/nfs/bigeye/sdaptardar/Datasets/Hollywood2/Hollywood2/AVIClips/actioncliptrain00755.avi,6810,precision,53.003437\\n',\n",
        "  '/nfs/bigeye/sdaptardar/Datasets/Hollywood2/Hollywood2/AVIClips/actioncliptrain00756.avi,6810,precision,48.981758\\n',\n",
        "  '/nfs/bigeye/sdaptardar/Datasets/Hollywood2/Hollywood2/AVIClips/actioncliptrain00757.avi,6810,precision,51.546260\\n',\n",
        "  '/nfs/bigeye/sdaptardar/Datasets/Hollywood2/Hollywood2/AVIClips/actioncliptrain00758.avi,6810,precision,49.491182\\n',\n",
        "  '/nfs/bigeye/sdaptardar/Datasets/Hollywood2/Hollywood2/AVIClips/actioncliptrain00759.avi,6810,precision,41.907697\\n',\n",
        "  '/nfs/bigeye/sdaptardar/Datasets/Hollywood2/Hollywood2/AVIClips/actioncliptrain00760.avi,6810,precision,42.321496\\n',\n",
        "  '/nfs/bigeye/sdaptardar/Datasets/Hollywood2/Hollywood2/AVIClips/actioncliptrain00761.avi,6810,precision,62.478945\\n',\n",
        "  '/nfs/bigeye/sdaptardar/Datasets/Hollywood2/Hollywood2/AVIClips/actioncliptrain00762.avi,6810,precision,46.118824\\n',\n",
        "  '/nfs/bigeye/sdaptardar/Datasets/Hollywood2/Hollywood2/AVIClips/actioncliptrain00763.avi,6810,precision,126.478996\\n',\n",
        "  '/nfs/bigeye/sdaptardar/Datasets/Hollywood2/Hollywood2/AVIClips/actioncliptrain00764.avi,6810,precision,41.718492\\n',\n",
        "  '/nfs/bigeye/sdaptardar/Datasets/Hollywood2/Hollywood2/AVIClips/actioncliptrain00765.avi,6810,precision,27.627514\\n',\n",
        "  '/nfs/bigeye/sdaptardar/Datasets/Hollywood2/Hollywood2/AVIClips/actioncliptrain00766.avi,6810,precision,138.512131\\n',\n",
        "  '/nfs/bigeye/sdaptardar/Datasets/Hollywood2/Hollywood2/AVIClips/actioncliptrain00767.avi,6810,precision,111.839452\\n',\n",
        "  '/nfs/bigeye/sdaptardar/Datasets/Hollywood2/Hollywood2/AVIClips/actioncliptrain00768.avi,6810,precision,44.695561\\n',\n",
        "  '/nfs/bigeye/sdaptardar/Datasets/Hollywood2/Hollywood2/AVIClips/actioncliptrain00769.avi,6810,precision,222.819797\\n',\n",
        "  '/nfs/bigeye/sdaptardar/Datasets/Hollywood2/Hollywood2/AVIClips/actioncliptrain00770.avi,6810,precision,55.643360\\n',\n",
        "  '/nfs/bigeye/sdaptardar/Datasets/Hollywood2/Hollywood2/AVIClips/actioncliptrain00771.avi,6810,precision,99.659842\\n',\n",
        "  '/nfs/bigeye/sdaptardar/Datasets/Hollywood2/Hollywood2/AVIClips/actioncliptrain00772.avi,6810,precision,85.073640\\n',\n",
        "  '/nfs/bigeye/sdaptardar/Datasets/Hollywood2/Hollywood2/AVIClips/actioncliptrain00773.avi,6810,precision,72.220834\\n',\n",
        "  '/nfs/bigeye/sdaptardar/Datasets/Hollywood2/Hollywood2/AVIClips/actioncliptrain00774.avi,6810,precision,107.396595\\n',\n",
        "  '/nfs/bigeye/sdaptardar/Datasets/Hollywood2/Hollywood2/AVIClips/actioncliptrain00775.avi,6810,precision,1165.270965\\n',\n",
        "  '/nfs/bigeye/sdaptardar/Datasets/Hollywood2/Hollywood2/AVIClips/actioncliptrain00776.avi,6810,precision,78.152012\\n',\n",
        "  '/nfs/bigeye/sdaptardar/Datasets/Hollywood2/Hollywood2/AVIClips/actioncliptrain00777.avi,6810,precision,77.210109\\n',\n",
        "  '/nfs/bigeye/sdaptardar/Datasets/Hollywood2/Hollywood2/AVIClips/actioncliptrain00778.avi,6810,precision,69.919360\\n',\n",
        "  '/nfs/bigeye/sdaptardar/Datasets/Hollywood2/Hollywood2/AVIClips/actioncliptrain00779.avi,6810,precision,608.851624\\n',\n",
        "  '/nfs/bigeye/sdaptardar/Datasets/Hollywood2/Hollywood2/AVIClips/actioncliptrain00780.avi,6810,precision,81.055014\\n',\n",
        "  '/nfs/bigeye/sdaptardar/Datasets/Hollywood2/Hollywood2/AVIClips/actioncliptrain00781.avi,6810,precision,127.473842\\n',\n",
        "  '/nfs/bigeye/sdaptardar/Datasets/Hollywood2/Hollywood2/AVIClips/actioncliptrain00782.avi,6810,precision,81.238767\\n',\n",
        "  '/nfs/bigeye/sdaptardar/Datasets/Hollywood2/Hollywood2/AVIClips/actioncliptrain00783.avi,6810,precision,105.007455\\n',\n",
        "  '/nfs/bigeye/sdaptardar/Datasets/Hollywood2/Hollywood2/AVIClips/actioncliptrain00784.avi,6810,precision,142.970729\\n',\n",
        "  '/nfs/bigeye/sdaptardar/Datasets/Hollywood2/Hollywood2/AVIClips/actioncliptrain00785.avi,6810,precision,177.769401\\n',\n",
        "  '/nfs/bigeye/sdaptardar/Datasets/Hollywood2/Hollywood2/AVIClips/actioncliptrain00786.avi,6810,precision,263.847922\\n',\n",
        "  '/nfs/bigeye/sdaptardar/Datasets/Hollywood2/Hollywood2/AVIClips/actioncliptrain00787.avi,6810,precision,46.726115\\n',\n",
        "  '/nfs/bigeye/sdaptardar/Datasets/Hollywood2/Hollywood2/AVIClips/actioncliptrain00788.avi,6810,precision,94.859280\\n',\n",
        "  '/nfs/bigeye/sdaptardar/Datasets/Hollywood2/Hollywood2/AVIClips/actioncliptrain00789.avi,6810,precision,97.393919\\n',\n",
        "  '/nfs/bigeye/sdaptardar/Datasets/Hollywood2/Hollywood2/AVIClips/actioncliptrain00790.avi,6810,precision,76.452611\\n',\n",
        "  '/nfs/bigeye/sdaptardar/Datasets/Hollywood2/Hollywood2/AVIClips/actioncliptrain00791.avi,6810,precision,83.228574\\n',\n",
        "  '/nfs/bigeye/sdaptardar/Datasets/Hollywood2/Hollywood2/AVIClips/actioncliptrain00792.avi,6810,precision,129.350365\\n',\n",
        "  '/nfs/bigeye/sdaptardar/Datasets/Hollywood2/Hollywood2/AVIClips/actioncliptrain00793.avi,6810,precision,76.650767\\n',\n",
        "  '/nfs/bigeye/sdaptardar/Datasets/Hollywood2/Hollywood2/AVIClips/actioncliptrain00794.avi,6810,precision,68.973849\\n',\n",
        "  '/nfs/bigeye/sdaptardar/Datasets/Hollywood2/Hollywood2/AVIClips/actioncliptrain00795.avi,6810,precision,307.210790\\n',\n",
        "  '/nfs/bigeye/sdaptardar/Datasets/Hollywood2/Hollywood2/AVIClips/actioncliptrain00796.avi,6810,precision,76.712073\\n',\n",
        "  '/nfs/bigeye/sdaptardar/Datasets/Hollywood2/Hollywood2/AVIClips/actioncliptrain00797.avi,6810,precision,35.428248\\n',\n",
        "  '/nfs/bigeye/sdaptardar/Datasets/Hollywood2/Hollywood2/AVIClips/actioncliptrain00798.avi,6810,precision,41.403748\\n',\n",
        "  '/nfs/bigeye/sdaptardar/Datasets/Hollywood2/Hollywood2/AVIClips/actioncliptrain00799.avi,6810,precision,57.526967\\n',\n",
        "  '/nfs/bigeye/sdaptardar/Datasets/Hollywood2/Hollywood2/AVIClips/actioncliptrain00800.avi,6810,precision,67.173632\\n',\n",
        "  '/nfs/bigeye/sdaptardar/Datasets/Hollywood2/Hollywood2/AVIClips/actioncliptrain00801.avi,6810,precision,245.319348\\n',\n",
        "  '/nfs/bigeye/sdaptardar/Datasets/Hollywood2/Hollywood2/AVIClips/actioncliptrain00802.avi,6810,precision,119.600406\\n',\n",
        "  '/nfs/bigeye/sdaptardar/Datasets/Hollywood2/Hollywood2/AVIClips/actioncliptrain00803.avi,6810,precision,40.193214\\n',\n",
        "  '/nfs/bigeye/sdaptardar/Datasets/Hollywood2/Hollywood2/AVIClips/actioncliptrain00804.avi,6810,precision,235.499183\\n',\n",
        "  '/nfs/bigeye/sdaptardar/Datasets/Hollywood2/Hollywood2/AVIClips/actioncliptrain00805.avi,6810,precision,39.937470\\n',\n",
        "  '/nfs/bigeye/sdaptardar/Datasets/Hollywood2/Hollywood2/AVIClips/actioncliptrain00806.avi,6810,precision,37.824876\\n',\n",
        "  '/nfs/bigeye/sdaptardar/Datasets/Hollywood2/Hollywood2/AVIClips/actioncliptrain00807.avi,6810,precision,26.802319\\n',\n",
        "  '/nfs/bigeye/sdaptardar/Datasets/Hollywood2/Hollywood2/AVIClips/actioncliptrain00808.avi,6810,precision,36.810726\\n',\n",
        "  '/nfs/bigeye/sdaptardar/Datasets/Hollywood2/Hollywood2/AVIClips/actioncliptrain00809.avi,6810,precision,37.074751\\n',\n",
        "  '/nfs/bigeye/sdaptardar/Datasets/Hollywood2/Hollywood2/AVIClips/actioncliptrain00810.avi,6810,precision,30.194972\\n',\n",
        "  '/nfs/bigeye/sdaptardar/Datasets/Hollywood2/Hollywood2/AVIClips/actioncliptrain00811.avi,6810,precision,47.224651\\n',\n",
        "  '/nfs/bigeye/sdaptardar/Datasets/Hollywood2/Hollywood2/AVIClips/actioncliptrain00812.avi,6810,precision,317.456825\\n',\n",
        "  '/nfs/bigeye/sdaptardar/Datasets/Hollywood2/Hollywood2/AVIClips/actioncliptrain00813.avi,6810,precision,153.113533\\n',\n",
        "  '/nfs/bigeye/sdaptardar/Datasets/Hollywood2/Hollywood2/AVIClips/actioncliptrain00814.avi,6810,precision,264.033499\\n',\n",
        "  '/nfs/bigeye/sdaptardar/Datasets/Hollywood2/Hollywood2/AVIClips/actioncliptrain00815.avi,6810,precision,116.254997\\n',\n",
        "  '/nfs/bigeye/sdaptardar/Datasets/Hollywood2/Hollywood2/AVIClips/actioncliptrain00816.avi,6810,precision,48.375189\\n',\n",
        "  '/nfs/bigeye/sdaptardar/Datasets/Hollywood2/Hollywood2/AVIClips/actioncliptrain00817.avi,6810,precision,668.222695\\n',\n",
        "  '/nfs/bigeye/sdaptardar/Datasets/Hollywood2/Hollywood2/AVIClips/actioncliptrain00818.avi,6810,precision,189.983726\\n',\n",
        "  '/nfs/bigeye/sdaptardar/Datasets/Hollywood2/Hollywood2/AVIClips/actioncliptrain00819.avi,6810,precision,25.581338\\n',\n",
        "  '/nfs/bigeye/sdaptardar/Datasets/Hollywood2/Hollywood2/AVIClips/actioncliptrain00820.avi,6810,precision,29.737656\\n',\n",
        "  '/nfs/bigeye/sdaptardar/Datasets/Hollywood2/Hollywood2/AVIClips/actioncliptrain00821.avi,6810,precision,28.233176\\n',\n",
        "  '/nfs/bigeye/sdaptardar/Datasets/Hollywood2/Hollywood2/AVIClips/actioncliptrain00822.avi,6810,precision,29.371367\\n',\n",
        "  '/nfs/bigeye/sdaptardar/Datasets/Hollywood2/Hollywood2/AVIClips/actioncliptrain00823.avi,6810,precision,37.720323\\n']]"
       ]
      }
     ],
     "prompt_number": 11
    },
    {
     "cell_type": "code",
     "collapsed": false,
     "input": [
      "#import time\n",
      "#while not res2.ready():\n",
      "#    time.sleep(1)\n",
      "#    print(res2.progress)"
     ],
     "language": "python",
     "metadata": {},
     "outputs": [],
     "prompt_number": 12
    },
    {
     "cell_type": "code",
     "collapsed": false,
     "input": [
      "#print('Ready: ', res2.ready())\n",
      "#print('Progress: ', res2.progress)"
     ],
     "language": "python",
     "metadata": {},
     "outputs": [],
     "prompt_number": 13
    },
    {
     "cell_type": "code",
     "collapsed": false,
     "input": [
      "#res2.result"
     ],
     "language": "python",
     "metadata": {},
     "outputs": [],
     "prompt_number": 14
    },
    {
     "cell_type": "code",
     "collapsed": false,
     "input": [],
     "language": "python",
     "metadata": {},
     "outputs": [],
     "prompt_number": 14
    }
   ],
   "metadata": {}
  }
 ]
}