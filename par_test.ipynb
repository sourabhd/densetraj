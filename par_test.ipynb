{
 "metadata": {
  "name": "",
  "signature": "sha256:e37123a1c58fa9802b7ff44aa76354fccbb7f7ee0e8bfc25c677fe388c517c0b"
 },
 "nbformat": 3,
 "nbformat_minor": 0,
 "worksheets": [
  {
   "cells": [
    {
     "cell_type": "code",
     "collapsed": false,
     "input": [
      "from IPython import parallel\n",
      "\n",
      "c = parallel.Client(profile='sge', sshserver='sdaptardar@130.245.4.230')\n",
      "view = c[:]\n",
      "c.ids"
     ],
     "language": "python",
     "metadata": {},
     "outputs": [
      {
       "metadata": {},
       "output_type": "pyout",
       "prompt_number": 87,
       "text": [
        "[0, 1, 2, 3, 4, 5, 6, 7, 8, 9, 10, 11, 12, 13, 14, 15, 16, 17]"
       ]
      }
     ],
     "prompt_number": 87
    },
    {
     "cell_type": "code",
     "collapsed": false,
     "input": [
      "%px print('Hello World!')"
     ],
     "language": "python",
     "metadata": {},
     "outputs": [],
     "prompt_number": 88
    },
    {
     "cell_type": "code",
     "collapsed": false,
     "input": [
      "%%px\n",
      "import os\n",
      "import socket\n",
      "print os.getpid()\n",
      "print socket.gethostname()"
     ],
     "language": "python",
     "metadata": {},
     "outputs": [],
     "prompt_number": 89
    },
    {
     "cell_type": "code",
     "collapsed": false,
     "input": [
      "A = 'Shared var '\n",
      "%px A = 'My var'"
     ],
     "language": "python",
     "metadata": {},
     "outputs": [],
     "prompt_number": 90
    },
    {
     "cell_type": "code",
     "collapsed": false,
     "input": [
      "def myfunc(x):\n",
      "    import os\n",
      "    import socket\n",
      "    return 'I am :', A, os.getpid(), ' on ', socket.gethostname(), ' running: ', str(x)\n",
      "    \n",
      "view.block = False\n",
      "\n",
      "part = view.scatter('part', range(24))\n",
      "print(view['part'])\n",
      "\n",
      "res = view.map(myfunc, view['part'])"
     ],
     "language": "python",
     "metadata": {},
     "outputs": [
      {
       "output_type": "stream",
       "stream": "stdout",
       "text": [
        "[[0, 1], [2, 3], [4, 5], [6, 7], [8, 9], [10, 11], [12], [13], [14], [15], [16], [17], [18], [19], [20], [21], [22], [23]]\n"
       ]
      }
     ],
     "prompt_number": 91
    },
    {
     "cell_type": "code",
     "collapsed": false,
     "input": [
      "import time\n",
      "while not res.ready():\n",
      "    time.sleep(1)\n",
      "    print res.progress"
     ],
     "language": "python",
     "metadata": {},
     "outputs": [],
     "prompt_number": 92
    },
    {
     "cell_type": "code",
     "collapsed": false,
     "input": [
      "print 'Ready: ', res.ready()\n",
      "print 'Progress: ', res.progress"
     ],
     "language": "python",
     "metadata": {},
     "outputs": [
      {
       "output_type": "stream",
       "stream": "stdout",
       "text": [
        "Ready:  True\n",
        "Progress:  18\n"
       ]
      }
     ],
     "prompt_number": 93
    },
    {
     "cell_type": "code",
     "collapsed": false,
     "input": [
      "res.result"
     ],
     "language": "python",
     "metadata": {},
     "outputs": [
      {
       "metadata": {},
       "output_type": "pyout",
       "prompt_number": 94,
       "text": [
        "[('I am :', 'My var', 13002, ' on ', 'bigvision', ' running: ', '[0, 1]'),\n",
        " ('I am :', 'My var', 13008, ' on ', 'bigvision', ' running: ', '[2, 3]'),\n",
        " ('I am :', 'My var', 13005, ' on ', 'bigvision', ' running: ', '[4, 5]'),\n",
        " ('I am :', 'My var', 13003, ' on ', 'bigvision', ' running: ', '[6, 7]'),\n",
        " ('I am :', 'My var', 13007, ' on ', 'bigvision', ' running: ', '[8, 9]'),\n",
        " ('I am :', 'My var', 13004, ' on ', 'bigvision', ' running: ', '[10, 11]'),\n",
        " ('I am :', 'My var', 13200, ' on ', 'projection', ' running: ', '[12]'),\n",
        " ('I am :', 'My var', 11571, ' on ', 'retrieval', ' running: ', '[13]'),\n",
        " ('I am :', 'My var', 7894, ' on ', 'detection', ' running: ', '[14]'),\n",
        " ('I am :', 'My var', 7898, ' on ', 'detection', ' running: ', '[15]'),\n",
        " ('I am :', 'My var', 7896, ' on ', 'detection', ' running: ', '[16]'),\n",
        " ('I am :', 'My var', 7897, ' on ', 'detection', ' running: ', '[17]'),\n",
        " ('I am :', 'My var', 7893, ' on ', 'detection', ' running: ', '[18]'),\n",
        " ('I am :', 'My var', 7895, ' on ', 'detection', ' running: ', '[19]'),\n",
        " ('I am :', 'My var', 5392, ' on ', 'recognition', ' running: ', '[20]'),\n",
        " ('I am :', 'My var', 5393, ' on ', 'recognition', ' running: ', '[21]'),\n",
        " ('I am :', 'My var', 5688, ' on ', 'precision', ' running: ', '[22]'),\n",
        " ('I am :', 'My var', 5689, ' on ', 'precision', ' running: ', '[23]')]"
       ]
      }
     ],
     "prompt_number": 94
    },
    {
     "cell_type": "code",
     "collapsed": false,
     "input": [],
     "language": "python",
     "metadata": {},
     "outputs": [],
     "prompt_number": 94
    }
   ],
   "metadata": {}
  }
 ]
}